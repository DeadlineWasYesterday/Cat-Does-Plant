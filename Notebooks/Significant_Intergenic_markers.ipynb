{
 "cells": [
  {
   "cell_type": "code",
   "execution_count": null,
   "metadata": {},
   "outputs": [],
   "source": [
    "from Bio import SeqIO\n",
    "import pandas as pd"
   ]
  },
  {
   "cell_type": "markdown",
   "metadata": {},
   "source": [
    "### `Collects and annotates significant and suggestive results from GWAS output`"
   ]
  },
  {
   "cell_type": "code",
   "execution_count": null,
   "metadata": {},
   "outputs": [],
   "source": [
    "#load annotations and blast output\n",
    "adf = pd.read_csv('BLAST/IRGSP-1.0_representative_annotation_2020-09-09.tsv', sep = '\\t')\n",
    "gdf = pd.read_csv('BLAST/BoutAllgenes.csv', header = None, sep = '\\t')\n",
    "gdf[12] = gdf[[8,9]].min(axis = 1)\n",
    "gdf[13] = gdf[[8,9]].max(axis = 1)\n",
    "gdf[1] = gdf[1].apply(lambda x: int(x[-2:]))"
   ]
  },
  {
   "cell_type": "code",
   "execution_count": null,
   "metadata": {},
   "outputs": [],
   "source": [
    "#for whole population\n",
    "sig, sug = [], []\n",
    "\n",
    "for file in os.listdir('GWAS_factory/WF2noFDR/'):\n",
    "    if file[-16:] == 'GWAS.Results.csv':\n",
    "        df = pd.read_csv('GWAS_factory/WF2noFDR/%s' %file)\n",
    "        print('Working with %s.' %file)\n",
    "        for c,p, pv in df[df['P.value'] <= 1e-5][['Chromosome', 'Position ', 'P.value']].itertuples(index = False):\n",
    "            \n",
    "            if pv <= 3.16e-7:\n",
    "                for g,s,e in gdf[gdf[1] == c][[0, 12, 13]].itertuples(index = False):\n",
    "                    if int(s) <= int(p) <= int(e):\n",
    "                        sig.append((file, g, c, p, pv))\n",
    "                    else:\n",
    "                        sig.append((file, 'None', c, p, pv))\n",
    "                        \n",
    "            else:\n",
    "                for g,s,e in gdf[gdf[1] == c][[0, 12, 13]].itertuples(index = False):\n",
    "                    if int(s) <= int(p) <= int(e):\n",
    "                        sug.append((file, g, c, p, pv))\n",
    "                    else:\n",
    "                        sug.append((file, 'None', c, p, pv))"
   ]
  },
  {
   "cell_type": "code",
   "execution_count": null,
   "metadata": {},
   "outputs": [],
   "source": [
    "sigdf = pd.DataFrame(sig)\n",
    "sugdf = pd.DataFrame(sug)\n",
    "pd.merge(sigdf, adf, left_on= 1, right_on='Transcript_ID').sort_values(0).drop_duplicates([0,1]).to_csv('BLAST/SigAnned.csv', index = False)\n",
    "pd.merge(sugdf, adf, left_on= 1, right_on='Transcript_ID').sort_values(0).drop_duplicates([0,1]).to_csv('BLAST/SugAnned.csv', index = False)"
   ]
  },
  {
   "cell_type": "code",
   "execution_count": null,
   "metadata": {},
   "outputs": [],
   "source": [
    "#for aus subpopulation\n",
    "sig, sug = [], []\n",
    "\n",
    "for file in os.listdir('GWAS_factory/WF2ausNoFDR/'): #spot\n",
    "    if file[-16:] == 'GWAS.Results.csv':\n",
    "        df = pd.read_csv('GWAS_factory/WF2ausNoFDR/%s' %file) #spot\n",
    "        print('Working with %s.' %file)\n",
    "        for c,p, pv in df[df['P.value'] <= 1e-5][['Chromosome', 'Position ', 'P.value']].itertuples(index = False):\n",
    "            \n",
    "            if pv <= 3.98e-7:\n",
    "                for g,s,e in gdf[gdf[1] == c][[0, 12, 13]].itertuples(index = False):\n",
    "                    if int(s) <= int(p) <= int(e):\n",
    "                        sig.append((file, g, c, p, pv))\n",
    "                    else:\n",
    "                        sig.append((file, 'None', c, p, pv))\n",
    "                        \n",
    "            else:\n",
    "                for g,s,e in gdf[gdf[1] == c][[0, 12, 13]].itertuples(index = False):\n",
    "                    if int(s) <= int(p) <= int(e):\n",
    "                        sug.append((file, g, c, p, pv))\n",
    "                    else:\n",
    "                        sug.append((file, 'None', c, p, pv))"
   ]
  },
  {
   "cell_type": "code",
   "execution_count": null,
   "metadata": {},
   "outputs": [],
   "source": [
    "sigdf = pd.DataFrame(sig)\n",
    "sugdf = pd.DataFrame(sug)\n",
    "pd.merge(sigdf, adf, left_on= 1, right_on='Transcript_ID').sort_values(0).drop_duplicates([0,1]).to_csv('BLAST/AusSigAnned.csv', index = False)\n",
    "pd.merge(sugdf, adf, left_on= 1, right_on='Transcript_ID').sort_values(0).drop_duplicates([0,1]).to_csv('BLAST/AusSugAnned.csv', index = False)"
   ]
  },
  {
   "cell_type": "code",
   "execution_count": null,
   "metadata": {},
   "outputs": [],
   "source": [
    "#for indica subpopulation\n",
    "sig, sug = [], []\n",
    "\n",
    "for file in os.listdir('GWAS_factory/WF2indNoFDR/'): #spot\n",
    "    if file[-16:] == 'GWAS.Results.csv':\n",
    "        df = pd.read_csv('GWAS_factory/WF2indNoFDR/%s' %file) #spot\n",
    "        print('Working with %s.' %file)\n",
    "        for c,p, pv in df[df['P.value'] <= 1e-5][['Chromosome', 'Position ', 'P.value']].itertuples(index = False):\n",
    "            \n",
    "            if pv <= 3.98e-7:\n",
    "                for g,s,e in gdf[gdf[1] == c][[0, 12, 13]].itertuples(index = False):\n",
    "                    if int(s) <= int(p) <= int(e):\n",
    "                        sig.append((file, g, c, p, pv))\n",
    "                    else:\n",
    "                        sig.append((file, 'None', c, p, pv))\n",
    "                        \n",
    "            else:\n",
    "                for g,s,e in gdf[gdf[1] == c][[0, 12, 13]].itertuples(index = False):\n",
    "                    if int(s) <= int(p) <= int(e):\n",
    "                        sug.append((file, g, c, p, pv))\n",
    "                    else:\n",
    "                        sug.append((file, 'None', c, p, pv))"
   ]
  },
  {
   "cell_type": "code",
   "execution_count": null,
   "metadata": {},
   "outputs": [],
   "source": [
    "sigdf = pd.DataFrame(sig)\n",
    "sugdf = pd.DataFrame(sug)\n",
    "pd.merge(sigdf, adf, left_on= 1, right_on='Transcript_ID').sort_values(0).drop_duplicates([0,1]).to_csv('BLAST/IndSigAnned.csv', index = False)\n",
    "pd.merge(sugdf, adf, left_on= 1, right_on='Transcript_ID').sort_values(0).drop_duplicates([0,1]).to_csv('BLAST/IndSugAnned.csv', index = False)"
   ]
  },
  {
   "cell_type": "markdown",
   "metadata": {},
   "source": [
    "### `Gathers ranges of exons in the rice genome`"
   ]
  },
  {
   "cell_type": "code",
   "execution_count": 10,
   "metadata": {},
   "outputs": [],
   "source": [
    "yd = []\n",
    "for sr in SeqIO.parse('../Data/RAP-DB/IRGSP-1.0_gene_2020-06-03.fasta', 'fasta'):\n",
    "    yd.append((sr.id, ' '.join(sr.description.split(' ')[1:])))"
   ]
  },
  {
   "cell_type": "code",
   "execution_count": 13,
   "metadata": {},
   "outputs": [],
   "source": [
    "rg = pd.DataFrame(yd)"
   ]
  },
  {
   "cell_type": "code",
   "execution_count": 16,
   "metadata": {},
   "outputs": [],
   "source": [
    "yd = []\n",
    "for sr in SeqIO.parse('../Data/RAP-DB/IRGSP-1.0_cds_2020-06-03.fasta', 'fasta'):\n",
    "    yd.append((sr.id, ' '.join(sr.description.split(' ')[1:])))"
   ]
  },
  {
   "cell_type": "code",
   "execution_count": 17,
   "metadata": {},
   "outputs": [],
   "source": [
    "rc = pd.DataFrame(yd)"
   ]
  },
  {
   "cell_type": "code",
   "execution_count": 45,
   "metadata": {},
   "outputs": [],
   "source": [
    "rc['Hypothetical'] = 0\n",
    "for i,r in rc.iterrows():\n",
    "    if 'hypothetical' in r[1].lower():\n",
    "        rc.loc[i, 'Hypothetical'] = 1"
   ]
  },
  {
   "cell_type": "code",
   "execution_count": 60,
   "metadata": {},
   "outputs": [],
   "source": [
    "for sr in SeqIO.parse('../Data/RAP-DB/IRGSP-1.0_gene_2020-06-03.fasta', 'fasta'):\n",
    "    if sr.id in rc[rc['Hypothetical'] == 0][0].to_list():\n",
    "        with open('Putative RAPDB genes.fasta', 'a') as f:\n",
    "            f.write('>%s\\n%s\\n' %(sr.description, sr.seq))"
   ]
  },
  {
   "cell_type": "code",
   "execution_count": 61,
   "metadata": {},
   "outputs": [],
   "source": [
    "for sr in SeqIO.parse('../Data/RAP-DB/IRGSP-1.0_cds_2020-06-03.fasta', 'fasta'):\n",
    "    if sr.id in rc[rc['Hypothetical'] == 0][0].to_list():\n",
    "        with open('Putative RAPDB cds.fasta', 'a') as f:\n",
    "            f.write('>%s\\n%s\\n' %(sr.description, sr.seq))"
   ]
  },
  {
   "cell_type": "code",
   "execution_count": 83,
   "metadata": {},
   "outputs": [],
   "source": [
    "df = pd.read_table('../Data/BLASTout/panvsexonsout.tsv', header = None)\n",
    "df = df[df[2] == 100].reset_index(drop = True)\n",
    "\n",
    "ndf = pd.DataFrame()\n",
    "for i in range(1,13):\n",
    "    c = 'chr' + str(i).zfill(2)\n",
    "    tdf = df[df[1] == c]\n",
    "    ndf = pd.concat([ndf,tdf], axis = 0).reset_index(drop = True)\n",
    "df = ndf\n",
    "del ndf\n",
    "df.to_csv('../Data/BLASTout/pan vs exon 100, chronly.csv', index = False)"
   ]
  }
 ],
 "metadata": {
  "kernelspec": {
   "display_name": "Python 3",
   "language": "python",
   "name": "python3"
  },
  "language_info": {
   "codemirror_mode": {
    "name": "ipython",
    "version": 3
   },
   "file_extension": ".py",
   "mimetype": "text/x-python",
   "name": "python",
   "nbconvert_exporter": "python",
   "pygments_lexer": "ipython3",
   "version": "3.8.5"
  }
 },
 "nbformat": 4,
 "nbformat_minor": 4
}
