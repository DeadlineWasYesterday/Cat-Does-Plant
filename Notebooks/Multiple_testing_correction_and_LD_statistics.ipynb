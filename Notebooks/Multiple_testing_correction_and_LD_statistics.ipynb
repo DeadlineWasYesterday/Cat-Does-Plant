{
 "cells": [
  {
   "cell_type": "markdown",
   "metadata": {},
   "source": [
    "### `Calculate LD statistics and FDR-adjusted p values for ANOVA and t tests`"
   ]
  },
  {
   "cell_type": "code",
   "execution_count": 2,
   "metadata": {},
   "outputs": [],
   "source": [
    "import numpy as np\n",
    "import pandas as pd\n",
    "import scipy.cluster.hierarchy as shc\n",
    "import scipy.stats as stats\n",
    "from statsmodels.stats.multitest import multipletests\n",
    "import matplotlib.pyplot as plt\n",
    "import seaborn as sb "
   ]
  },
  {
   "cell_type": "code",
   "execution_count": 38,
   "metadata": {},
   "outputs": [],
   "source": [
    "#prunes non-QTL markers, extends multiallelic SNPs, gets original VCF ID, generated unique MID\n",
    "df5 = pd.read_csv('../../WFc2.vcf', sep = '\\t')\n",
    "df4 = pd.read_table('../Sequence and SNP data/Bout340can.tsv', header = None)\n",
    "df4['Start'] = df4[[8,9]].min(axis = 1)\n",
    "df4['End'] = df4[[8,9]].max(axis = 1)\n",
    "t = []\n",
    "for s,e in df4[[8,9]].itertuples(index = False):\n",
    "    if s < e:\n",
    "        t.append('forward')\n",
    "    else:\n",
    "        t.append('reverse')\n",
    "df4['Strand'] = t\n",
    "\n",
    "t = []\n",
    "for c, p in df5[['#CHROM', 'POS']].itertuples(index = False):\n",
    "    f = False\n",
    "    for l,o,s,e in df4[df4[1] == c][[0, 'Strand', 'Start', 'End']].itertuples(index = False):\n",
    "        if s <= p <= e:\n",
    "            t.append((l, o, s, e))\n",
    "            f = True\n",
    "            break\n",
    "    if f == False:\n",
    "        t.append(('None', o, s, e))\n",
    "        \n",
    "df5['Gene'] = list(zip(*t))[0]\n",
    "df5['Strand'] = list(zip(*t))[1]\n",
    "df5['Start'] = list(zip(*t))[2]\n",
    "df5['End'] = list(zip(*t))[3]\n",
    "\n",
    "df5 = df5[df5['Gene'] != 'None']\n",
    "\n",
    "t = []\n",
    "for i,r in df5.iterrows():\n",
    "    if ',' in r['ALT']:\n",
    "        for a in r['ALT'].split(','):\n",
    "            r2 = r.copy()\n",
    "            r2.loc['ALT'] = a\n",
    "            t.append(r2)\n",
    "    else:\n",
    "        t.append(r)\n",
    "        \n",
    "df6 = pd.DataFrame(t)\n",
    "df6 = df6.applymap(lambda x: 0 if x == '0/0' else x).applymap(lambda x: str(x).count('/0') if '/0' in str(x) else x).applymap(lambda x: str(x).count('0/') if '0/' in str(x) else x).applymap(lambda x: 2 if '/' in str(x) else x)"
   ]
  },
  {
   "cell_type": "code",
   "execution_count": 41,
   "metadata": {},
   "outputs": [],
   "source": [
    "df6.drop(columns = ['Gene', 'Strand', 'Start', 'End'])#.to_csv('../../WFC2L.vcf', sep = '\\t', index = False)"
   ]
  },
  {
   "cell_type": "code",
   "execution_count": null,
   "metadata": {},
   "outputs": [],
   "source": [
    "#Benjamini-Hochberg FDR correction"
   ]
  },
  {
   "cell_type": "code",
   "execution_count": 11,
   "metadata": {},
   "outputs": [],
   "source": [
    "df = pd.read_csv('../../WFC2L.vcf', sep = '\\t')"
   ]
  },
  {
   "cell_type": "code",
   "execution_count": 5,
   "metadata": {},
   "outputs": [],
   "source": [
    "df2 = pd.read_csv('../One-way ANOVA.csv')"
   ]
  },
  {
   "cell_type": "code",
   "execution_count": 8,
   "metadata": {},
   "outputs": [],
   "source": [
    "df3 = pd.read_csv('../t-test.csv')"
   ]
  },
  {
   "cell_type": "code",
   "execution_count": 9,
   "metadata": {},
   "outputs": [],
   "source": [
    "df2['FDR adjusted p value'] = multipletests(df2['p value'], alpha=0.01, method='fdr_bh', returnsorted=True)[1]\n",
    "df3['FDR adjusted p value'] = multipletests(df3['p value'], alpha=0.01, method='fdr_bh', returnsorted=True)[1]"
   ]
  },
  {
   "cell_type": "code",
   "execution_count": 10,
   "metadata": {},
   "outputs": [],
   "source": [
    "#df2.to_csv('One-way ANOVA for qq.csv', index = False)\n",
    "#df3.to_csv('t-test for qq.csv', index = False)"
   ]
  },
  {
   "cell_type": "code",
   "execution_count": 12,
   "metadata": {},
   "outputs": [],
   "source": [
    "df4 = df2[df2['FDR adjusted p value'] < 0.01]"
   ]
  },
  {
   "cell_type": "code",
   "execution_count": 13,
   "metadata": {},
   "outputs": [],
   "source": [
    "df5 = df3[df3['FDR adjusted p value'] < 0.01]"
   ]
  },
  {
   "cell_type": "code",
   "execution_count": 14,
   "metadata": {},
   "outputs": [],
   "source": [
    "#df4.to_csv('../Figures and tables/S9 Table One-way ANOVA results.csv', index = False)\n",
    "#df5.to_csv('../Figures and tables/S10 Table Students t test results.csv', index = False )"
   ]
  },
  {
   "cell_type": "code",
   "execution_count": null,
   "metadata": {},
   "outputs": [],
   "source": [
    "#LD statistics"
   ]
  },
  {
   "cell_type": "code",
   "execution_count": 12,
   "metadata": {},
   "outputs": [],
   "source": [
    "df6 = pd.read_excel('../Figures and tables/Table 4 Frameshift and nonsense mutants.xlsx')"
   ]
  },
  {
   "cell_type": "code",
   "execution_count": 13,
   "metadata": {},
   "outputs": [],
   "source": [
    "df7 = pd.read_csv('../Figures and tables/S12 Table All SNP substitution effects.csv')[['ID', 'Effect', 'MID', 'QTL']]"
   ]
  },
  {
   "cell_type": "code",
   "execution_count": 14,
   "metadata": {
    "scrolled": true
   },
   "outputs": [],
   "source": [
    "df7 = df7[df7['Effect'] == 'synonymous']"
   ]
  },
  {
   "cell_type": "code",
   "execution_count": 65,
   "metadata": {},
   "outputs": [],
   "source": [
    "#marker LD and mean QTL LD \n",
    "l = []\n",
    "dists = []\n",
    "for eyed in df6['MID'].to_list():\n",
    "    q = df6[df6['MID'] == eyed]['QTL'].to_list()[0]\n",
    "    tl = df7[(df7['QTL'] == q)]['MID'].to_list()\n",
    "    tl.append(eyed)\n",
    "    tdf = df.loc[tl, :]\n",
    "    mean = (tdf.iloc[:,9:].transpose().corr() **2).mean(axis = 1).mean()\n",
    "    marker = (tdf.iloc[:,9:].transpose().corr() **2)[tdf[tdf['MID'] == eyed].index[0]].mean()\n",
    "\n",
    "    l.append((eyed, marker, mean))"
   ]
  },
  {
   "cell_type": "code",
   "execution_count": 104,
   "metadata": {},
   "outputs": [],
   "source": [
    "q = df6[df6['MID'] == eyed]['QTL'].to_list()[0]"
   ]
  },
  {
   "cell_type": "code",
   "execution_count": 66,
   "metadata": {},
   "outputs": [],
   "source": [
    "pd.DataFrame(l).to_clipboard()"
   ]
  }
 ],
 "metadata": {
  "kernelspec": {
   "display_name": "Python 3",
   "language": "python",
   "name": "python3"
  },
  "language_info": {
   "codemirror_mode": {
    "name": "ipython",
    "version": 3
   },
   "file_extension": ".py",
   "mimetype": "text/x-python",
   "name": "python",
   "nbconvert_exporter": "python",
   "pygments_lexer": "ipython3",
   "version": "3.8.5"
  }
 },
 "nbformat": 4,
 "nbformat_minor": 4
}
