{
 "cells": [
  {
   "cell_type": "markdown",
   "metadata": {},
   "source": [
    "### `Determines substitution effects of all significant markers`"
   ]
  },
  {
   "cell_type": "code",
   "execution_count": 39,
   "metadata": {},
   "outputs": [],
   "source": [
    "import numpy as np\n",
    "import pandas as pd\n",
    "import researchpy as rp\n",
    "import scipy.stats as stats\n",
    "from scipy.stats import shapiro\n",
    "from statsmodels.stats.multicomp import pairwise_tukeyhsd\n",
    "from Bio import SeqIO\n",
    "from Bio.SeqRecord import SeqRecord\n",
    "from Bio.Seq import Seq\n",
    "from Bio.Alphabet import generic_dna"
   ]
  },
  {
   "cell_type": "code",
   "execution_count": null,
   "metadata": {},
   "outputs": [],
   "source": [
    "#make candidate genes table"
   ]
  },
  {
   "cell_type": "code",
   "execution_count": 1157,
   "metadata": {},
   "outputs": [],
   "source": [
    "df = pd.read_excel('../Figures and tables/Candidate genes.xlsx')"
   ]
  },
  {
   "cell_type": "code",
   "execution_count": 1158,
   "metadata": {},
   "outputs": [],
   "source": [
    "df2 = pd.read_csv('../Figures and tables/Expression dendogram 10 clusters.csv')"
   ]
  },
  {
   "cell_type": "code",
   "execution_count": 1159,
   "metadata": {},
   "outputs": [],
   "source": [
    "df2 = pd.merge(df,df2, how = 'right').fillna('No')"
   ]
  },
  {
   "cell_type": "code",
   "execution_count": 1160,
   "metadata": {},
   "outputs": [],
   "source": [
    "df3 = pd.read_table('../../Data/MSU7/all.locus_brief_info.7.0').drop_duplicates(['locus', 'annotation'])[['locus', 'annotation']]"
   ]
  },
  {
   "cell_type": "code",
   "execution_count": 1161,
   "metadata": {},
   "outputs": [],
   "source": [
    "df3 = pd.merge(df2, df3, left_on = 'Locus ID', right_on = 'locus')"
   ]
  },
  {
   "cell_type": "code",
   "execution_count": 1068,
   "metadata": {},
   "outputs": [],
   "source": [
    "#write table\n",
    "df3[['Locus ID', 'QTL', 'annotation', 'Functionally annotated', 'Outlier in expression', 'Expression cluster',\n",
    "    'Special interest']].to_csv('../Figures and tables/All candidate genes.csv', index = False)"
   ]
  },
  {
   "cell_type": "code",
   "execution_count": 1070,
   "metadata": {},
   "outputs": [],
   "source": [
    "#make fasta\n",
    "for sr in SeqIO.parse('../../Data/MSU7/all.seq', 'fasta'):\n",
    "    if sr.id in df3['Locus ID'].to_list():\n",
    "        with open('../Sequence and SNP data/340 candidate genes.fasta', 'a') as f:\n",
    "            f.write('>%s\\n%s\\n' %(sr.description, sr.seq))"
   ]
  },
  {
   "cell_type": "code",
   "execution_count": 1072,
   "metadata": {
    "scrolled": true
   },
   "outputs": [
    {
     "name": "stdout",
     "output_type": "stream",
     "text": [
      "340\n"
     ]
    }
   ],
   "source": [
    "#test fasta\n",
    "c = 0\n",
    "for sr in SeqIO.parse('../Sequence and SNP data/340 candidate genes.fasta', 'fasta'):\n",
    "    c+=1\n",
    "print(c)"
   ]
  },
  {
   "cell_type": "code",
   "execution_count": null,
   "metadata": {},
   "outputs": [],
   "source": [
    "#gonna go over to run blast and return with blast output"
   ]
  },
  {
   "cell_type": "code",
   "execution_count": 1162,
   "metadata": {},
   "outputs": [],
   "source": [
    "df4 = pd.read_table('../Sequence and SNP data/Bout340can.tsv', header = None)\n",
    "df4['Start'] = df4[[8,9]].min(axis = 1)\n",
    "df4['End'] = df4[[8,9]].max(axis = 1)\n",
    "t = []\n",
    "for s,e in df4[[8,9]].itertuples(index = False):\n",
    "    if s < e:\n",
    "        t.append('forward')\n",
    "    else:\n",
    "        t.append('reverse')\n",
    "df4['Strand'] = t"
   ]
  },
  {
   "cell_type": "code",
   "execution_count": 1163,
   "metadata": {},
   "outputs": [
    {
     "data": {
      "text/html": [
       "<div>\n",
       "<style scoped>\n",
       "    .dataframe tbody tr th:only-of-type {\n",
       "        vertical-align: middle;\n",
       "    }\n",
       "\n",
       "    .dataframe tbody tr th {\n",
       "        vertical-align: top;\n",
       "    }\n",
       "\n",
       "    .dataframe thead th {\n",
       "        text-align: right;\n",
       "    }\n",
       "</style>\n",
       "<table border=\"1\" class=\"dataframe\">\n",
       "  <thead>\n",
       "    <tr style=\"text-align: right;\">\n",
       "      <th></th>\n",
       "      <th>0</th>\n",
       "      <th>1</th>\n",
       "      <th>2</th>\n",
       "      <th>3</th>\n",
       "      <th>4</th>\n",
       "      <th>5</th>\n",
       "      <th>6</th>\n",
       "      <th>7</th>\n",
       "      <th>8</th>\n",
       "      <th>9</th>\n",
       "      <th>10</th>\n",
       "      <th>11</th>\n",
       "      <th>Start</th>\n",
       "      <th>End</th>\n",
       "      <th>Strand</th>\n",
       "    </tr>\n",
       "  </thead>\n",
       "  <tbody>\n",
       "    <tr>\n",
       "      <th>47</th>\n",
       "      <td>LOC_Os02g15178</td>\n",
       "      <td>chr02</td>\n",
       "      <td>100.000</td>\n",
       "      <td>2139</td>\n",
       "      <td>0</td>\n",
       "      <td>0</td>\n",
       "      <td>1</td>\n",
       "      <td>2139</td>\n",
       "      <td>8460664</td>\n",
       "      <td>8458526</td>\n",
       "      <td>0.000000e+00</td>\n",
       "      <td>3951</td>\n",
       "      <td>8458526</td>\n",
       "      <td>8460664</td>\n",
       "      <td>reverse</td>\n",
       "    </tr>\n",
       "    <tr>\n",
       "      <th>48</th>\n",
       "      <td>LOC_Os02g15178</td>\n",
       "      <td>chr02</td>\n",
       "      <td>100.000</td>\n",
       "      <td>2139</td>\n",
       "      <td>0</td>\n",
       "      <td>0</td>\n",
       "      <td>1</td>\n",
       "      <td>2139</td>\n",
       "      <td>8465035</td>\n",
       "      <td>8467173</td>\n",
       "      <td>0.000000e+00</td>\n",
       "      <td>3951</td>\n",
       "      <td>8465035</td>\n",
       "      <td>8467173</td>\n",
       "      <td>forward</td>\n",
       "    </tr>\n",
       "    <tr>\n",
       "      <th>122</th>\n",
       "      <td>LOC_Os05g30410</td>\n",
       "      <td>chr05</td>\n",
       "      <td>100.000</td>\n",
       "      <td>333</td>\n",
       "      <td>0</td>\n",
       "      <td>0</td>\n",
       "      <td>1</td>\n",
       "      <td>333</td>\n",
       "      <td>17627376</td>\n",
       "      <td>17627044</td>\n",
       "      <td>4.060000e-175</td>\n",
       "      <td>616</td>\n",
       "      <td>17627044</td>\n",
       "      <td>17627376</td>\n",
       "      <td>reverse</td>\n",
       "    </tr>\n",
       "    <tr>\n",
       "      <th>123</th>\n",
       "      <td>LOC_Os05g30410</td>\n",
       "      <td>chr04</td>\n",
       "      <td>93.994</td>\n",
       "      <td>333</td>\n",
       "      <td>20</td>\n",
       "      <td>0</td>\n",
       "      <td>1</td>\n",
       "      <td>333</td>\n",
       "      <td>33855052</td>\n",
       "      <td>33854720</td>\n",
       "      <td>9.160000e-142</td>\n",
       "      <td>505</td>\n",
       "      <td>33854720</td>\n",
       "      <td>33855052</td>\n",
       "      <td>reverse</td>\n",
       "    </tr>\n",
       "    <tr>\n",
       "      <th>144</th>\n",
       "      <td>LOC_Os06g35574</td>\n",
       "      <td>chr06</td>\n",
       "      <td>100.000</td>\n",
       "      <td>898</td>\n",
       "      <td>0</td>\n",
       "      <td>0</td>\n",
       "      <td>1</td>\n",
       "      <td>898</td>\n",
       "      <td>20761602</td>\n",
       "      <td>20760705</td>\n",
       "      <td>0.000000e+00</td>\n",
       "      <td>1659</td>\n",
       "      <td>20760705</td>\n",
       "      <td>20761602</td>\n",
       "      <td>reverse</td>\n",
       "    </tr>\n",
       "    <tr>\n",
       "      <th>145</th>\n",
       "      <td>LOC_Os06g35574</td>\n",
       "      <td>chr03</td>\n",
       "      <td>85.761</td>\n",
       "      <td>927</td>\n",
       "      <td>88</td>\n",
       "      <td>31</td>\n",
       "      <td>1</td>\n",
       "      <td>898</td>\n",
       "      <td>31959677</td>\n",
       "      <td>31960588</td>\n",
       "      <td>0.000000e+00</td>\n",
       "      <td>941</td>\n",
       "      <td>31959677</td>\n",
       "      <td>31960588</td>\n",
       "      <td>forward</td>\n",
       "    </tr>\n",
       "    <tr>\n",
       "      <th>206</th>\n",
       "      <td>LOC_Os09g15350</td>\n",
       "      <td>chr09</td>\n",
       "      <td>100.000</td>\n",
       "      <td>2370</td>\n",
       "      <td>0</td>\n",
       "      <td>0</td>\n",
       "      <td>1</td>\n",
       "      <td>2370</td>\n",
       "      <td>9385267</td>\n",
       "      <td>9387636</td>\n",
       "      <td>0.000000e+00</td>\n",
       "      <td>4377</td>\n",
       "      <td>9385267</td>\n",
       "      <td>9387636</td>\n",
       "      <td>forward</td>\n",
       "    </tr>\n",
       "    <tr>\n",
       "      <th>207</th>\n",
       "      <td>LOC_Os09g15350</td>\n",
       "      <td>chr05</td>\n",
       "      <td>98.819</td>\n",
       "      <td>2370</td>\n",
       "      <td>13</td>\n",
       "      <td>2</td>\n",
       "      <td>1</td>\n",
       "      <td>2370</td>\n",
       "      <td>17778572</td>\n",
       "      <td>17776218</td>\n",
       "      <td>0.000000e+00</td>\n",
       "      <td>4207</td>\n",
       "      <td>17776218</td>\n",
       "      <td>17778572</td>\n",
       "      <td>reverse</td>\n",
       "    </tr>\n",
       "    <tr>\n",
       "      <th>318</th>\n",
       "      <td>LOC_Os12g28137</td>\n",
       "      <td>chr12</td>\n",
       "      <td>100.000</td>\n",
       "      <td>1987</td>\n",
       "      <td>0</td>\n",
       "      <td>0</td>\n",
       "      <td>1</td>\n",
       "      <td>1987</td>\n",
       "      <td>16616739</td>\n",
       "      <td>16618725</td>\n",
       "      <td>0.000000e+00</td>\n",
       "      <td>3670</td>\n",
       "      <td>16616739</td>\n",
       "      <td>16618725</td>\n",
       "      <td>forward</td>\n",
       "    </tr>\n",
       "    <tr>\n",
       "      <th>319</th>\n",
       "      <td>LOC_Os12g28137</td>\n",
       "      <td>chr12</td>\n",
       "      <td>100.000</td>\n",
       "      <td>1987</td>\n",
       "      <td>0</td>\n",
       "      <td>0</td>\n",
       "      <td>1</td>\n",
       "      <td>1987</td>\n",
       "      <td>16640708</td>\n",
       "      <td>16642694</td>\n",
       "      <td>0.000000e+00</td>\n",
       "      <td>3670</td>\n",
       "      <td>16640708</td>\n",
       "      <td>16642694</td>\n",
       "      <td>forward</td>\n",
       "    </tr>\n",
       "    <tr>\n",
       "      <th>320</th>\n",
       "      <td>LOC_Os12g28177</td>\n",
       "      <td>chr12</td>\n",
       "      <td>100.000</td>\n",
       "      <td>1892</td>\n",
       "      <td>0</td>\n",
       "      <td>0</td>\n",
       "      <td>1</td>\n",
       "      <td>1892</td>\n",
       "      <td>16616834</td>\n",
       "      <td>16618725</td>\n",
       "      <td>0.000000e+00</td>\n",
       "      <td>3494</td>\n",
       "      <td>16616834</td>\n",
       "      <td>16618725</td>\n",
       "      <td>forward</td>\n",
       "    </tr>\n",
       "    <tr>\n",
       "      <th>321</th>\n",
       "      <td>LOC_Os12g28177</td>\n",
       "      <td>chr12</td>\n",
       "      <td>100.000</td>\n",
       "      <td>1892</td>\n",
       "      <td>0</td>\n",
       "      <td>0</td>\n",
       "      <td>1</td>\n",
       "      <td>1892</td>\n",
       "      <td>16640803</td>\n",
       "      <td>16642694</td>\n",
       "      <td>0.000000e+00</td>\n",
       "      <td>3494</td>\n",
       "      <td>16640803</td>\n",
       "      <td>16642694</td>\n",
       "      <td>forward</td>\n",
       "    </tr>\n",
       "  </tbody>\n",
       "</table>\n",
       "</div>"
      ],
      "text/plain": [
       "                  0      1        2     3   4   5  6     7         8  \\\n",
       "47   LOC_Os02g15178  chr02  100.000  2139   0   0  1  2139   8460664   \n",
       "48   LOC_Os02g15178  chr02  100.000  2139   0   0  1  2139   8465035   \n",
       "122  LOC_Os05g30410  chr05  100.000   333   0   0  1   333  17627376   \n",
       "123  LOC_Os05g30410  chr04   93.994   333  20   0  1   333  33855052   \n",
       "144  LOC_Os06g35574  chr06  100.000   898   0   0  1   898  20761602   \n",
       "145  LOC_Os06g35574  chr03   85.761   927  88  31  1   898  31959677   \n",
       "206  LOC_Os09g15350  chr09  100.000  2370   0   0  1  2370   9385267   \n",
       "207  LOC_Os09g15350  chr05   98.819  2370  13   2  1  2370  17778572   \n",
       "318  LOC_Os12g28137  chr12  100.000  1987   0   0  1  1987  16616739   \n",
       "319  LOC_Os12g28137  chr12  100.000  1987   0   0  1  1987  16640708   \n",
       "320  LOC_Os12g28177  chr12  100.000  1892   0   0  1  1892  16616834   \n",
       "321  LOC_Os12g28177  chr12  100.000  1892   0   0  1  1892  16640803   \n",
       "\n",
       "            9             10    11     Start       End   Strand  \n",
       "47    8458526   0.000000e+00  3951   8458526   8460664  reverse  \n",
       "48    8467173   0.000000e+00  3951   8465035   8467173  forward  \n",
       "122  17627044  4.060000e-175   616  17627044  17627376  reverse  \n",
       "123  33854720  9.160000e-142   505  33854720  33855052  reverse  \n",
       "144  20760705   0.000000e+00  1659  20760705  20761602  reverse  \n",
       "145  31960588   0.000000e+00   941  31959677  31960588  forward  \n",
       "206   9387636   0.000000e+00  4377   9385267   9387636  forward  \n",
       "207  17776218   0.000000e+00  4207  17776218  17778572  reverse  \n",
       "318  16618725   0.000000e+00  3670  16616739  16618725  forward  \n",
       "319  16642694   0.000000e+00  3670  16640708  16642694  forward  \n",
       "320  16618725   0.000000e+00  3494  16616834  16618725  forward  \n",
       "321  16642694   0.000000e+00  3494  16640803  16642694  forward  "
      ]
     },
     "execution_count": 1163,
     "metadata": {},
     "output_type": "execute_result"
    }
   ],
   "source": [
    "df4[df4[0].duplicated(keep = False)]"
   ]
  },
  {
   "cell_type": "code",
   "execution_count": 1164,
   "metadata": {},
   "outputs": [],
   "source": [
    "#fix nonlocus hits\n",
    "df5 = df4.loc[[123, 145, 207],:].copy()\n",
    "df5.to_csv('../Figures and tables/Nonloci Bhits.csv', index = False)"
   ]
  },
  {
   "cell_type": "code",
   "execution_count": null,
   "metadata": {},
   "outputs": [],
   "source": [
    "#get marker range"
   ]
  },
  {
   "cell_type": "code",
   "execution_count": 1165,
   "metadata": {},
   "outputs": [],
   "source": [
    "df4 = df4.drop(index = [123,145,207])"
   ]
  },
  {
   "cell_type": "code",
   "execution_count": 1166,
   "metadata": {},
   "outputs": [],
   "source": [
    "df4 = pd.merge(df4, df3[['Locus ID', 'QTL']], left_on = 0, right_on = 'Locus ID')[[0, 1, 'Start', 'End', 'Strand', 'QTL']]"
   ]
  },
  {
   "cell_type": "code",
   "execution_count": 1167,
   "metadata": {
    "scrolled": true
   },
   "outputs": [],
   "source": [
    "df5 = pd.concat([df4.groupby('QTL').min()['Start'], df4.groupby('QTL').max()['End']], axis = 1)"
   ]
  },
  {
   "cell_type": "code",
   "execution_count": 1168,
   "metadata": {},
   "outputs": [],
   "source": [
    "df5 = pd.merge(df5.reset_index(), df4[['QTL', 1]].drop_duplicates())"
   ]
  },
  {
   "cell_type": "code",
   "execution_count": 1115,
   "metadata": {},
   "outputs": [],
   "source": [
    "df5.to_csv('../Sequence and SNP data/340can range.csv', index = False)"
   ]
  },
  {
   "cell_type": "code",
   "execution_count": null,
   "metadata": {},
   "outputs": [],
   "source": [
    "#Filter sliced VCF file"
   ]
  },
  {
   "cell_type": "code",
   "execution_count": 1169,
   "metadata": {},
   "outputs": [],
   "source": [
    "df5 = pd.read_csv('../../WFC2.vcf', sep = '\\t')[['#CHROM', 'POS', 'ID', 'REF', 'ALT']]"
   ]
  },
  {
   "cell_type": "code",
   "execution_count": 1170,
   "metadata": {},
   "outputs": [],
   "source": [
    "t = []\n",
    "for c, p in df5[['#CHROM', 'POS']].itertuples(index = False):\n",
    "    f = False\n",
    "    for l,o,s,e in df4[df4[1] == c][[0, 'Strand', 'Start', 'End']].itertuples(index = False):\n",
    "        if s <= p <= e:\n",
    "            t.append((l, o, s, e))\n",
    "            f = True\n",
    "            break\n",
    "    if f == False:\n",
    "        t.append(('None', o, s, e))"
   ]
  },
  {
   "cell_type": "code",
   "execution_count": 1171,
   "metadata": {},
   "outputs": [],
   "source": [
    "df5['Gene'] = list(zip(*t))[0]\n",
    "df5['Strand'] = list(zip(*t))[1]\n",
    "df5['Start'] = list(zip(*t))[2]\n",
    "df5['End'] = list(zip(*t))[3]"
   ]
  },
  {
   "cell_type": "code",
   "execution_count": 1172,
   "metadata": {},
   "outputs": [],
   "source": [
    "df5 = df5[df5['Gene'] != 'None']"
   ]
  },
  {
   "cell_type": "code",
   "execution_count": 187,
   "metadata": {},
   "outputs": [],
   "source": [
    "#don't run\n",
    "ds = []\n",
    "for sr in SeqIO.parse('../../Data/RAP-DB/IRGSP-1.0_genome.fasta', 'fasta'):\n",
    "    tdf = df5[df5['#CHROM'] == sr.id]\n",
    "    tdf = tdf.drop_duplicates(['Gene', 'Start', 'End'])\n",
    "    for r,p,g,s,s2,e in tdf[['REF', 'POS', 'Gene', 'Strand', 'Start', 'End']].itertuples(index = False):\n",
    "        assert sr.seq[p-1].lower() == r[0].lower()        \n",
    "        if s == 'forward':\n",
    "            ds.append(SeqRecord(sr.seq[(s2-1):e], id = g + '_' + str(s2)))\n",
    "        else:\n",
    "            ds.append(SeqRecord(sr.seq[(s2-1):e].reverse_complement(), id = g + '_' + str(s2)))\n",
    "with open('extracted_candidates.fasta', 'w') as f:\n",
    "    SeqIO.write(ds, f, 'fasta')"
   ]
  },
  {
   "cell_type": "code",
   "execution_count": 1134,
   "metadata": {},
   "outputs": [
    {
     "name": "stdout",
     "output_type": "stream",
     "text": [
      "340\n"
     ]
    }
   ],
   "source": [
    "#test\n",
    "c = 0\n",
    "for sr in SeqIO.parse('../Sequence and SNP data/340 candidate genes.fasta', 'fasta'):\n",
    "    if sr.id not in df4[0].to_list():\n",
    "        print(sr.id)\n",
    "    c+=1\n",
    "print(c)"
   ]
  },
  {
   "cell_type": "code",
   "execution_count": null,
   "metadata": {},
   "outputs": [],
   "source": [
    "#annotate blast hits"
   ]
  },
  {
   "cell_type": "code",
   "execution_count": 1249,
   "metadata": {},
   "outputs": [],
   "source": [
    "df6 = pd.read_table('../../Data/MSU7/all.locus_brief_info.7.0')"
   ]
  },
  {
   "cell_type": "code",
   "execution_count": 1250,
   "metadata": {},
   "outputs": [],
   "source": [
    "df6 = df6[df6['is_expressed'] == 'Y']"
   ]
  },
  {
   "cell_type": "code",
   "execution_count": 1186,
   "metadata": {},
   "outputs": [],
   "source": [
    "df6r = df6[df6['is_representative'] == 'Y']"
   ]
  },
  {
   "cell_type": "code",
   "execution_count": 1188,
   "metadata": {},
   "outputs": [],
   "source": [
    "df6nr = df6[df6['is_representative'] == 'N']"
   ]
  },
  {
   "cell_type": "code",
   "execution_count": 1189,
   "metadata": {
    "collapsed": true
   },
   "outputs": [
    {
     "name": "stdout",
     "output_type": "stream",
     "text": [
      "LOC_Os03g03470\n",
      "LOC_Os03g03470\n",
      "LOC_Os03g03610\n",
      "LOC_Os03g29350\n",
      "LOC_Os05g30280\n",
      "LOC_Os05g30400\n",
      "LOC_Os05g30400\n",
      "LOC_Os07g36600\n",
      "LOC_Os07g37580\n",
      "LOC_Os08g43360\n",
      "LOC_Os09g15430\n",
      "LOC_Os09g15430\n",
      "LOC_Os09g34280\n",
      "LOC_Os09g34280\n",
      "LOC_Os09g34310\n",
      "LOC_Os09g34850\n",
      "LOC_Os10g35030\n",
      "LOC_Os10g35070\n",
      "LOC_Os10g35110\n",
      "LOC_Os12g41650\n",
      "LOC_Os12g41650\n",
      "LOC_Os12g41710\n",
      "LOC_Os12g41710\n"
     ]
    }
   ],
   "source": [
    "#non representative hits\n",
    "for l in df6nr['locus'][df6nr['locus'].duplicated()].to_list():\n",
    "    if l in df4[0].to_list():\n",
    "        print(l)"
   ]
  },
  {
   "cell_type": "code",
   "execution_count": 1292,
   "metadata": {},
   "outputs": [],
   "source": [
    "df7 = pd.merge(df4,df6[['locus', 'model']], left_on = 0, right_on = 'locus')"
   ]
  },
  {
   "cell_type": "code",
   "execution_count": 1293,
   "metadata": {},
   "outputs": [],
   "source": [
    "df7 = df7.drop_duplicates(['locus', 'model'])"
   ]
  },
  {
   "cell_type": "code",
   "execution_count": 1227,
   "metadata": {},
   "outputs": [],
   "source": [
    "#check if all models are present\n",
    "t = []\n",
    "for sr in SeqIO.parse('../../Data/MSU7/all.cds', 'fasta'):\n",
    "    t.append(sr.id)\n",
    "for m in df7['model'].to_list():\n",
    "    if m not in t:\n",
    "        print(m)"
   ]
  },
  {
   "cell_type": "code",
   "execution_count": 1236,
   "metadata": {},
   "outputs": [],
   "source": [
    "#isolate all candidate cdses\n",
    "t = []\n",
    "for sr in SeqIO.parse('../../Data/MSU7/all.cds', 'fasta'):\n",
    "    t.append((sr.id, sr.description, sr.seq))"
   ]
  },
  {
   "cell_type": "code",
   "execution_count": 1237,
   "metadata": {},
   "outputs": [],
   "source": [
    "#write all candidate cdses\n",
    "with open('../Sequence and SNP data/427 candidate cds.fasta', 'a') as f:\n",
    "    for r in t:\n",
    "        if r[0] in df7['model'].to_list():\n",
    "            f.write('>%s\\n%s\\n' %(r[1], r[2]))"
   ]
  },
  {
   "cell_type": "code",
   "execution_count": 1238,
   "metadata": {},
   "outputs": [
    {
     "name": "stdout",
     "output_type": "stream",
     "text": [
      "427\n"
     ]
    }
   ],
   "source": [
    "#test\n",
    "c = 0\n",
    "for sr in SeqIO.parse('../Sequence and SNP data/427 candidate cds.fasta', 'fasta'):\n",
    "    c+=1\n",
    "print(c)"
   ]
  },
  {
   "cell_type": "code",
   "execution_count": null,
   "metadata": {},
   "outputs": [],
   "source": [
    "#take a trip to beautiful intron masker"
   ]
  },
  {
   "cell_type": "code",
   "execution_count": 1294,
   "metadata": {},
   "outputs": [],
   "source": [
    "t3 = []\n",
    "for sr in SeqIO.parse('../Sequence and SNP data/427extracted_genes_noint.fasta', 'fasta'):\n",
    "    t3.append((sr.id, sr.seq))"
   ]
  },
  {
   "cell_type": "code",
   "execution_count": 1295,
   "metadata": {},
   "outputs": [],
   "source": [
    "#drop sequence duplicates\n",
    "df8 = pd.DataFrame(t3).drop_duplicates(1)"
   ]
  },
  {
   "cell_type": "code",
   "execution_count": 1243,
   "metadata": {},
   "outputs": [],
   "source": [
    "#write unique sequences\n",
    "for i,s in df7.itertuples(index = False):\n",
    "    with open('../Sequence and SNP data/392 unique candidates.fasta', 'a') as f:\n",
    "        f.write('>%s\\n%s\\n' % (i, str(s)))"
   ]
  },
  {
   "cell_type": "code",
   "execution_count": 1244,
   "metadata": {},
   "outputs": [
    {
     "name": "stdout",
     "output_type": "stream",
     "text": [
      "392\n"
     ]
    }
   ],
   "source": [
    "#test\n",
    "c = 0\n",
    "for sr in SeqIO.parse('../Sequence and SNP data/392 unique candidates.fasta', 'fasta'): \n",
    "    c+=1\n",
    "print(c)"
   ]
  },
  {
   "cell_type": "code",
   "execution_count": 1300,
   "metadata": {},
   "outputs": [],
   "source": [
    "#annotate\n",
    "df7 = pd.merge(df5, df7[['QTL', 'locus', 'model']], left_on = 'Gene', right_on = 'locus').drop(columns = ['locus'])"
   ]
  },
  {
   "cell_type": "code",
   "execution_count": 1302,
   "metadata": {
    "scrolled": true
   },
   "outputs": [],
   "source": [
    "#get position in gene\n",
    "df7['Gene POS'] = df7['POS'] - df7['Start']"
   ]
  },
  {
   "cell_type": "code",
   "execution_count": 1303,
   "metadata": {},
   "outputs": [],
   "source": [
    "#make unique identifier\n",
    "t = []\n",
    "for sr in SeqIO.parse('../Sequence and SNP data/392 unique candidates.fasta', 'fasta'):\n",
    "    t.append((sr.id, sr.seq))\n",
    "df8 = pd.DataFrame(t, columns = ['Hit key', 'Gene Seq'])"
   ]
  },
  {
   "cell_type": "code",
   "execution_count": 1304,
   "metadata": {},
   "outputs": [],
   "source": [
    "df7 = df7.rename(columns = {'model' : 'Hit key'})"
   ]
  },
  {
   "cell_type": "code",
   "execution_count": 1307,
   "metadata": {},
   "outputs": [],
   "source": [
    "df8 = pd.merge(df7,df8)"
   ]
  },
  {
   "cell_type": "code",
   "execution_count": 1309,
   "metadata": {},
   "outputs": [],
   "source": [
    "#get reverse complements for genes from reverse strand\n",
    "t = [] \n",
    "for s, sq in df8[['Strand', 'Gene Seq']].itertuples(index = False):\n",
    "    if s == 'reverse':\n",
    "        t.append(sq.reverse_complement())\n",
    "    else:\n",
    "        t.append(sq)\n",
    "df8['5to3 seq'] = t"
   ]
  },
  {
   "cell_type": "code",
   "execution_count": null,
   "metadata": {},
   "outputs": [],
   "source": []
  },
  {
   "cell_type": "code",
   "execution_count": 1327,
   "metadata": {
    "collapsed": true
   },
   "outputs": [
    {
     "name": "stdout",
     "output_type": "stream",
     "text": [
      "g c LOC_Os01g66030.2\n",
      "c a LOC_Os02g14860.1\n",
      "c g LOC_Os02g14860.1\n",
      "a c LOC_Os07g36600.1\n",
      "t g LOC_Os07g36600.1\n",
      "t g LOC_Os07g36600.1\n",
      "a g LOC_Os07g36600.1\n",
      "t c LOC_Os07g36600.1\n",
      "a c LOC_Os07g36600.1\n",
      "a c LOC_Os07g36600.1\n",
      "a g LOC_Os09g15480.2\n",
      "ctaa ctaat LOC_Os09g15500.1\n",
      "atct ggct LOC_Os12g27994.1\n",
      "ctgc ctgt LOC_Os12g27994.1\n",
      "c g LOC_Os12g27994.1\n",
      "c g LOC_Os12g27994.1\n",
      "t a LOC_Os12g27994.1\n",
      "c g LOC_Os12g27994.1\n",
      "g a LOC_Os12g27994.1\n",
      "c t LOC_Os12g27994.1\n",
      "c g LOC_Os12g27994.1\n",
      "c a LOC_Os12g27994.1\n",
      "gcctggg gagcttc LOC_Os12g27994.1\n",
      "c t LOC_Os12g41460.1\n",
      "c a LOC_Os12g41460.1\n",
      "c t LOC_Os12g41460.1\n",
      "g c LOC_Os12g41460.1\n",
      "g a LOC_Os12g41460.1\n",
      "c g LOC_Os12g41460.1\n",
      "g c LOC_Os12g41460.1\n",
      "g t LOC_Os12g41460.1\n",
      "g t LOC_Os12g41460.1\n",
      "c g LOC_Os12g41460.1\n",
      "g c LOC_Os12g41460.1\n",
      "c g LOC_Os12g41460.1\n",
      "c g LOC_Os12g41460.1\n",
      "g c LOC_Os12g41460.1\n",
      "t g LOC_Os12g41460.1\n",
      "t c LOC_Os12g41460.1\n",
      "c t LOC_Os12g41460.1\n",
      "c t LOC_Os12g41460.1\n",
      "g c LOC_Os12g41460.1\n",
      "g a LOC_Os12g41460.1\n",
      "g t LOC_Os12g41460.1\n",
      "t c LOC_Os12g41460.1\n",
      "g c LOC_Os12g41460.1\n",
      "g t LOC_Os12g41460.1\n",
      "c t LOC_Os12g41460.1\n",
      "c t LOC_Os12g41460.1\n",
      "g t LOC_Os12g41460.1\n",
      "c g LOC_Os12g41460.1\n",
      "c a LOC_Os12g41460.1\n",
      "t c LOC_Os12g41460.1\n",
      "c g LOC_Os12g41460.1\n",
      "g c LOC_Os12g41460.1\n",
      "g t LOC_Os12g41460.1\n",
      "g a LOC_Os12g41460.1\n",
      "a c LOC_Os12g41460.1\n",
      "c g LOC_Os12g41460.1\n",
      "g a LOC_Os12g41460.1\n",
      "t g LOC_Os12g41460.1\n",
      "c a LOC_Os12g41460.1\n",
      "c g LOC_Os12g41460.1\n",
      "t c LOC_Os12g41460.1\n",
      "t a LOC_Os12g41460.1\n",
      "c g LOC_Os12g41460.1\n",
      "c g LOC_Os12g41460.1\n",
      "a t LOC_Os12g41460.1\n",
      "g a LOC_Os12g41460.1\n",
      "t c LOC_Os12g41460.1\n"
     ]
    }
   ],
   "source": [
    "#test integrity of reference alleles\n",
    "t = []\n",
    "for r,s,hk,snp,sqf,sqr in df8[['REF', 'Strand', 'Hit key', 'Gene POS', 'Gene Seq', '5to3 seq']].itertuples(index = False): \n",
    "    if s == 'forward':\n",
    "        if not (sqf[snp:(snp + len(r))].lower() == r.lower() or '-' in sqf[snp:(snp + len(r))].lower()):\n",
    "            print(sqf[snp:(snp + len(r))].lower(), r.lower(), hk)\n",
    "            t.append(hk)\n",
    "    else:\n",
    "        if not (sqr[snp:(snp + len(r))].lower() == r.lower() or '-' in sqr[snp:(snp + len(r))].lower()):\n",
    "            print(sqr[snp:(snp + len(r))].lower(), r.lower(), hk)\n",
    "            t.append(hk)"
   ]
  },
  {
   "cell_type": "code",
   "execution_count": 1329,
   "metadata": {},
   "outputs": [],
   "source": [
    "#remove faulty alignments\n",
    "t2 = []\n",
    "for a in set(t):\n",
    "    t2 = t2 + list(df8[df8['Hit key'] == a].index)"
   ]
  },
  {
   "cell_type": "code",
   "execution_count": 1337,
   "metadata": {},
   "outputs": [],
   "source": [
    "df9 = df8.drop(index = t2)"
   ]
  },
  {
   "cell_type": "code",
   "execution_count": 1331,
   "metadata": {
    "collapsed": true
   },
   "outputs": [
    {
     "name": "stdout",
     "output_type": "stream",
     "text": [
      "gg--- ggggt LOC_Os01g66310.1\n",
      "tcagtatttgta------ tcagtatttgtactggag LOC_Os03g03520.1\n",
      "t--- tggc LOC_Os05g30454.1\n",
      "at- atc LOC_Os12g41660.1\n",
      "gg-- ggtc LOC_Os12g41720.1\n"
     ]
    }
   ],
   "source": [
    "#test integrity of reference alleles again\n",
    "t = []\n",
    "for r,s,hk,snp,sqf,sqr in df9[['REF', 'Strand', 'Hit key', 'Gene POS', 'Gene Seq', '5to3 seq']].itertuples(index = False): \n",
    "    if s == 'forward':\n",
    "        if not (sqf[snp:(snp + len(r))].lower() == r.lower() or sqf[snp].lower() == '-'):\n",
    "            print(sqf[snp:(snp + len(r))].lower(), r.lower(), hk)\n",
    "            t.append(hk)\n",
    "    else:\n",
    "        if not (sqr[snp:(snp + len(r))].lower() == r.lower() or sqr[snp].lower() == '-'):\n",
    "            print(sqr[snp:(snp + len(r))].lower(), r.lower(), hk)\n",
    "            t.append(hk)"
   ]
  },
  {
   "cell_type": "code",
   "execution_count": 395,
   "metadata": {},
   "outputs": [],
   "source": [
    "#deprecated. skip.\n",
    "#not needed right now\n",
    "#correcting reference substitutions\n",
    "t = []\n",
    "for r,s,hk,snp,sqf,sqr in df9[['REF', 'Strand', 'Hit key', 'Gene POS', 'Gene Seq', '5to3 seq']].itertuples(index = False): \n",
    "    if s == 'forward':\n",
    "        if not (sqf[snp].lower() == r.lower() or sqf[snp].lower() == '-'):\n",
    "            if (len(r) != 1):\n",
    "                if not (sqf[snp:snp+len(r)].lower() == r.lower() or sqf[snp].lower() == '-'):\n",
    "                    tsq = str(sqf[:snp]) + r + str(sqf[snp + len(r):])\n",
    "                    t.append(Seq(tsq, generic_dna))\n",
    "                else:\n",
    "                    t.append(Seq(str(sqf), generic_dna))\n",
    "            else:\n",
    "                tsq = str(sqf[:snp]) + r + str(sqf[snp + len(r):])\n",
    "                t.append(Seq(tsq, generic_dna))        \n",
    "        else:\n",
    "            t.append(Seq(str(sqf), generic_dna))\n",
    "    else:\n",
    "        if not (sqr[snp].lower() == r.lower() or sqr[snp].lower() == '-'):\n",
    "            if (len(r) != 1):\n",
    "                if not (sqr[snp:snp+len(r)].lower() == r.lower() or sqr[snp].lower() == '-'):\n",
    "                    tsq = str(sqr[:snp]) + r + str(sqr[snp + len(r):])\n",
    "                    t.append(Seq(tsq, generic_dna))\n",
    "                else:\n",
    "                    t.append(Seq(str(sqr), generic_dna))\n",
    "            else:\n",
    "                tsq = str(sqr[:snp]) + r + str(sqr[snp + len(r):])\n",
    "                t.append(Seq(tsq, generic_dna))\n",
    "        else:\n",
    "            t.append(Seq(str(sqr), generic_dna))"
   ]
  },
  {
   "cell_type": "code",
   "execution_count": 396,
   "metadata": {},
   "outputs": [],
   "source": [
    "#swapping with rename\n",
    "#df9['Extract'] = t"
   ]
  },
  {
   "cell_type": "code",
   "execution_count": 1338,
   "metadata": {},
   "outputs": [],
   "source": [
    "#make cds column\n",
    "df9 = df9.rename(columns = {'5to3 seq' : 'Extract'}).drop(columns = ['Gene Seq'])"
   ]
  },
  {
   "cell_type": "code",
   "execution_count": 1340,
   "metadata": {
    "collapsed": true
   },
   "outputs": [
    {
     "name": "stdout",
     "output_type": "stream",
     "text": [
      "gg--- ggggt\n",
      "tcagtatttgta------ tcagtatttgtactggag\n",
      "t--- tggc\n",
      "at- atc\n",
      "gg-- ggtc\n"
     ]
    }
   ],
   "source": [
    "#test alignments one more time\n",
    "for r, snp, sq in df9[['REF', 'Gene POS', 'Extract']].itertuples(index = False): \n",
    "    if not (sq[snp].lower() == r.lower() or sq[snp].lower() == '-'):\n",
    "        if (len(r) != 1):\n",
    "            if not (sq[snp:snp+len(r)].lower() == r.lower() or sq[snp].lower() == '-'):\n",
    "                print(sq[snp:snp+len(r)].lower(), r.lower())"
   ]
  },
  {
   "cell_type": "code",
   "execution_count": 1342,
   "metadata": {},
   "outputs": [],
   "source": [
    "#expand multiallelic SNPs into new row\n",
    "t = []\n",
    "for i,r in df9.iterrows():\n",
    "    if ',' in r['ALT']:\n",
    "        for a in r['ALT'].split(','):\n",
    "            r2 = r.copy()\n",
    "            r2.loc['ALT'] = a\n",
    "            t.append(r2)\n",
    "    else:\n",
    "        t.append(r)"
   ]
  },
  {
   "cell_type": "code",
   "execution_count": 1343,
   "metadata": {},
   "outputs": [],
   "source": [
    "df10 = pd.DataFrame(t)"
   ]
  },
  {
   "cell_type": "code",
   "execution_count": 1345,
   "metadata": {},
   "outputs": [],
   "source": [
    "#mutagenesis\n",
    "t = []\n",
    "for r, a, p, esq in df10[['REF', 'ALT', 'Gene POS', 'Extract']].itertuples(index = False):\n",
    "    if esq[p] == '-':\n",
    "        t.append(Seq(str(esq), generic_dna))\n",
    "    else:\n",
    "        tsq = str(esq)\n",
    "        tsq = tsq[:p] + a + tsq[p+len(r):]\n",
    "        t.append(Seq(tsq, generic_dna))"
   ]
  },
  {
   "cell_type": "code",
   "execution_count": 1346,
   "metadata": {},
   "outputs": [],
   "source": [
    "df10['Mutated'] = t"
   ]
  },
  {
   "cell_type": "code",
   "execution_count": 1347,
   "metadata": {},
   "outputs": [],
   "source": [
    "#check if frameshift occurred\n",
    "t = []\n",
    "for esq, msq in df10[['Extract', 'Mutated']].itertuples(index = False):\n",
    "    if len(esq) != len(msq) and (len(msq) - len(esq)) % 3 != 0:\n",
    "        t.append('yes')\n",
    "    else:\n",
    "        t.append('no')    "
   ]
  },
  {
   "cell_type": "code",
   "execution_count": 1348,
   "metadata": {},
   "outputs": [],
   "source": [
    "df10['Frameshift'] = t"
   ]
  },
  {
   "cell_type": "code",
   "execution_count": 1349,
   "metadata": {
    "scrolled": true
   },
   "outputs": [],
   "source": [
    "#test frameshifts\n",
    "for i,r in df10[df10['Frameshift'] == 'yes'].iterrows():\n",
    "    if len(r['REF']) != 1 or len(r['ALT']) != 1:\n",
    "        if (len(r['ALT']) - len(r['REF'])) % 3 == 0:\n",
    "            print(r['REF'], r['ALT'])\n",
    "        #if r['Frameshift'] == 'no':\n",
    "            #print(r['REF', 'ALT'])"
   ]
  },
  {
   "cell_type": "code",
   "execution_count": 1350,
   "metadata": {},
   "outputs": [
    {
     "name": "stderr",
     "output_type": "stream",
     "text": [
      "c:\\users\\michael\\appdata\\local\\programs\\python\\python38\\lib\\site-packages\\Bio\\Seq.py:2738: BiopythonWarning: Partial codon, len(sequence) not a multiple of three. Explicitly trim the sequence or add trailing N before translation. This may become an error in future.\n",
      "  warnings.warn(\n"
     ]
    }
   ],
   "source": [
    "# mark substitutions as synonymous/missense/nonsense\n",
    "\n",
    "t = []\n",
    "for p, r, a, s, e, m in df10[['Gene POS', 'REF', 'ALT', 'Strand', 'Extract', 'Mutated']].itertuples(index = False):\n",
    "    \n",
    "#     if len(r) < len(a):\n",
    "#         t.append('insertion')\n",
    "#         continue\n",
    "#     elif len(r) > len(a):\n",
    "#         t.append('deletion')\n",
    "#         continue\n",
    "    \n",
    "    if s == 'forward':\n",
    "    \n",
    "        op = Seq(str(e).replace('-', ''), generic_dna).translate()\n",
    "        np = Seq(str(m).replace('-', ''), generic_dna).translate()\n",
    "        if op == np:\n",
    "            t.append('synonymous')\n",
    "        else:\n",
    "            \n",
    "            no_nonsense_switch = 'on'\n",
    "            for i in range(min(len(op), len(np))):\n",
    "                if np[i] != op[i]:\n",
    "                    if np[i] == '*':\n",
    "                        t.append('nonsense')\n",
    "                        no_nonsense_switch = 'off'\n",
    "                        break\n",
    "            if no_nonsense_switch == 'on':\n",
    "                t.append('missense')\n",
    "            \n",
    "            \n",
    "    else:\n",
    "        op = Seq(str(e).replace('-', ''), generic_dna).reverse_complement().translate()\n",
    "        np = Seq(str(m).replace('-', ''), generic_dna).reverse_complement().translate()\n",
    "        if op == np:\n",
    "            t.append('synonymous')\n",
    "        else:\n",
    "            \n",
    "            no_nonsense_switch = 'on'\n",
    "            for i in range(min(len(op), len(np))):\n",
    "                if np[i] != op[i]:\n",
    "                    if np[i] == '*':\n",
    "                        t.append('nonsense')\n",
    "                        no_nonsense_switch = 'off'                        \n",
    "                        break \n",
    "            if no_nonsense_switch == 'on':\n",
    "                t.append('missense')\n"
   ]
  },
  {
   "cell_type": "code",
   "execution_count": 1351,
   "metadata": {},
   "outputs": [],
   "source": [
    "df10['Effect'] = t"
   ]
  },
  {
   "cell_type": "code",
   "execution_count": 1352,
   "metadata": {},
   "outputs": [],
   "source": [
    "# mark site as intron/exon\n",
    "t = []\n",
    "for p, e in df10[['Gene POS', 'Extract']].itertuples(index = False):\n",
    "    if e[p] == '-':\n",
    "        t.append('intron')\n",
    "    else:\n",
    "        t.append('exon')"
   ]
  },
  {
   "cell_type": "code",
   "execution_count": 1353,
   "metadata": {},
   "outputs": [],
   "source": [
    "df10['Site'] = t"
   ]
  },
  {
   "cell_type": "code",
   "execution_count": 1354,
   "metadata": {},
   "outputs": [],
   "source": [
    "df10 = df10.reset_index(drop = True)"
   ]
  },
  {
   "cell_type": "code",
   "execution_count": 1356,
   "metadata": {},
   "outputs": [],
   "source": [
    "df10['MID'] = df10.index"
   ]
  },
  {
   "cell_type": "code",
   "execution_count": 1359,
   "metadata": {},
   "outputs": [],
   "source": [
    "df10.drop(columns = ['Extract', 'Mutated']).to_clipboard(index = False)\n",
    "#run testcases before saving from clipboard\n",
    "#rename hit key to transcript"
   ]
  },
  {
   "cell_type": "markdown",
   "metadata": {},
   "source": [
    "#### `test center`"
   ]
  },
  {
   "cell_type": "code",
   "execution_count": 1382,
   "metadata": {},
   "outputs": [
    {
     "data": {
      "text/plain": [
       "'MGEFSGMATTGALYSGQVMPITSRDGSGTKPKGTRLERAIRDLQKIAAEYRPPAIDINEVDPNGQVAVKRRLPPEVKQKLAKVARLSANHGKIQEHELMDRLMGIVGHLVQRRTLRRNMKEMVESGLSAKQEKADKFQRVKMEINEMIKSRVAAKAKVNEHHSGSADDFQIANDEKRYLKGKSVMDAALEDRICDLYDLYVEGMDEDKGPQSRKLYVELAELWPEGSMDNVGIKDAINRSKERRRSLYNQQKVRNEERMKRKRLAAAAKLQDGYPVVMQSALIQQVAQPPITNPVATYPVTDQGSKSFDRVREISASANPDDINRNTGEMKKKKRKPESDLVDTQANAMKGPSQHVEKNKPPKRADEAVETVLCLPFYDQQPS*'"
      ]
     },
     "execution_count": 1382,
     "metadata": {},
     "output_type": "execute_result"
    }
   ],
   "source": [
    "str(Seq(str(df10.loc[161, 'Extract']).replace('-', ''), generic_dna).translate())"
   ]
  },
  {
   "cell_type": "code",
   "execution_count": 1383,
   "metadata": {},
   "outputs": [
    {
     "data": {
      "text/plain": [
       "'MGEFSGMATTGALYSGQVMPITSRDGSGTKPKGTRLERAIRDLQKIAAEYRPPAIDINEVDPNGQVAVKRRLPPEVKQKLAKVARLSANHGKIQEHELMDRLMGIVGHLVQRRTLRRNMKEMVESGLSAKQEKADKFQRVKMEINEMIKSRVAAKAKVNEHHSGSADDFQIANDEKRYLKGKSVMDAALEDRICDLYDLYVEGMDEDKGPQSRKLYVELAELWPEGSMDNVGIKDAINRSKERRRSLYNQQKVRNEERMKRKRLAAAAKLQDGYPVVMQSALIQQVAQPPITNPVTDQGSKSFDRVREISASANPDDINRNTGEMKKKKRKPESDLVDTQANAMKGPSQHVEKNKPPKRADEAVETVLCLPFYDQQPS*'"
      ]
     },
     "execution_count": 1383,
     "metadata": {},
     "output_type": "execute_result"
    }
   ],
   "source": [
    "str(Seq(str(df10.loc[161, 'Mutated']).replace('-', ''), generic_dna).translate())"
   ]
  },
  {
   "cell_type": "code",
   "execution_count": 1384,
   "metadata": {},
   "outputs": [
    {
     "data": {
      "text/plain": [
       "'MEKEVEEEEEEEEAEASRKKGERGLGEGECGAPSSKKRDPELELRMKQKAAEWHRKAREETLKEIAKEMAKYPNEDWSDTPGVKAREYREDWEYRWSAIFGPYDTISPIPPMRYTHRKDDSMPRHISVRHTLQIISVKIKGIRGGLQWPINVFGLIAARDTIDRNRIMIFNRTRDNCQTITKEDR*LLLTGPTRAVVVSDPVYFEAPLKVKGSVESEDKDLSFLAVPLTGASDRGETRLVNREYTSRLSTLELTFGFVVESLEASISVRIIDGSWKDGFRGAFTAHTPSLKDNKVLLLDSGYCEMVPVTADRMIKLSRHVVSVEGEGDLTVSVLALGTDNVIEDEKDFTPKEAGMSQSSLDVGFCKLEVTVNWSLLSLLPDGYT*'"
      ]
     },
     "execution_count": 1384,
     "metadata": {},
     "output_type": "execute_result"
    }
   ],
   "source": [
    "str(Seq(str(df10.loc[1033, 'Mutated']).replace('-', ''), generic_dna).reverse_complement().translate())"
   ]
  },
  {
   "cell_type": "code",
   "execution_count": 1385,
   "metadata": {},
   "outputs": [
    {
     "data": {
      "text/plain": [
       "'MEKEVEEEEEEEEAEASRKKGERGLGEGECGAPSSKKRDPELELRMKQKAAEWHRKAREETLKEIAKEMAKYPNEDWSDTPGVKAREYREDWEYRWSAIFGPYDTISPIPPMRYTHRKDDSMPRHISVRHTLQIISVKIKGIRGGLQWPINVFGLIAARDTIDRNRIMIFNRTRDNCQTITKEDRYLLLTGPTRAVVVSDPVYFEAPLKVKGSVESEDKDLSFLAVPLTGASDRGETRLVNREYTSRLSTLELTFGFVVESLEASISVRIIDGSWKDGFRGAFTAHTPSLKDNKVLLLDSGYCEMVPVTADRMIKLSRHVVSVEGEGDLTVSVLALGTDNVIEDEKDFTPKEAGMSQSSLDVGFCKLEVTVNWSLLSLLPDGYT*'"
      ]
     },
     "execution_count": 1385,
     "metadata": {},
     "output_type": "execute_result"
    }
   ],
   "source": [
    "str(Seq(str(df10.loc[1033, 'Extract']).replace('-', ''), generic_dna).reverse_complement().translate())"
   ]
  },
  {
   "cell_type": "code",
   "execution_count": 1379,
   "metadata": {},
   "outputs": [],
   "source": [
    "x1 = str(Seq(str(df10.loc[160, 'Mutated']).replace('-', ''), generic_dna).reverse_complement().translate())\n",
    "#str(Seq(str(df10.loc[121, 'Mutated']).replace('-', ''), generic_dna).translate())"
   ]
  },
  {
   "cell_type": "code",
   "execution_count": 1363,
   "metadata": {},
   "outputs": [],
   "source": [
    "x2 = str(Seq(str(df10.loc[8, 'Extract']).replace('-', ''), generic_dna).reverse_complement().translate())"
   ]
  },
  {
   "cell_type": "code",
   "execution_count": 1364,
   "metadata": {},
   "outputs": [
    {
     "name": "stdout",
     "output_type": "stream",
     "text": [
      "347 N I\n"
     ]
    }
   ],
   "source": [
    "for i in range(len(x1)):\n",
    "    if x1[i] != x2[i]:\n",
    "        print(i, x1[i], x2[i])"
   ]
  },
  {
   "cell_type": "code",
   "execution_count": 566,
   "metadata": {},
   "outputs": [
    {
     "data": {
      "text/plain": [
       "False"
      ]
     },
     "execution_count": 566,
     "metadata": {},
     "output_type": "execute_result"
    }
   ],
   "source": [
    "str(Seq(str(df10.loc[69, 'Extract']).replace('-', ''), generic_dna).reverse_complement().translate()) == str(Seq(str(df10.loc[69, 'Mutated']).replace('-', ''), generic_dna).reverse_complement().translate())"
   ]
  },
  {
   "cell_type": "code",
   "execution_count": 1386,
   "metadata": {},
   "outputs": [],
   "source": [
    "df10 = df10.drop(columns = ['Extract', 'Mutated'])"
   ]
  },
  {
   "cell_type": "markdown",
   "metadata": {},
   "source": [
    "#### `pipeline passed all tests`\n",
    "***"
   ]
  },
  {
   "cell_type": "code",
   "execution_count": null,
   "metadata": {},
   "outputs": [],
   "source": [
    "#write table"
   ]
  },
  {
   "cell_type": "code",
   "execution_count": 1388,
   "metadata": {
    "collapsed": true
   },
   "outputs": [
    {
     "data": {
      "text/html": [
       "<div>\n",
       "<style scoped>\n",
       "    .dataframe tbody tr th:only-of-type {\n",
       "        vertical-align: middle;\n",
       "    }\n",
       "\n",
       "    .dataframe tbody tr th {\n",
       "        vertical-align: top;\n",
       "    }\n",
       "\n",
       "    .dataframe thead th {\n",
       "        text-align: right;\n",
       "    }\n",
       "</style>\n",
       "<table border=\"1\" class=\"dataframe\">\n",
       "  <thead>\n",
       "    <tr style=\"text-align: right;\">\n",
       "      <th></th>\n",
       "      <th>Locus ID</th>\n",
       "      <th>QTL</th>\n",
       "      <th>annotation</th>\n",
       "      <th>Functionally annotated</th>\n",
       "      <th>Outlier in expression</th>\n",
       "      <th>Expression cluster</th>\n",
       "      <th>Special interest</th>\n",
       "    </tr>\n",
       "  </thead>\n",
       "  <tbody>\n",
       "    <tr>\n",
       "      <th>0</th>\n",
       "      <td>LOC_Os01g65920</td>\n",
       "      <td>qCDP1</td>\n",
       "      <td>F-box/LRR-repeat protein 2, putative, expressed</td>\n",
       "      <td>Yes</td>\n",
       "      <td>No</td>\n",
       "      <td>1</td>\n",
       "      <td>No</td>\n",
       "    </tr>\n",
       "    <tr>\n",
       "      <th>1</th>\n",
       "      <td>LOC_Os01g66000</td>\n",
       "      <td>qCDP1</td>\n",
       "      <td>NADH dehydrogenase I subunit N, putative, expr...</td>\n",
       "      <td>No</td>\n",
       "      <td>No</td>\n",
       "      <td>1</td>\n",
       "      <td>No</td>\n",
       "    </tr>\n",
       "    <tr>\n",
       "      <th>2</th>\n",
       "      <td>LOC_Os01g66020</td>\n",
       "      <td>qCDP1</td>\n",
       "      <td>protein kinase family protein, putative, expre...</td>\n",
       "      <td>No</td>\n",
       "      <td>No</td>\n",
       "      <td>2</td>\n",
       "      <td>No</td>\n",
       "    </tr>\n",
       "    <tr>\n",
       "      <th>3</th>\n",
       "      <td>LOC_Os01g66030</td>\n",
       "      <td>qCDP1</td>\n",
       "      <td>OsMADS2 - MADS-box family gene with MIKCc type...</td>\n",
       "      <td>No</td>\n",
       "      <td>No</td>\n",
       "      <td>1</td>\n",
       "      <td>No</td>\n",
       "    </tr>\n",
       "    <tr>\n",
       "      <th>4</th>\n",
       "      <td>LOC_Os01g66040</td>\n",
       "      <td>qCDP1</td>\n",
       "      <td>receptor kinase, putative, expressed</td>\n",
       "      <td>No</td>\n",
       "      <td>No</td>\n",
       "      <td>1</td>\n",
       "      <td>No</td>\n",
       "    </tr>\n",
       "    <tr>\n",
       "      <th>...</th>\n",
       "      <td>...</td>\n",
       "      <td>...</td>\n",
       "      <td>...</td>\n",
       "      <td>...</td>\n",
       "      <td>...</td>\n",
       "      <td>...</td>\n",
       "      <td>...</td>\n",
       "    </tr>\n",
       "    <tr>\n",
       "      <th>335</th>\n",
       "      <td>LOC_Os12g41690</td>\n",
       "      <td>qCDP17</td>\n",
       "      <td>membrane associated DUF588 domain containing p...</td>\n",
       "      <td>No</td>\n",
       "      <td>No</td>\n",
       "      <td>1</td>\n",
       "      <td>No</td>\n",
       "    </tr>\n",
       "    <tr>\n",
       "      <th>336</th>\n",
       "      <td>LOC_Os12g41700</td>\n",
       "      <td>qCDP17</td>\n",
       "      <td>LSD1 zinc finger domain containing protein, ex...</td>\n",
       "      <td>Yes</td>\n",
       "      <td>No</td>\n",
       "      <td>1</td>\n",
       "      <td>No</td>\n",
       "    </tr>\n",
       "    <tr>\n",
       "      <th>337</th>\n",
       "      <td>LOC_Os12g41710</td>\n",
       "      <td>qCDP17</td>\n",
       "      <td>Protein kinase domain containing protein, expr...</td>\n",
       "      <td>No</td>\n",
       "      <td>No</td>\n",
       "      <td>2</td>\n",
       "      <td>No</td>\n",
       "    </tr>\n",
       "    <tr>\n",
       "      <th>338</th>\n",
       "      <td>LOC_Os12g41715</td>\n",
       "      <td>qCDP17</td>\n",
       "      <td>DEAD-box ATP-dependent RNA helicase, putative,...</td>\n",
       "      <td>No</td>\n",
       "      <td>No</td>\n",
       "      <td>1</td>\n",
       "      <td>No</td>\n",
       "    </tr>\n",
       "    <tr>\n",
       "      <th>339</th>\n",
       "      <td>LOC_Os12g41720</td>\n",
       "      <td>qCDP17</td>\n",
       "      <td>PLA IIIA/PLP7, putative, expressed</td>\n",
       "      <td>No</td>\n",
       "      <td>No</td>\n",
       "      <td>1</td>\n",
       "      <td>No</td>\n",
       "    </tr>\n",
       "  </tbody>\n",
       "</table>\n",
       "<p>340 rows × 7 columns</p>\n",
       "</div>"
      ],
      "text/plain": [
       "           Locus ID     QTL  \\\n",
       "0    LOC_Os01g65920   qCDP1   \n",
       "1    LOC_Os01g66000   qCDP1   \n",
       "2    LOC_Os01g66020   qCDP1   \n",
       "3    LOC_Os01g66030   qCDP1   \n",
       "4    LOC_Os01g66040   qCDP1   \n",
       "..              ...     ...   \n",
       "335  LOC_Os12g41690  qCDP17   \n",
       "336  LOC_Os12g41700  qCDP17   \n",
       "337  LOC_Os12g41710  qCDP17   \n",
       "338  LOC_Os12g41715  qCDP17   \n",
       "339  LOC_Os12g41720  qCDP17   \n",
       "\n",
       "                                            annotation Functionally annotated  \\\n",
       "0      F-box/LRR-repeat protein 2, putative, expressed                    Yes   \n",
       "1    NADH dehydrogenase I subunit N, putative, expr...                     No   \n",
       "2    protein kinase family protein, putative, expre...                     No   \n",
       "3    OsMADS2 - MADS-box family gene with MIKCc type...                     No   \n",
       "4                 receptor kinase, putative, expressed                     No   \n",
       "..                                                 ...                    ...   \n",
       "335  membrane associated DUF588 domain containing p...                     No   \n",
       "336  LSD1 zinc finger domain containing protein, ex...                    Yes   \n",
       "337  Protein kinase domain containing protein, expr...                     No   \n",
       "338  DEAD-box ATP-dependent RNA helicase, putative,...                     No   \n",
       "339                 PLA IIIA/PLP7, putative, expressed                     No   \n",
       "\n",
       "    Outlier in expression  Expression cluster Special interest  \n",
       "0                      No                   1               No  \n",
       "1                      No                   1               No  \n",
       "2                      No                   2               No  \n",
       "3                      No                   1               No  \n",
       "4                      No                   1               No  \n",
       "..                    ...                 ...              ...  \n",
       "335                    No                   1               No  \n",
       "336                    No                   1               No  \n",
       "337                    No                   2               No  \n",
       "338                    No                   1               No  \n",
       "339                    No                   1               No  \n",
       "\n",
       "[340 rows x 7 columns]"
      ]
     },
     "execution_count": 1388,
     "metadata": {},
     "output_type": "execute_result"
    }
   ],
   "source": [
    "pd.read_csv('../Figures and tables/All candidate genes.csv')"
   ]
  },
  {
   "cell_type": "code",
   "execution_count": 1396,
   "metadata": {},
   "outputs": [],
   "source": [
    "df10 = pd.read_excel('../Figures and tables/340 substitution effects.xlsx')\n",
    "df10 = pd.merge(df10, pd.read_csv('../Figures and tables/All candidate genes.csv').drop(columns = ['QTL'])\n",
    "                , left_on = 'Gene', right_on = 'Locus ID')"
   ]
  },
  {
   "cell_type": "code",
   "execution_count": 1390,
   "metadata": {},
   "outputs": [
    {
     "data": {
      "text/plain": [
       "28188"
      ]
     },
     "execution_count": 1390,
     "metadata": {},
     "output_type": "execute_result"
    }
   ],
   "source": [
    "sum(df10['Gene'] == df10['Locus ID'])"
   ]
  },
  {
   "cell_type": "code",
   "execution_count": 1397,
   "metadata": {},
   "outputs": [
    {
     "data": {
      "text/plain": [
       "Index(['#CHROM', 'POS', 'ID', 'Frameshift', 'Effect', 'Site', 'REF', 'ALT',\n",
       "       'Gene', 'Strand', 'Start', 'End', 'QTL', 'Transcript', 'Gene POS',\n",
       "       'MID', 'Locus ID', 'annotation', 'Functionally annotated',\n",
       "       'Outlier in expression', 'Expression cluster', 'Special interest'],\n",
       "      dtype='object')"
      ]
     },
     "execution_count": 1397,
     "metadata": {},
     "output_type": "execute_result"
    }
   ],
   "source": [
    "df10.columns"
   ]
  },
  {
   "cell_type": "code",
   "execution_count": 1398,
   "metadata": {},
   "outputs": [],
   "source": [
    "df10 = df10[['ID', '#CHROM', 'POS', 'REF', 'ALT', 'Site', 'Frameshift', 'Effect', 'QTL', 'Transcript', 'Gene POS', 'Expression cluster',\n",
    "     'Functionally annotated', 'Outlier in expression', 'annotation']]"
   ]
  },
  {
   "cell_type": "code",
   "execution_count": 1400,
   "metadata": {},
   "outputs": [],
   "source": [
    "df10.to_csv('../Figures and tables/SNP effects annotated.csv', index = False)"
   ]
  },
  {
   "cell_type": "code",
   "execution_count": null,
   "metadata": {},
   "outputs": [],
   "source": [
    "pd.merge(pd.read_excel('../Figures and tables/340 substitution effects.xlsx'),\n",
    "    pd.read_csv('../Figures and tables/SNP effects annotated.csv')[['Transcript', \n",
    "        'Expression cluster', 'Functionally annotated', 'Outlier in expression', 'annotation']]).drop_duplicates().to_csv('../Figures and tables/340 substitution effects annotated.csv', index = False)"
   ]
  },
  {
   "cell_type": "code",
   "execution_count": null,
   "metadata": {},
   "outputs": [],
   "source": []
  },
  {
   "cell_type": "markdown",
   "metadata": {},
   "source": [
    "#### `ANOVA and t test`"
   ]
  },
  {
   "cell_type": "code",
   "execution_count": 3,
   "metadata": {
    "scrolled": true
   },
   "outputs": [],
   "source": [
    "df11 = pd.read_excel('../Figures and tables/340 substitution effects.xlsx')"
   ]
  },
  {
   "cell_type": "code",
   "execution_count": 4,
   "metadata": {},
   "outputs": [],
   "source": [
    "df12 = pd.read_csv('../../WFC2.vcf', sep = '\\t')"
   ]
  },
  {
   "cell_type": "code",
   "execution_count": 22,
   "metadata": {
    "collapsed": true
   },
   "outputs": [
    {
     "data": {
      "text/html": [
       "<div>\n",
       "<style scoped>\n",
       "    .dataframe tbody tr th:only-of-type {\n",
       "        vertical-align: middle;\n",
       "    }\n",
       "\n",
       "    .dataframe tbody tr th {\n",
       "        vertical-align: top;\n",
       "    }\n",
       "\n",
       "    .dataframe thead th {\n",
       "        text-align: right;\n",
       "    }\n",
       "</style>\n",
       "<table border=\"1\" class=\"dataframe\">\n",
       "  <thead>\n",
       "    <tr style=\"text-align: right;\">\n",
       "      <th></th>\n",
       "      <th>#CHROM</th>\n",
       "      <th>POS</th>\n",
       "      <th>ID</th>\n",
       "      <th>Frameshift</th>\n",
       "      <th>Effect</th>\n",
       "      <th>Site</th>\n",
       "      <th>REF</th>\n",
       "      <th>ALT</th>\n",
       "      <th>Gene</th>\n",
       "      <th>Strand</th>\n",
       "      <th>Start</th>\n",
       "      <th>End</th>\n",
       "      <th>QTL</th>\n",
       "      <th>Transcript</th>\n",
       "      <th>Gene POS</th>\n",
       "      <th>MID</th>\n",
       "    </tr>\n",
       "  </thead>\n",
       "  <tbody>\n",
       "    <tr>\n",
       "      <th>0</th>\n",
       "      <td>chr01</td>\n",
       "      <td>38275059</td>\n",
       "      <td>1365463</td>\n",
       "      <td>no</td>\n",
       "      <td>synonymous</td>\n",
       "      <td>intron</td>\n",
       "      <td>A</td>\n",
       "      <td>G</td>\n",
       "      <td>LOC_Os01g65920</td>\n",
       "      <td>reverse</td>\n",
       "      <td>38275055</td>\n",
       "      <td>38279030</td>\n",
       "      <td>qCDP1</td>\n",
       "      <td>LOC_Os01g65920.1</td>\n",
       "      <td>4</td>\n",
       "      <td>0</td>\n",
       "    </tr>\n",
       "    <tr>\n",
       "      <th>1</th>\n",
       "      <td>chr01</td>\n",
       "      <td>38275062</td>\n",
       "      <td>1365464</td>\n",
       "      <td>no</td>\n",
       "      <td>synonymous</td>\n",
       "      <td>intron</td>\n",
       "      <td>G</td>\n",
       "      <td>GGTTACAGA</td>\n",
       "      <td>LOC_Os01g65920</td>\n",
       "      <td>reverse</td>\n",
       "      <td>38275055</td>\n",
       "      <td>38279030</td>\n",
       "      <td>qCDP1</td>\n",
       "      <td>LOC_Os01g65920.1</td>\n",
       "      <td>7</td>\n",
       "      <td>1</td>\n",
       "    </tr>\n",
       "    <tr>\n",
       "      <th>2</th>\n",
       "      <td>chr01</td>\n",
       "      <td>38275065</td>\n",
       "      <td>1365465</td>\n",
       "      <td>no</td>\n",
       "      <td>synonymous</td>\n",
       "      <td>intron</td>\n",
       "      <td>C</td>\n",
       "      <td>T</td>\n",
       "      <td>LOC_Os01g65920</td>\n",
       "      <td>reverse</td>\n",
       "      <td>38275055</td>\n",
       "      <td>38279030</td>\n",
       "      <td>qCDP1</td>\n",
       "      <td>LOC_Os01g65920.1</td>\n",
       "      <td>10</td>\n",
       "      <td>2</td>\n",
       "    </tr>\n",
       "    <tr>\n",
       "      <th>3</th>\n",
       "      <td>chr01</td>\n",
       "      <td>38275069</td>\n",
       "      <td>1365466</td>\n",
       "      <td>no</td>\n",
       "      <td>synonymous</td>\n",
       "      <td>intron</td>\n",
       "      <td>A</td>\n",
       "      <td>G</td>\n",
       "      <td>LOC_Os01g65920</td>\n",
       "      <td>reverse</td>\n",
       "      <td>38275055</td>\n",
       "      <td>38279030</td>\n",
       "      <td>qCDP1</td>\n",
       "      <td>LOC_Os01g65920.1</td>\n",
       "      <td>14</td>\n",
       "      <td>3</td>\n",
       "    </tr>\n",
       "    <tr>\n",
       "      <th>4</th>\n",
       "      <td>chr01</td>\n",
       "      <td>38275069</td>\n",
       "      <td>1365466</td>\n",
       "      <td>no</td>\n",
       "      <td>synonymous</td>\n",
       "      <td>intron</td>\n",
       "      <td>A</td>\n",
       "      <td>T</td>\n",
       "      <td>LOC_Os01g65920</td>\n",
       "      <td>reverse</td>\n",
       "      <td>38275055</td>\n",
       "      <td>38279030</td>\n",
       "      <td>qCDP1</td>\n",
       "      <td>LOC_Os01g65920.1</td>\n",
       "      <td>14</td>\n",
       "      <td>4</td>\n",
       "    </tr>\n",
       "    <tr>\n",
       "      <th>...</th>\n",
       "      <td>...</td>\n",
       "      <td>...</td>\n",
       "      <td>...</td>\n",
       "      <td>...</td>\n",
       "      <td>...</td>\n",
       "      <td>...</td>\n",
       "      <td>...</td>\n",
       "      <td>...</td>\n",
       "      <td>...</td>\n",
       "      <td>...</td>\n",
       "      <td>...</td>\n",
       "      <td>...</td>\n",
       "      <td>...</td>\n",
       "      <td>...</td>\n",
       "      <td>...</td>\n",
       "      <td>...</td>\n",
       "    </tr>\n",
       "    <tr>\n",
       "      <th>28183</th>\n",
       "      <td>chr12</td>\n",
       "      <td>25840275</td>\n",
       "      <td>15180417</td>\n",
       "      <td>no</td>\n",
       "      <td>synonymous</td>\n",
       "      <td>exon</td>\n",
       "      <td>C</td>\n",
       "      <td>G</td>\n",
       "      <td>LOC_Os12g41720</td>\n",
       "      <td>reverse</td>\n",
       "      <td>25838564</td>\n",
       "      <td>25840479</td>\n",
       "      <td>qCDP17</td>\n",
       "      <td>LOC_Os12g41720.1</td>\n",
       "      <td>1711</td>\n",
       "      <td>28183</td>\n",
       "    </tr>\n",
       "    <tr>\n",
       "      <th>28184</th>\n",
       "      <td>chr12</td>\n",
       "      <td>25840309</td>\n",
       "      <td>15180418</td>\n",
       "      <td>no</td>\n",
       "      <td>missense</td>\n",
       "      <td>exon</td>\n",
       "      <td>G</td>\n",
       "      <td>C</td>\n",
       "      <td>LOC_Os12g41720</td>\n",
       "      <td>reverse</td>\n",
       "      <td>25838564</td>\n",
       "      <td>25840479</td>\n",
       "      <td>qCDP17</td>\n",
       "      <td>LOC_Os12g41720.1</td>\n",
       "      <td>1745</td>\n",
       "      <td>28184</td>\n",
       "    </tr>\n",
       "    <tr>\n",
       "      <th>28185</th>\n",
       "      <td>chr12</td>\n",
       "      <td>25840315</td>\n",
       "      <td>15180419</td>\n",
       "      <td>no</td>\n",
       "      <td>missense</td>\n",
       "      <td>exon</td>\n",
       "      <td>G</td>\n",
       "      <td>C</td>\n",
       "      <td>LOC_Os12g41720</td>\n",
       "      <td>reverse</td>\n",
       "      <td>25838564</td>\n",
       "      <td>25840479</td>\n",
       "      <td>qCDP17</td>\n",
       "      <td>LOC_Os12g41720.1</td>\n",
       "      <td>1751</td>\n",
       "      <td>28185</td>\n",
       "    </tr>\n",
       "    <tr>\n",
       "      <th>28186</th>\n",
       "      <td>chr12</td>\n",
       "      <td>25840379</td>\n",
       "      <td>15180420</td>\n",
       "      <td>no</td>\n",
       "      <td>missense</td>\n",
       "      <td>exon</td>\n",
       "      <td>C</td>\n",
       "      <td>A</td>\n",
       "      <td>LOC_Os12g41720</td>\n",
       "      <td>reverse</td>\n",
       "      <td>25838564</td>\n",
       "      <td>25840479</td>\n",
       "      <td>qCDP17</td>\n",
       "      <td>LOC_Os12g41720.1</td>\n",
       "      <td>1815</td>\n",
       "      <td>28186</td>\n",
       "    </tr>\n",
       "    <tr>\n",
       "      <th>28187</th>\n",
       "      <td>chr12</td>\n",
       "      <td>25840443</td>\n",
       "      <td>15180421</td>\n",
       "      <td>no</td>\n",
       "      <td>synonymous</td>\n",
       "      <td>intron</td>\n",
       "      <td>T</td>\n",
       "      <td>C</td>\n",
       "      <td>LOC_Os12g41720</td>\n",
       "      <td>reverse</td>\n",
       "      <td>25838564</td>\n",
       "      <td>25840479</td>\n",
       "      <td>qCDP17</td>\n",
       "      <td>LOC_Os12g41720.1</td>\n",
       "      <td>1879</td>\n",
       "      <td>28187</td>\n",
       "    </tr>\n",
       "  </tbody>\n",
       "</table>\n",
       "<p>28188 rows × 16 columns</p>\n",
       "</div>"
      ],
      "text/plain": [
       "      #CHROM       POS        ID Frameshift      Effect    Site REF  \\\n",
       "0      chr01  38275059   1365463         no  synonymous  intron   A   \n",
       "1      chr01  38275062   1365464         no  synonymous  intron   G   \n",
       "2      chr01  38275065   1365465         no  synonymous  intron   C   \n",
       "3      chr01  38275069   1365466         no  synonymous  intron   A   \n",
       "4      chr01  38275069   1365466         no  synonymous  intron   A   \n",
       "...      ...       ...       ...        ...         ...     ...  ..   \n",
       "28183  chr12  25840275  15180417         no  synonymous    exon   C   \n",
       "28184  chr12  25840309  15180418         no    missense    exon   G   \n",
       "28185  chr12  25840315  15180419         no    missense    exon   G   \n",
       "28186  chr12  25840379  15180420         no    missense    exon   C   \n",
       "28187  chr12  25840443  15180421         no  synonymous  intron   T   \n",
       "\n",
       "             ALT            Gene   Strand     Start       End     QTL  \\\n",
       "0              G  LOC_Os01g65920  reverse  38275055  38279030   qCDP1   \n",
       "1      GGTTACAGA  LOC_Os01g65920  reverse  38275055  38279030   qCDP1   \n",
       "2              T  LOC_Os01g65920  reverse  38275055  38279030   qCDP1   \n",
       "3              G  LOC_Os01g65920  reverse  38275055  38279030   qCDP1   \n",
       "4              T  LOC_Os01g65920  reverse  38275055  38279030   qCDP1   \n",
       "...          ...             ...      ...       ...       ...     ...   \n",
       "28183          G  LOC_Os12g41720  reverse  25838564  25840479  qCDP17   \n",
       "28184          C  LOC_Os12g41720  reverse  25838564  25840479  qCDP17   \n",
       "28185          C  LOC_Os12g41720  reverse  25838564  25840479  qCDP17   \n",
       "28186          A  LOC_Os12g41720  reverse  25838564  25840479  qCDP17   \n",
       "28187          C  LOC_Os12g41720  reverse  25838564  25840479  qCDP17   \n",
       "\n",
       "             Transcript  Gene POS    MID  \n",
       "0      LOC_Os01g65920.1         4      0  \n",
       "1      LOC_Os01g65920.1         7      1  \n",
       "2      LOC_Os01g65920.1        10      2  \n",
       "3      LOC_Os01g65920.1        14      3  \n",
       "4      LOC_Os01g65920.1        14      4  \n",
       "...                 ...       ...    ...  \n",
       "28183  LOC_Os12g41720.1      1711  28183  \n",
       "28184  LOC_Os12g41720.1      1745  28184  \n",
       "28185  LOC_Os12g41720.1      1751  28185  \n",
       "28186  LOC_Os12g41720.1      1815  28186  \n",
       "28187  LOC_Os12g41720.1      1879  28187  \n",
       "\n",
       "[28188 rows x 16 columns]"
      ]
     },
     "execution_count": 22,
     "metadata": {},
     "output_type": "execute_result"
    }
   ],
   "source": [
    "df11"
   ]
  },
  {
   "cell_type": "code",
   "execution_count": 5,
   "metadata": {},
   "outputs": [],
   "source": [
    "df4 = pd.read_table('../Sequence and SNP data/Bout340can.tsv', header = None)\n",
    "df4['Start'] = df4[[8,9]].min(axis = 1)\n",
    "df4['End'] = df4[[8,9]].max(axis = 1)\n",
    "t = []\n",
    "for s,e in df4[[8,9]].itertuples(index = False):\n",
    "    if s < e:\n",
    "        t.append('forward')\n",
    "    else:\n",
    "        t.append('reverse')\n",
    "df4['Strand'] = t"
   ]
  },
  {
   "cell_type": "code",
   "execution_count": 6,
   "metadata": {},
   "outputs": [],
   "source": [
    "df5 = df12"
   ]
  },
  {
   "cell_type": "code",
   "execution_count": 7,
   "metadata": {},
   "outputs": [],
   "source": [
    "t = []\n",
    "for c, p in df5[['#CHROM', 'POS']].itertuples(index = False):\n",
    "    f = False\n",
    "    for l,o,s,e in df4[df4[1] == c][[0, 'Strand', 'Start', 'End']].itertuples(index = False):\n",
    "        if s <= p <= e:\n",
    "            t.append((l, o, s, e))\n",
    "            f = True\n",
    "            break\n",
    "    if f == False:\n",
    "        t.append(('None', o, s, e))"
   ]
  },
  {
   "cell_type": "code",
   "execution_count": 8,
   "metadata": {},
   "outputs": [],
   "source": [
    "df5['Gene'] = list(zip(*t))[0]\n",
    "df5['Strand'] = list(zip(*t))[1]\n",
    "df5['Start'] = list(zip(*t))[2]\n",
    "df5['End'] = list(zip(*t))[3]"
   ]
  },
  {
   "cell_type": "code",
   "execution_count": 9,
   "metadata": {},
   "outputs": [],
   "source": [
    "df5 = df5[df5['Gene'] != 'None']"
   ]
  },
  {
   "cell_type": "code",
   "execution_count": 10,
   "metadata": {},
   "outputs": [],
   "source": [
    "t = []\n",
    "for i,r in df5.iterrows():\n",
    "    if ',' in r['ALT']:\n",
    "        for a in r['ALT'].split(','):\n",
    "            r2 = r.copy()\n",
    "            r2.loc['ALT'] = a\n",
    "            t.append(r2)\n",
    "    else:\n",
    "        t.append(r)"
   ]
  },
  {
   "cell_type": "code",
   "execution_count": 11,
   "metadata": {},
   "outputs": [],
   "source": [
    "df6 = pd.DataFrame(t)"
   ]
  },
  {
   "cell_type": "code",
   "execution_count": 12,
   "metadata": {},
   "outputs": [],
   "source": [
    "for a in df6['ALT'].to_list():\n",
    "    if ',' in a:\n",
    "        print(a)"
   ]
  },
  {
   "cell_type": "code",
   "execution_count": 13,
   "metadata": {},
   "outputs": [],
   "source": [
    "df6 = df6.applymap(lambda x: 0 if x == '0/0' else x).applymap(lambda x: str(x).count('/0') if '/0' in str(x) else x).applymap(lambda x: str(x).count('0/') if '0/' in str(x) else x).applymap(lambda x: 2 if '/' in str(x) else x)"
   ]
  },
  {
   "cell_type": "code",
   "execution_count": 14,
   "metadata": {
    "collapsed": true
   },
   "outputs": [
    {
     "data": {
      "text/html": [
       "<div>\n",
       "<style scoped>\n",
       "    .dataframe tbody tr th:only-of-type {\n",
       "        vertical-align: middle;\n",
       "    }\n",
       "\n",
       "    .dataframe tbody tr th {\n",
       "        vertical-align: top;\n",
       "    }\n",
       "\n",
       "    .dataframe thead th {\n",
       "        text-align: right;\n",
       "    }\n",
       "</style>\n",
       "<table border=\"1\" class=\"dataframe\">\n",
       "  <thead>\n",
       "    <tr style=\"text-align: right;\">\n",
       "      <th></th>\n",
       "      <th>#CHROM</th>\n",
       "      <th>POS</th>\n",
       "      <th>ID</th>\n",
       "      <th>REF</th>\n",
       "      <th>ALT</th>\n",
       "      <th>QUAL</th>\n",
       "      <th>FILTER</th>\n",
       "      <th>INFO</th>\n",
       "      <th>FORMAT</th>\n",
       "      <th>IRIS_313-10340</th>\n",
       "      <th>...</th>\n",
       "      <th>IRIS_313-9606</th>\n",
       "      <th>IRIS_313-9617</th>\n",
       "      <th>IRIS_313-9626</th>\n",
       "      <th>IRIS_313-9661</th>\n",
       "      <th>IRIS_313-9682</th>\n",
       "      <th>IRIS_313-9696</th>\n",
       "      <th>Gene</th>\n",
       "      <th>Strand</th>\n",
       "      <th>Start</th>\n",
       "      <th>End</th>\n",
       "    </tr>\n",
       "  </thead>\n",
       "  <tbody>\n",
       "    <tr>\n",
       "      <th>0</th>\n",
       "      <td>chr01</td>\n",
       "      <td>38275059</td>\n",
       "      <td>1365463</td>\n",
       "      <td>A</td>\n",
       "      <td>G</td>\n",
       "      <td>.</td>\n",
       "      <td>PASS</td>\n",
       "      <td>.</td>\n",
       "      <td>GT</td>\n",
       "      <td>2</td>\n",
       "      <td>...</td>\n",
       "      <td>2</td>\n",
       "      <td>2</td>\n",
       "      <td>2</td>\n",
       "      <td>2</td>\n",
       "      <td>0</td>\n",
       "      <td>2</td>\n",
       "      <td>LOC_Os01g65920</td>\n",
       "      <td>reverse</td>\n",
       "      <td>38275055</td>\n",
       "      <td>38279030</td>\n",
       "    </tr>\n",
       "    <tr>\n",
       "      <th>1</th>\n",
       "      <td>chr01</td>\n",
       "      <td>38275062</td>\n",
       "      <td>1365464</td>\n",
       "      <td>G</td>\n",
       "      <td>GGTTACAGA</td>\n",
       "      <td>.</td>\n",
       "      <td>PASS</td>\n",
       "      <td>.</td>\n",
       "      <td>GT</td>\n",
       "      <td>0</td>\n",
       "      <td>...</td>\n",
       "      <td>0</td>\n",
       "      <td>0</td>\n",
       "      <td>0</td>\n",
       "      <td>0</td>\n",
       "      <td>0</td>\n",
       "      <td>0</td>\n",
       "      <td>LOC_Os01g65920</td>\n",
       "      <td>reverse</td>\n",
       "      <td>38275055</td>\n",
       "      <td>38279030</td>\n",
       "    </tr>\n",
       "    <tr>\n",
       "      <th>2</th>\n",
       "      <td>chr01</td>\n",
       "      <td>38275065</td>\n",
       "      <td>1365465</td>\n",
       "      <td>C</td>\n",
       "      <td>T</td>\n",
       "      <td>.</td>\n",
       "      <td>PASS</td>\n",
       "      <td>.</td>\n",
       "      <td>GT</td>\n",
       "      <td>2</td>\n",
       "      <td>...</td>\n",
       "      <td>2</td>\n",
       "      <td>2</td>\n",
       "      <td>2</td>\n",
       "      <td>2</td>\n",
       "      <td>0</td>\n",
       "      <td>2</td>\n",
       "      <td>LOC_Os01g65920</td>\n",
       "      <td>reverse</td>\n",
       "      <td>38275055</td>\n",
       "      <td>38279030</td>\n",
       "    </tr>\n",
       "    <tr>\n",
       "      <th>3</th>\n",
       "      <td>chr01</td>\n",
       "      <td>38275069</td>\n",
       "      <td>1365466</td>\n",
       "      <td>A</td>\n",
       "      <td>G</td>\n",
       "      <td>.</td>\n",
       "      <td>PASS</td>\n",
       "      <td>.</td>\n",
       "      <td>GT</td>\n",
       "      <td>2</td>\n",
       "      <td>...</td>\n",
       "      <td>2</td>\n",
       "      <td>2</td>\n",
       "      <td>2</td>\n",
       "      <td>2</td>\n",
       "      <td>0</td>\n",
       "      <td>2</td>\n",
       "      <td>LOC_Os01g65920</td>\n",
       "      <td>reverse</td>\n",
       "      <td>38275055</td>\n",
       "      <td>38279030</td>\n",
       "    </tr>\n",
       "    <tr>\n",
       "      <th>3</th>\n",
       "      <td>chr01</td>\n",
       "      <td>38275069</td>\n",
       "      <td>1365466</td>\n",
       "      <td>A</td>\n",
       "      <td>T</td>\n",
       "      <td>.</td>\n",
       "      <td>PASS</td>\n",
       "      <td>.</td>\n",
       "      <td>GT</td>\n",
       "      <td>2</td>\n",
       "      <td>...</td>\n",
       "      <td>2</td>\n",
       "      <td>2</td>\n",
       "      <td>2</td>\n",
       "      <td>2</td>\n",
       "      <td>0</td>\n",
       "      <td>2</td>\n",
       "      <td>LOC_Os01g65920</td>\n",
       "      <td>reverse</td>\n",
       "      <td>38275055</td>\n",
       "      <td>38279030</td>\n",
       "    </tr>\n",
       "    <tr>\n",
       "      <th>...</th>\n",
       "      <td>...</td>\n",
       "      <td>...</td>\n",
       "      <td>...</td>\n",
       "      <td>...</td>\n",
       "      <td>...</td>\n",
       "      <td>...</td>\n",
       "      <td>...</td>\n",
       "      <td>...</td>\n",
       "      <td>...</td>\n",
       "      <td>...</td>\n",
       "      <td>...</td>\n",
       "      <td>...</td>\n",
       "      <td>...</td>\n",
       "      <td>...</td>\n",
       "      <td>...</td>\n",
       "      <td>...</td>\n",
       "      <td>...</td>\n",
       "      <td>...</td>\n",
       "      <td>...</td>\n",
       "      <td>...</td>\n",
       "      <td>...</td>\n",
       "    </tr>\n",
       "    <tr>\n",
       "      <th>119596</th>\n",
       "      <td>chr12</td>\n",
       "      <td>25840275</td>\n",
       "      <td>15180417</td>\n",
       "      <td>C</td>\n",
       "      <td>G</td>\n",
       "      <td>.</td>\n",
       "      <td>PASS</td>\n",
       "      <td>.</td>\n",
       "      <td>GT</td>\n",
       "      <td>0</td>\n",
       "      <td>...</td>\n",
       "      <td>0</td>\n",
       "      <td>0</td>\n",
       "      <td>0</td>\n",
       "      <td>0</td>\n",
       "      <td>0</td>\n",
       "      <td>0</td>\n",
       "      <td>LOC_Os12g41720</td>\n",
       "      <td>reverse</td>\n",
       "      <td>25838564</td>\n",
       "      <td>25840479</td>\n",
       "    </tr>\n",
       "    <tr>\n",
       "      <th>119597</th>\n",
       "      <td>chr12</td>\n",
       "      <td>25840309</td>\n",
       "      <td>15180418</td>\n",
       "      <td>G</td>\n",
       "      <td>C</td>\n",
       "      <td>.</td>\n",
       "      <td>PASS</td>\n",
       "      <td>.</td>\n",
       "      <td>GT</td>\n",
       "      <td>2</td>\n",
       "      <td>...</td>\n",
       "      <td>2</td>\n",
       "      <td>2</td>\n",
       "      <td>1</td>\n",
       "      <td>2</td>\n",
       "      <td>2</td>\n",
       "      <td>2</td>\n",
       "      <td>LOC_Os12g41720</td>\n",
       "      <td>reverse</td>\n",
       "      <td>25838564</td>\n",
       "      <td>25840479</td>\n",
       "    </tr>\n",
       "    <tr>\n",
       "      <th>119598</th>\n",
       "      <td>chr12</td>\n",
       "      <td>25840315</td>\n",
       "      <td>15180419</td>\n",
       "      <td>G</td>\n",
       "      <td>C</td>\n",
       "      <td>.</td>\n",
       "      <td>PASS</td>\n",
       "      <td>.</td>\n",
       "      <td>GT</td>\n",
       "      <td>2</td>\n",
       "      <td>...</td>\n",
       "      <td>0</td>\n",
       "      <td>2</td>\n",
       "      <td>0</td>\n",
       "      <td>2</td>\n",
       "      <td>2</td>\n",
       "      <td>0</td>\n",
       "      <td>LOC_Os12g41720</td>\n",
       "      <td>reverse</td>\n",
       "      <td>25838564</td>\n",
       "      <td>25840479</td>\n",
       "    </tr>\n",
       "    <tr>\n",
       "      <th>119599</th>\n",
       "      <td>chr12</td>\n",
       "      <td>25840379</td>\n",
       "      <td>15180420</td>\n",
       "      <td>C</td>\n",
       "      <td>A</td>\n",
       "      <td>.</td>\n",
       "      <td>PASS</td>\n",
       "      <td>.</td>\n",
       "      <td>GT</td>\n",
       "      <td>0</td>\n",
       "      <td>...</td>\n",
       "      <td>0</td>\n",
       "      <td>0</td>\n",
       "      <td>0</td>\n",
       "      <td>0</td>\n",
       "      <td>0</td>\n",
       "      <td>0</td>\n",
       "      <td>LOC_Os12g41720</td>\n",
       "      <td>reverse</td>\n",
       "      <td>25838564</td>\n",
       "      <td>25840479</td>\n",
       "    </tr>\n",
       "    <tr>\n",
       "      <th>119600</th>\n",
       "      <td>chr12</td>\n",
       "      <td>25840443</td>\n",
       "      <td>15180421</td>\n",
       "      <td>T</td>\n",
       "      <td>C</td>\n",
       "      <td>.</td>\n",
       "      <td>PASS</td>\n",
       "      <td>.</td>\n",
       "      <td>GT</td>\n",
       "      <td>0</td>\n",
       "      <td>...</td>\n",
       "      <td>0</td>\n",
       "      <td>0</td>\n",
       "      <td>0</td>\n",
       "      <td>0</td>\n",
       "      <td>0</td>\n",
       "      <td>0</td>\n",
       "      <td>LOC_Os12g41720</td>\n",
       "      <td>reverse</td>\n",
       "      <td>25838564</td>\n",
       "      <td>25840479</td>\n",
       "    </tr>\n",
       "  </tbody>\n",
       "</table>\n",
       "<p>23706 rows × 189 columns</p>\n",
       "</div>"
      ],
      "text/plain": [
       "       #CHROM       POS        ID REF        ALT QUAL FILTER INFO FORMAT  \\\n",
       "0       chr01  38275059   1365463   A          G    .   PASS    .     GT   \n",
       "1       chr01  38275062   1365464   G  GGTTACAGA    .   PASS    .     GT   \n",
       "2       chr01  38275065   1365465   C          T    .   PASS    .     GT   \n",
       "3       chr01  38275069   1365466   A          G    .   PASS    .     GT   \n",
       "3       chr01  38275069   1365466   A          T    .   PASS    .     GT   \n",
       "...       ...       ...       ...  ..        ...  ...    ...  ...    ...   \n",
       "119596  chr12  25840275  15180417   C          G    .   PASS    .     GT   \n",
       "119597  chr12  25840309  15180418   G          C    .   PASS    .     GT   \n",
       "119598  chr12  25840315  15180419   G          C    .   PASS    .     GT   \n",
       "119599  chr12  25840379  15180420   C          A    .   PASS    .     GT   \n",
       "119600  chr12  25840443  15180421   T          C    .   PASS    .     GT   \n",
       "\n",
       "        IRIS_313-10340  ...  IRIS_313-9606  IRIS_313-9617  IRIS_313-9626  \\\n",
       "0                    2  ...              2              2              2   \n",
       "1                    0  ...              0              0              0   \n",
       "2                    2  ...              2              2              2   \n",
       "3                    2  ...              2              2              2   \n",
       "3                    2  ...              2              2              2   \n",
       "...                ...  ...            ...            ...            ...   \n",
       "119596               0  ...              0              0              0   \n",
       "119597               2  ...              2              2              1   \n",
       "119598               2  ...              0              2              0   \n",
       "119599               0  ...              0              0              0   \n",
       "119600               0  ...              0              0              0   \n",
       "\n",
       "        IRIS_313-9661  IRIS_313-9682  IRIS_313-9696            Gene   Strand  \\\n",
       "0                   2              0              2  LOC_Os01g65920  reverse   \n",
       "1                   0              0              0  LOC_Os01g65920  reverse   \n",
       "2                   2              0              2  LOC_Os01g65920  reverse   \n",
       "3                   2              0              2  LOC_Os01g65920  reverse   \n",
       "3                   2              0              2  LOC_Os01g65920  reverse   \n",
       "...               ...            ...            ...             ...      ...   \n",
       "119596              0              0              0  LOC_Os12g41720  reverse   \n",
       "119597              2              2              2  LOC_Os12g41720  reverse   \n",
       "119598              2              2              0  LOC_Os12g41720  reverse   \n",
       "119599              0              0              0  LOC_Os12g41720  reverse   \n",
       "119600              0              0              0  LOC_Os12g41720  reverse   \n",
       "\n",
       "           Start       End  \n",
       "0       38275055  38279030  \n",
       "1       38275055  38279030  \n",
       "2       38275055  38279030  \n",
       "3       38275055  38279030  \n",
       "3       38275055  38279030  \n",
       "...          ...       ...  \n",
       "119596  25838564  25840479  \n",
       "119597  25838564  25840479  \n",
       "119598  25838564  25840479  \n",
       "119599  25838564  25840479  \n",
       "119600  25838564  25840479  \n",
       "\n",
       "[23706 rows x 189 columns]"
      ]
     },
     "execution_count": 14,
     "metadata": {},
     "output_type": "execute_result"
    }
   ],
   "source": [
    "df6"
   ]
  },
  {
   "cell_type": "code",
   "execution_count": 15,
   "metadata": {},
   "outputs": [],
   "source": [
    "df7 = df6.drop(columns = ['#CHROM', 'POS', 'REF', 'ALT', 'QUAL', 'FILTER', 'INFO', 'FORMAT', 'Gene', 'Strand', 'Start', 'End'])"
   ]
  },
  {
   "cell_type": "code",
   "execution_count": 47,
   "metadata": {},
   "outputs": [],
   "source": [
    "df7 = pd.read_csv('../../WFC2L.vcf', sep = '\\t')"
   ]
  },
  {
   "cell_type": "code",
   "execution_count": 50,
   "metadata": {},
   "outputs": [],
   "source": [
    "df7 = df7.drop(columns = ['#CHROM', 'POS', 'REF', 'ALT', 'QUAL', 'FILTER', 'INFO', 'FORMAT'])"
   ]
  },
  {
   "cell_type": "code",
   "execution_count": 16,
   "metadata": {},
   "outputs": [],
   "source": [
    "df8 = pd.read_table('../../../../Desktop/39ProcessedTraits.txt').transpose()"
   ]
  },
  {
   "cell_type": "code",
   "execution_count": 52,
   "metadata": {},
   "outputs": [],
   "source": [
    "t = []\n",
    "for i,r in df7.iterrows():\n",
    "    for tr in df8.index:\n",
    "        tdf = pd.concat([r[1:], df8.loc[tr, :]], axis = 1)\n",
    "        g1 = tdf[tr][tdf[i] == 0].dropna()\n",
    "        g2 = tdf[tr][tdf[i] == 1].dropna()\n",
    "        g3 = tdf[tr][tdf[i] == 2].dropna()\n",
    "\n",
    "        if min(len(g1), len(g2), len(g3)) < 4:\n",
    "            continue\n",
    "\n",
    "        x = stats.f_oneway(g1, g2, g3)\n",
    "\n",
    "        t.append((r['MID'], len(g1), len(g2), len(g3), x.statistic, x.pvalue, tr))"
   ]
  },
  {
   "cell_type": "code",
   "execution_count": 53,
   "metadata": {},
   "outputs": [],
   "source": [
    "df9 = pd.DataFrame(t, columns = ['MID', 'AA', 'Aa', 'aa', 'F statistic', 'p value', 'Trait'])"
   ]
  },
  {
   "cell_type": "code",
   "execution_count": 55,
   "metadata": {
    "collapsed": true
   },
   "outputs": [
    {
     "data": {
      "text/html": [
       "<div>\n",
       "<style scoped>\n",
       "    .dataframe tbody tr th:only-of-type {\n",
       "        vertical-align: middle;\n",
       "    }\n",
       "\n",
       "    .dataframe tbody tr th {\n",
       "        vertical-align: top;\n",
       "    }\n",
       "\n",
       "    .dataframe thead th {\n",
       "        text-align: right;\n",
       "    }\n",
       "</style>\n",
       "<table border=\"1\" class=\"dataframe\">\n",
       "  <thead>\n",
       "    <tr style=\"text-align: right;\">\n",
       "      <th></th>\n",
       "      <th>MID</th>\n",
       "      <th>AA</th>\n",
       "      <th>Aa</th>\n",
       "      <th>aa</th>\n",
       "      <th>F statistic</th>\n",
       "      <th>p value</th>\n",
       "      <th>Trait</th>\n",
       "    </tr>\n",
       "  </thead>\n",
       "  <tbody>\n",
       "    <tr>\n",
       "      <th>0</th>\n",
       "      <td>33</td>\n",
       "      <td>20</td>\n",
       "      <td>4</td>\n",
       "      <td>147</td>\n",
       "      <td>1.301004</td>\n",
       "      <td>0.274987</td>\n",
       "      <td>Root_weight</td>\n",
       "    </tr>\n",
       "    <tr>\n",
       "      <th>1</th>\n",
       "      <td>33</td>\n",
       "      <td>20</td>\n",
       "      <td>4</td>\n",
       "      <td>147</td>\n",
       "      <td>1.049574</td>\n",
       "      <td>0.352371</td>\n",
       "      <td>Shoot_weight</td>\n",
       "    </tr>\n",
       "    <tr>\n",
       "      <th>2</th>\n",
       "      <td>33</td>\n",
       "      <td>20</td>\n",
       "      <td>4</td>\n",
       "      <td>147</td>\n",
       "      <td>2.544710</td>\n",
       "      <td>0.081518</td>\n",
       "      <td>Root_length</td>\n",
       "    </tr>\n",
       "    <tr>\n",
       "      <th>3</th>\n",
       "      <td>33</td>\n",
       "      <td>20</td>\n",
       "      <td>4</td>\n",
       "      <td>139</td>\n",
       "      <td>0.902027</td>\n",
       "      <td>0.407799</td>\n",
       "      <td>Filtered_Shoot_length</td>\n",
       "    </tr>\n",
       "    <tr>\n",
       "      <th>4</th>\n",
       "      <td>33</td>\n",
       "      <td>20</td>\n",
       "      <td>4</td>\n",
       "      <td>139</td>\n",
       "      <td>2.381646</td>\n",
       "      <td>0.095667</td>\n",
       "      <td>Filtered_Root_thickness</td>\n",
       "    </tr>\n",
       "    <tr>\n",
       "      <th>...</th>\n",
       "      <td>...</td>\n",
       "      <td>...</td>\n",
       "      <td>...</td>\n",
       "      <td>...</td>\n",
       "      <td>...</td>\n",
       "      <td>...</td>\n",
       "      <td>...</td>\n",
       "    </tr>\n",
       "    <tr>\n",
       "      <th>186095</th>\n",
       "      <td>28109</td>\n",
       "      <td>112</td>\n",
       "      <td>4</td>\n",
       "      <td>57</td>\n",
       "      <td>0.100022</td>\n",
       "      <td>0.904871</td>\n",
       "      <td>Height_WO_husk</td>\n",
       "    </tr>\n",
       "    <tr>\n",
       "      <th>186096</th>\n",
       "      <td>28109</td>\n",
       "      <td>112</td>\n",
       "      <td>4</td>\n",
       "      <td>57</td>\n",
       "      <td>0.851065</td>\n",
       "      <td>0.428771</td>\n",
       "      <td>Width_WO_husk</td>\n",
       "    </tr>\n",
       "    <tr>\n",
       "      <th>186097</th>\n",
       "      <td>28109</td>\n",
       "      <td>112</td>\n",
       "      <td>4</td>\n",
       "      <td>57</td>\n",
       "      <td>0.052342</td>\n",
       "      <td>0.949020</td>\n",
       "      <td>Seed_volume</td>\n",
       "    </tr>\n",
       "    <tr>\n",
       "      <th>186098</th>\n",
       "      <td>28109</td>\n",
       "      <td>106</td>\n",
       "      <td>4</td>\n",
       "      <td>57</td>\n",
       "      <td>0.469777</td>\n",
       "      <td>0.625980</td>\n",
       "      <td>Filtered_Seed_Weight</td>\n",
       "    </tr>\n",
       "    <tr>\n",
       "      <th>186099</th>\n",
       "      <td>28109</td>\n",
       "      <td>112</td>\n",
       "      <td>4</td>\n",
       "      <td>57</td>\n",
       "      <td>0.224482</td>\n",
       "      <td>0.799167</td>\n",
       "      <td>Seed_density</td>\n",
       "    </tr>\n",
       "  </tbody>\n",
       "</table>\n",
       "<p>186100 rows × 7 columns</p>\n",
       "</div>"
      ],
      "text/plain": [
       "          MID   AA  Aa   aa  F statistic   p value                    Trait\n",
       "0          33   20   4  147     1.301004  0.274987              Root_weight\n",
       "1          33   20   4  147     1.049574  0.352371             Shoot_weight\n",
       "2          33   20   4  147     2.544710  0.081518              Root_length\n",
       "3          33   20   4  139     0.902027  0.407799    Filtered_Shoot_length\n",
       "4          33   20   4  139     2.381646  0.095667  Filtered_Root_thickness\n",
       "...       ...  ...  ..  ...          ...       ...                      ...\n",
       "186095  28109  112   4   57     0.100022  0.904871           Height_WO_husk\n",
       "186096  28109  112   4   57     0.851065  0.428771            Width_WO_husk\n",
       "186097  28109  112   4   57     0.052342  0.949020              Seed_volume\n",
       "186098  28109  106   4   57     0.469777  0.625980     Filtered_Seed_Weight\n",
       "186099  28109  112   4   57     0.224482  0.799167             Seed_density\n",
       "\n",
       "[186100 rows x 7 columns]"
      ]
     },
     "execution_count": 55,
     "metadata": {},
     "output_type": "execute_result"
    }
   ],
   "source": [
    "df9"
   ]
  },
  {
   "cell_type": "code",
   "execution_count": 57,
   "metadata": {},
   "outputs": [],
   "source": [
    "df10 = pd.read_csv('../Figures and tables/340 substitution effects annotated.csv')[['MID', 'Frameshift', 'Effect', 'Site', \n",
    "                                                                       'Transcript', 'ID', 'QTL', 'Expression cluster', \n",
    "                                                                       'Functionally annotated', 'Outlier in expression',\n",
    "                                                               'annotation']]"
   ]
  },
  {
   "cell_type": "code",
   "execution_count": 58,
   "metadata": {},
   "outputs": [],
   "source": [
    "df10 = pd.merge(df9, df10, how = 'left').sort_values('p value')"
   ]
  },
  {
   "cell_type": "code",
   "execution_count": 61,
   "metadata": {},
   "outputs": [],
   "source": [
    "df10.drop_duplicates().to_csv('../Figures and tables/One-way ANOVA.csv', index = False)"
   ]
  },
  {
   "cell_type": "code",
   "execution_count": null,
   "metadata": {},
   "outputs": [],
   "source": []
  },
  {
   "cell_type": "code",
   "execution_count": 63,
   "metadata": {},
   "outputs": [],
   "source": [
    "t = []\n",
    "for i,r in df7.iterrows():\n",
    "    for tr in df8.index:\n",
    "        tdf = pd.concat([r[1:], df8.loc[tr, :]], axis = 1)\n",
    "        g1 = tdf[tr][tdf[i] == 0].dropna()\n",
    "        g2 = tdf[tr][tdf[i] == 1].dropna()\n",
    "        g3 = tdf[tr][tdf[i] == 2].dropna()\n",
    "\n",
    "        if min(len(g1), len(g3)) < 5:\n",
    "            continue\n",
    "\n",
    "        x = stats.ttest_ind(g1, g3)\n",
    "\n",
    "        t.append((r['MID'], len(g1), len(g3), x.statistic, x.pvalue, tr))"
   ]
  },
  {
   "cell_type": "code",
   "execution_count": 64,
   "metadata": {},
   "outputs": [],
   "source": [
    "df11 = pd.DataFrame(t, columns = ['MID', 'AA', 'aa', 't statistic', 'p value', 'Trait'])"
   ]
  },
  {
   "cell_type": "code",
   "execution_count": 65,
   "metadata": {},
   "outputs": [],
   "source": [
    "df12 = pd.read_csv('../Figures and tables/340 substitution effects annotated.csv')[['MID', 'Frameshift', 'Effect', 'Site', \n",
    "                                                                       'Transcript', 'ID', 'QTL', 'Expression cluster', \n",
    "                                                                       'Functionally annotated', 'Outlier in expression',\n",
    "                                                               'annotation']]"
   ]
  },
  {
   "cell_type": "code",
   "execution_count": 66,
   "metadata": {},
   "outputs": [],
   "source": [
    "df12 = pd.merge(df11, df12, how = 'left').sort_values('p value')"
   ]
  },
  {
   "cell_type": "code",
   "execution_count": 71,
   "metadata": {},
   "outputs": [],
   "source": [
    "df12.drop_duplicates().to_csv('../Figures and tables/t-test.csv', index = False)"
   ]
  }
 ],
 "metadata": {
  "kernelspec": {
   "display_name": "Python 3",
   "language": "python",
   "name": "python3"
  },
  "language_info": {
   "codemirror_mode": {
    "name": "ipython",
    "version": 3
   },
   "file_extension": ".py",
   "mimetype": "text/x-python",
   "name": "python",
   "nbconvert_exporter": "python",
   "pygments_lexer": "ipython3",
   "version": "3.8.5"
  }
 },
 "nbformat": 4,
 "nbformat_minor": 4
}
