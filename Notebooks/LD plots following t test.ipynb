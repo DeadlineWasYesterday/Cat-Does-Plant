{
 "cells": [
  {
   "cell_type": "code",
   "execution_count": 2,
   "metadata": {},
   "outputs": [],
   "source": [
    "import numpy as np\n",
    "import pandas as pd\n",
    "import scipy.cluster.hierarchy as shc\n",
    "import scipy.stats as stats\n",
    "from statsmodels.stats.multitest import multipletests\n",
    "import matplotlib.pyplot as plt\n",
    "import seaborn as sb "
   ]
  },
  {
   "cell_type": "code",
   "execution_count": 38,
   "metadata": {},
   "outputs": [],
   "source": [
    "df5 = pd.read_csv('../../WFc2.vcf', sep = '\\t')\n",
    "df4 = pd.read_table('../Sequence and SNP data/Bout340can.tsv', header = None)\n",
    "df4['Start'] = df4[[8,9]].min(axis = 1)\n",
    "df4['End'] = df4[[8,9]].max(axis = 1)\n",
    "t = []\n",
    "for s,e in df4[[8,9]].itertuples(index = False):\n",
    "    if s < e:\n",
    "        t.append('forward')\n",
    "    else:\n",
    "        t.append('reverse')\n",
    "df4['Strand'] = t\n",
    "\n",
    "t = []\n",
    "for c, p in df5[['#CHROM', 'POS']].itertuples(index = False):\n",
    "    f = False\n",
    "    for l,o,s,e in df4[df4[1] == c][[0, 'Strand', 'Start', 'End']].itertuples(index = False):\n",
    "        if s <= p <= e:\n",
    "            t.append((l, o, s, e))\n",
    "            f = True\n",
    "            break\n",
    "    if f == False:\n",
    "        t.append(('None', o, s, e))\n",
    "        \n",
    "df5['Gene'] = list(zip(*t))[0]\n",
    "df5['Strand'] = list(zip(*t))[1]\n",
    "df5['Start'] = list(zip(*t))[2]\n",
    "df5['End'] = list(zip(*t))[3]\n",
    "\n",
    "df5 = df5[df5['Gene'] != 'None']\n",
    "\n",
    "t = []\n",
    "for i,r in df5.iterrows():\n",
    "    if ',' in r['ALT']:\n",
    "        for a in r['ALT'].split(','):\n",
    "            r2 = r.copy()\n",
    "            r2.loc['ALT'] = a\n",
    "            t.append(r2)\n",
    "    else:\n",
    "        t.append(r)\n",
    "        \n",
    "df6 = pd.DataFrame(t)\n",
    "df6 = df6.applymap(lambda x: 0 if x == '0/0' else x).applymap(lambda x: str(x).count('/0') if '/0' in str(x) else x).applymap(lambda x: str(x).count('0/') if '0/' in str(x) else x).applymap(lambda x: 2 if '/' in str(x) else x)"
   ]
  },
  {
   "cell_type": "code",
   "execution_count": 41,
   "metadata": {},
   "outputs": [],
   "source": [
    "df6.drop(columns = ['Gene', 'Strand', 'Start', 'End'])#.to_csv('../../WFC2L.vcf', sep = '\\t', index = False)"
   ]
  },
  {
   "cell_type": "code",
   "execution_count": 48,
   "metadata": {},
   "outputs": [],
   "source": [
    "df3 = pd.read_csv('../Figures and tables/340 substitution effects annotated.csv')"
   ]
  },
  {
   "cell_type": "code",
   "execution_count": 66,
   "metadata": {},
   "outputs": [],
   "source": [
    "df4 = pd.merge(df, df3[['ID', 'MID', 'ALT']], on = ['ID', 'ALT']).drop_duplicates()"
   ]
  },
  {
   "cell_type": "code",
   "execution_count": 68,
   "metadata": {},
   "outputs": [],
   "source": [
    "df4['ID'] = df4['MID']"
   ]
  },
  {
   "cell_type": "code",
   "execution_count": 70,
   "metadata": {},
   "outputs": [],
   "source": [
    "df4.drop(columns = ['MID']).rename(columns = {'ID' : 'MID'}).to_csv('../../WFC2L.vcf', sep = '\\t', index = False)"
   ]
  },
  {
   "cell_type": "code",
   "execution_count": null,
   "metadata": {},
   "outputs": [],
   "source": []
  },
  {
   "cell_type": "code",
   "execution_count": 11,
   "metadata": {},
   "outputs": [],
   "source": [
    "df = pd.read_csv('../../WFC2L.vcf', sep = '\\t')"
   ]
  },
  {
   "cell_type": "code",
   "execution_count": 5,
   "metadata": {},
   "outputs": [],
   "source": [
    "df2 = pd.read_csv('../One-way ANOVA.csv')"
   ]
  },
  {
   "cell_type": "code",
   "execution_count": 8,
   "metadata": {},
   "outputs": [],
   "source": [
    "df3 = pd.read_csv('../t-test.csv')"
   ]
  },
  {
   "cell_type": "code",
   "execution_count": 9,
   "metadata": {},
   "outputs": [],
   "source": [
    "df2['FDR adjusted p value'] = multipletests(df2['p value'], alpha=0.01, method='fdr_bh', returnsorted=True)[1]\n",
    "df3['FDR adjusted p value'] = multipletests(df3['p value'], alpha=0.01, method='fdr_bh', returnsorted=True)[1]"
   ]
  },
  {
   "cell_type": "code",
   "execution_count": 10,
   "metadata": {},
   "outputs": [],
   "source": [
    "#df2.to_csv('One-way ANOVA for qq.csv', index = False)\n",
    "#df3.to_csv('t-test for qq.csv', index = False)"
   ]
  },
  {
   "cell_type": "code",
   "execution_count": 12,
   "metadata": {},
   "outputs": [],
   "source": [
    "df4 = df2[df2['FDR adjusted p value'] < 0.01]"
   ]
  },
  {
   "cell_type": "code",
   "execution_count": 13,
   "metadata": {},
   "outputs": [],
   "source": [
    "df5 = df3[df3['FDR adjusted p value'] < 0.01]"
   ]
  },
  {
   "cell_type": "code",
   "execution_count": 14,
   "metadata": {},
   "outputs": [],
   "source": [
    "#df4.to_csv('../Figures and tables/S9 Table One-way ANOVA results.csv', index = False)\n",
    "#df5.to_csv('../Figures and tables/S10 Table Students t test results.csv', index = False )"
   ]
  },
  {
   "cell_type": "code",
   "execution_count": 12,
   "metadata": {},
   "outputs": [],
   "source": [
    "df6 = pd.read_excel('../Figures and tables/Table 4 Frameshift and nonsense mutants.xlsx')"
   ]
  },
  {
   "cell_type": "code",
   "execution_count": 13,
   "metadata": {},
   "outputs": [],
   "source": [
    "df7 = pd.read_csv('../Figures and tables/S12 Table All SNP substitution effects.csv')[['ID', 'Effect', 'MID', 'QTL']]"
   ]
  },
  {
   "cell_type": "code",
   "execution_count": 14,
   "metadata": {
    "scrolled": true
   },
   "outputs": [],
   "source": [
    "df7 = df7[df7['Effect'] == 'synonymous']"
   ]
  },
  {
   "cell_type": "code",
   "execution_count": 82,
   "metadata": {},
   "outputs": [],
   "source": [
    "#df = df.drop(columns = ['#CHROM', 'POS', 'REF', 'MID', 'ALT', 'QUAL', 'FILTER', 'INFO', 'FORMAT']).reset_index(drop = True)"
   ]
  },
  {
   "cell_type": "code",
   "execution_count": 73,
   "metadata": {
    "scrolled": true
   },
   "outputs": [],
   "source": [
    "tl = df7[df7['QTL'] == ]['MID'].to_list()"
   ]
  },
  {
   "cell_type": "code",
   "execution_count": 104,
   "metadata": {},
   "outputs": [],
   "source": [
    "q = df6[df6['MID'] == eyed]['QTL'].to_list()[0]"
   ]
  },
  {
   "cell_type": "code",
   "execution_count": 111,
   "metadata": {
    "scrolled": true
   },
   "outputs": [
    {
     "data": {
      "text/plain": [
       "count    1682.000000\n",
       "mean        0.053072\n",
       "std         0.090959\n",
       "min        -0.170935\n",
       "25%         0.004994\n",
       "50%         0.066585\n",
       "75%         0.125486\n",
       "max         0.170935\n",
       "dtype: float64"
      ]
     },
     "execution_count": 111,
     "metadata": {},
     "output_type": "execute_result"
    }
   ],
   "source": [
    "tdf.iloc[:,9:].transpose().corr().mean(axis = 1).describe()"
   ]
  },
  {
   "cell_type": "code",
   "execution_count": 126,
   "metadata": {},
   "outputs": [
    {
     "data": {
      "text/plain": [
       "[(13955, -17.056434691290217),\n",
       " (26887, 4.780739056396002),\n",
       " (13576, 4.392805004929336),\n",
       " (20747, -1.9996921686647948),\n",
       " (15501, 12.720085805526734),\n",
       " (15505, 12.72512640767367),\n",
       " (16787, -11.59027952197883),\n",
       " (16280, 10.225092592601166),\n",
       " (16795, -10.731706127928158),\n",
       " (14235, 11.72014565510189),\n",
       " (24872, -4.02938322154575),\n",
       " (10154, 4.3622723237491074),\n",
       " (4658, -17.19565310299152),\n",
       " (21304, -9.722785525474542),\n",
       " (14397, 22.228135942306185),\n",
       " (17727, -7.174689937709712),\n",
       " (15556, 9.680495376472935),\n",
       " (24274, 18.083517764784137),\n",
       " (14677, -12.346027551681608),\n",
       " (11478, -7.180723068995389),\n",
       " (3418, -19.119415794092205),\n",
       " (14044, -17.056434691290217),\n",
       " (17504, -8.007072037146457),\n",
       " (26723, -9.400940962313022),\n",
       " (23398, 7.594185698312539),\n",
       " (16879, -13.906512153268304),\n",
       " (24817, 4.850972666990955),\n",
       " (3315, -18.809492630145773),\n",
       " (4852, 18.32052419880787),\n",
       " (16759, -13.829988890289963),\n",
       " (21242, 2.8292609810612697)]"
      ]
     },
     "execution_count": 126,
     "metadata": {},
     "output_type": "execute_result"
    }
   ],
   "source": [
    "l"
   ]
  },
  {
   "cell_type": "code",
   "execution_count": 122,
   "metadata": {},
   "outputs": [
    {
     "data": {
      "text/plain": [
       "(2187, 176)"
      ]
     },
     "execution_count": 122,
     "metadata": {},
     "output_type": "execute_result"
    }
   ],
   "source": [
    "tdf.iloc[:,9:].shape"
   ]
  },
  {
   "cell_type": "code",
   "execution_count": 178,
   "metadata": {},
   "outputs": [
    {
     "data": {
      "text/plain": [
       "<AxesSubplot:ylabel='Density'>"
      ]
     },
     "execution_count": 178,
     "metadata": {},
     "output_type": "execute_result"
    },
    {
     "data": {
      "image/png": "[encoded data removed]",
      "text/plain": [
       "<Figure size 432x288 with 1 Axes>"
      ]
     },
     "metadata": {
      "needs_background": "light"
     },
     "output_type": "display_data"
    }
   ],
   "source": [
    "tdf.iloc[:,9:].transpose().corr().mean(axis = 1).plot(kind = 'kde')"
   ]
  },
  {
   "cell_type": "code",
   "execution_count": 198,
   "metadata": {},
   "outputs": [],
   "source": [
    "x = tdf[(tdf.iloc[:,9:].sum(axis = 1) > 17) & (tdf.iloc[:,9:].sum(axis = 1) < (352 - 17))].iloc[:, 9:].transpose().corr()"
   ]
  },
  {
   "cell_type": "code",
   "execution_count": 185,
   "metadata": {},
   "outputs": [
    {
     "name": "stderr",
     "output_type": "stream",
     "text": [
      "c:\\users\\michael\\appdata\\local\\programs\\python\\python38\\lib\\site-packages\\scipy\\stats\\morestats.py:1681: UserWarning: p-value may not be accurate for N > 5000.\n",
      "  warnings.warn(\"p-value may not be accurate for N > 5000.\")\n"
     ]
    },
    {
     "data": {
      "text/plain": [
       "ShapiroResult(statistic=0.9548298716545105, pvalue=0.0)"
      ]
     },
     "execution_count": 185,
     "metadata": {},
     "output_type": "execute_result"
    }
   ],
   "source": [
    "stats.shapiro(tdf[(tdf.iloc[:,9:].sum(axis = 1) > 17) & (tdf.iloc[:,9:].sum(axis = 1) < (352 - 17))].iloc[:, 9:].transpose().corr().transform('rank').values.flatten())"
   ]
  },
  {
   "cell_type": "code",
   "execution_count": 192,
   "metadata": {},
   "outputs": [],
   "source": [
    "x = tdf.iloc[:, 9:].transpose().corr().iloc[0,:]"
   ]
  },
  {
   "cell_type": "code",
   "execution_count": 201,
   "metadata": {},
   "outputs": [
    {
     "data": {
      "text/plain": [
       "20297    1.000000\n",
       "20305    0.956433\n",
       "20316    1.000000\n",
       "20317    1.000000\n",
       "20320    0.978762\n",
       "20338    0.994600\n",
       "20345    1.000000\n",
       "20346    1.000000\n",
       "20347    0.994735\n",
       "20352    1.000000\n",
       "20358    1.000000\n",
       "20361    0.952197\n",
       "20362    0.933751\n",
       "20369    1.000000\n",
       "20370    0.812786\n",
       "20392    0.812786\n",
       "20400    1.000000\n",
       "20402    1.000000\n",
       "20422    1.000000\n",
       "20424    0.994600\n",
       "Name: 20297, dtype: float64"
      ]
     },
     "execution_count": 201,
     "metadata": {},
     "output_type": "execute_result"
    }
   ],
   "source": [
    "x.iloc[0,:][x.iloc[0,:] > 0.7]"
   ]
  },
  {
   "cell_type": "code",
   "execution_count": 219,
   "metadata": {},
   "outputs": [
    {
     "data": {
      "text/plain": [
       "3.287965169226914e-12"
      ]
     },
     "execution_count": 219,
     "metadata": {},
     "output_type": "execute_result"
    }
   ],
   "source": [
    "stats.shapiro(tdf[(tdf.iloc[:,9:].sum(axis = 1) > 17) & (tdf.iloc[:,9:].sum(axis = 1) < (352 - 17))].iloc[:, 9:].transpose().corr().transform('rank').values.flatten()).pvalue"
   ]
  },
  {
   "cell_type": "code",
   "execution_count": 383,
   "metadata": {},
   "outputs": [
    {
     "data": {
      "text/plain": [
       "ShapiroResult(statistic=0.8216108083724976, pvalue=0.00705829169601202)"
      ]
     },
     "execution_count": 383,
     "metadata": {},
     "output_type": "execute_result"
    }
   ],
   "source": [
    "stats.shapiro(tdf.iloc[:,9:].transpose().corr().fillna(0).values.flatten()[:15])"
   ]
  },
  {
   "cell_type": "code",
   "execution_count": 20,
   "metadata": {},
   "outputs": [
    {
     "data": {
      "text/html": [
       "<div>\n",
       "<style scoped>\n",
       "    .dataframe tbody tr th:only-of-type {\n",
       "        vertical-align: middle;\n",
       "    }\n",
       "\n",
       "    .dataframe tbody tr th {\n",
       "        vertical-align: top;\n",
       "    }\n",
       "\n",
       "    .dataframe thead th {\n",
       "        text-align: right;\n",
       "    }\n",
       "</style>\n",
       "<table border=\"1\" class=\"dataframe\">\n",
       "  <thead>\n",
       "    <tr style=\"text-align: right;\">\n",
       "      <th></th>\n",
       "      <th>#CHROM</th>\n",
       "      <th>POS</th>\n",
       "      <th>MID</th>\n",
       "      <th>REF</th>\n",
       "      <th>ALT</th>\n",
       "      <th>QUAL</th>\n",
       "      <th>FILTER</th>\n",
       "      <th>INFO</th>\n",
       "      <th>FORMAT</th>\n",
       "      <th>IRIS_313-10340</th>\n",
       "      <th>...</th>\n",
       "      <th>IRIS_313-9397</th>\n",
       "      <th>IRIS_313-9422</th>\n",
       "      <th>IRIS_313-9445</th>\n",
       "      <th>IRIS_313-9594</th>\n",
       "      <th>IRIS_313-9606</th>\n",
       "      <th>IRIS_313-9617</th>\n",
       "      <th>IRIS_313-9626</th>\n",
       "      <th>IRIS_313-9661</th>\n",
       "      <th>IRIS_313-9682</th>\n",
       "      <th>IRIS_313-9696</th>\n",
       "    </tr>\n",
       "  </thead>\n",
       "  <tbody>\n",
       "    <tr>\n",
       "      <th>3310</th>\n",
       "      <td>chr02</td>\n",
       "      <td>8446938</td>\n",
       "      <td>3400</td>\n",
       "      <td>T</td>\n",
       "      <td>C</td>\n",
       "      <td>.</td>\n",
       "      <td>PASS</td>\n",
       "      <td>.</td>\n",
       "      <td>GT</td>\n",
       "      <td>0</td>\n",
       "      <td>...</td>\n",
       "      <td>2</td>\n",
       "      <td>2</td>\n",
       "      <td>0</td>\n",
       "      <td>2</td>\n",
       "      <td>2</td>\n",
       "      <td>2</td>\n",
       "      <td>2</td>\n",
       "      <td>2</td>\n",
       "      <td>0</td>\n",
       "      <td>0</td>\n",
       "    </tr>\n",
       "    <tr>\n",
       "      <th>3311</th>\n",
       "      <td>chr02</td>\n",
       "      <td>8446947</td>\n",
       "      <td>3298</td>\n",
       "      <td>G</td>\n",
       "      <td>A</td>\n",
       "      <td>.</td>\n",
       "      <td>PASS</td>\n",
       "      <td>.</td>\n",
       "      <td>GT</td>\n",
       "      <td>0</td>\n",
       "      <td>...</td>\n",
       "      <td>0</td>\n",
       "      <td>0</td>\n",
       "      <td>2</td>\n",
       "      <td>0</td>\n",
       "      <td>0</td>\n",
       "      <td>0</td>\n",
       "      <td>0</td>\n",
       "      <td>0</td>\n",
       "      <td>0</td>\n",
       "      <td>0</td>\n",
       "    </tr>\n",
       "    <tr>\n",
       "      <th>3313</th>\n",
       "      <td>chr02</td>\n",
       "      <td>8446951</td>\n",
       "      <td>3299</td>\n",
       "      <td>T</td>\n",
       "      <td>C</td>\n",
       "      <td>.</td>\n",
       "      <td>PASS</td>\n",
       "      <td>.</td>\n",
       "      <td>GT</td>\n",
       "      <td>0</td>\n",
       "      <td>...</td>\n",
       "      <td>0</td>\n",
       "      <td>0</td>\n",
       "      <td>2</td>\n",
       "      <td>0</td>\n",
       "      <td>0</td>\n",
       "      <td>0</td>\n",
       "      <td>0</td>\n",
       "      <td>0</td>\n",
       "      <td>0</td>\n",
       "      <td>0</td>\n",
       "    </tr>\n",
       "    <tr>\n",
       "      <th>3314</th>\n",
       "      <td>chr02</td>\n",
       "      <td>8446951</td>\n",
       "      <td>3402</td>\n",
       "      <td>T</td>\n",
       "      <td>C</td>\n",
       "      <td>.</td>\n",
       "      <td>PASS</td>\n",
       "      <td>.</td>\n",
       "      <td>GT</td>\n",
       "      <td>0</td>\n",
       "      <td>...</td>\n",
       "      <td>0</td>\n",
       "      <td>0</td>\n",
       "      <td>2</td>\n",
       "      <td>0</td>\n",
       "      <td>0</td>\n",
       "      <td>0</td>\n",
       "      <td>0</td>\n",
       "      <td>0</td>\n",
       "      <td>0</td>\n",
       "      <td>0</td>\n",
       "    </tr>\n",
       "    <tr>\n",
       "      <th>3316</th>\n",
       "      <td>chr02</td>\n",
       "      <td>8446961</td>\n",
       "      <td>3403</td>\n",
       "      <td>C</td>\n",
       "      <td>A</td>\n",
       "      <td>.</td>\n",
       "      <td>PASS</td>\n",
       "      <td>.</td>\n",
       "      <td>GT</td>\n",
       "      <td>0</td>\n",
       "      <td>...</td>\n",
       "      <td>0</td>\n",
       "      <td>0</td>\n",
       "      <td>2</td>\n",
       "      <td>0</td>\n",
       "      <td>0</td>\n",
       "      <td>0</td>\n",
       "      <td>0</td>\n",
       "      <td>0</td>\n",
       "      <td>0</td>\n",
       "      <td>0</td>\n",
       "    </tr>\n",
       "    <tr>\n",
       "      <th>3317</th>\n",
       "      <td>chr02</td>\n",
       "      <td>8446962</td>\n",
       "      <td>3301</td>\n",
       "      <td>C</td>\n",
       "      <td>T</td>\n",
       "      <td>.</td>\n",
       "      <td>PASS</td>\n",
       "      <td>.</td>\n",
       "      <td>GT</td>\n",
       "      <td>2</td>\n",
       "      <td>...</td>\n",
       "      <td>2</td>\n",
       "      <td>2</td>\n",
       "      <td>0</td>\n",
       "      <td>2</td>\n",
       "      <td>2</td>\n",
       "      <td>2</td>\n",
       "      <td>2</td>\n",
       "      <td>2</td>\n",
       "      <td>0</td>\n",
       "      <td>2</td>\n",
       "    </tr>\n",
       "    <tr>\n",
       "      <th>3319</th>\n",
       "      <td>chr02</td>\n",
       "      <td>8446986</td>\n",
       "      <td>3302</td>\n",
       "      <td>G</td>\n",
       "      <td>A</td>\n",
       "      <td>.</td>\n",
       "      <td>PASS</td>\n",
       "      <td>.</td>\n",
       "      <td>GT</td>\n",
       "      <td>0</td>\n",
       "      <td>...</td>\n",
       "      <td>0</td>\n",
       "      <td>0</td>\n",
       "      <td>2</td>\n",
       "      <td>0</td>\n",
       "      <td>0</td>\n",
       "      <td>0</td>\n",
       "      <td>0</td>\n",
       "      <td>0</td>\n",
       "      <td>0</td>\n",
       "      <td>0</td>\n",
       "    </tr>\n",
       "    <tr>\n",
       "      <th>3413</th>\n",
       "      <td>chr02</td>\n",
       "      <td>8448002</td>\n",
       "      <td>3349</td>\n",
       "      <td>C</td>\n",
       "      <td>A</td>\n",
       "      <td>.</td>\n",
       "      <td>PASS</td>\n",
       "      <td>.</td>\n",
       "      <td>GT</td>\n",
       "      <td>0</td>\n",
       "      <td>...</td>\n",
       "      <td>0</td>\n",
       "      <td>0</td>\n",
       "      <td>2</td>\n",
       "      <td>0</td>\n",
       "      <td>0</td>\n",
       "      <td>0</td>\n",
       "      <td>0</td>\n",
       "      <td>0</td>\n",
       "      <td>0</td>\n",
       "      <td>0</td>\n",
       "    </tr>\n",
       "    <tr>\n",
       "      <th>3414</th>\n",
       "      <td>chr02</td>\n",
       "      <td>8448002</td>\n",
       "      <td>3452</td>\n",
       "      <td>C</td>\n",
       "      <td>A</td>\n",
       "      <td>.</td>\n",
       "      <td>PASS</td>\n",
       "      <td>.</td>\n",
       "      <td>GT</td>\n",
       "      <td>0</td>\n",
       "      <td>...</td>\n",
       "      <td>0</td>\n",
       "      <td>0</td>\n",
       "      <td>2</td>\n",
       "      <td>0</td>\n",
       "      <td>0</td>\n",
       "      <td>0</td>\n",
       "      <td>0</td>\n",
       "      <td>0</td>\n",
       "      <td>0</td>\n",
       "      <td>0</td>\n",
       "    </tr>\n",
       "    <tr>\n",
       "      <th>3416</th>\n",
       "      <td>chr02</td>\n",
       "      <td>8448008</td>\n",
       "      <td>3453</td>\n",
       "      <td>T</td>\n",
       "      <td>A</td>\n",
       "      <td>.</td>\n",
       "      <td>PASS</td>\n",
       "      <td>.</td>\n",
       "      <td>GT</td>\n",
       "      <td>0</td>\n",
       "      <td>...</td>\n",
       "      <td>0</td>\n",
       "      <td>0</td>\n",
       "      <td>2</td>\n",
       "      <td>0</td>\n",
       "      <td>0</td>\n",
       "      <td>0</td>\n",
       "      <td>0</td>\n",
       "      <td>0</td>\n",
       "      <td>0</td>\n",
       "      <td>0</td>\n",
       "    </tr>\n",
       "    <tr>\n",
       "      <th>3417</th>\n",
       "      <td>chr02</td>\n",
       "      <td>8448011</td>\n",
       "      <td>3351</td>\n",
       "      <td>G</td>\n",
       "      <td>A</td>\n",
       "      <td>.</td>\n",
       "      <td>PASS</td>\n",
       "      <td>.</td>\n",
       "      <td>GT</td>\n",
       "      <td>0</td>\n",
       "      <td>...</td>\n",
       "      <td>0</td>\n",
       "      <td>0</td>\n",
       "      <td>2</td>\n",
       "      <td>0</td>\n",
       "      <td>0</td>\n",
       "      <td>0</td>\n",
       "      <td>0</td>\n",
       "      <td>0</td>\n",
       "      <td>0</td>\n",
       "      <td>0</td>\n",
       "    </tr>\n",
       "    <tr>\n",
       "      <th>3419</th>\n",
       "      <td>chr02</td>\n",
       "      <td>8448013</td>\n",
       "      <td>3352</td>\n",
       "      <td>T</td>\n",
       "      <td>C</td>\n",
       "      <td>.</td>\n",
       "      <td>PASS</td>\n",
       "      <td>.</td>\n",
       "      <td>GT</td>\n",
       "      <td>0</td>\n",
       "      <td>...</td>\n",
       "      <td>0</td>\n",
       "      <td>0</td>\n",
       "      <td>2</td>\n",
       "      <td>0</td>\n",
       "      <td>0</td>\n",
       "      <td>0</td>\n",
       "      <td>0</td>\n",
       "      <td>0</td>\n",
       "      <td>0</td>\n",
       "      <td>0</td>\n",
       "    </tr>\n",
       "    <tr>\n",
       "      <th>3420</th>\n",
       "      <td>chr02</td>\n",
       "      <td>8448013</td>\n",
       "      <td>3455</td>\n",
       "      <td>T</td>\n",
       "      <td>C</td>\n",
       "      <td>.</td>\n",
       "      <td>PASS</td>\n",
       "      <td>.</td>\n",
       "      <td>GT</td>\n",
       "      <td>0</td>\n",
       "      <td>...</td>\n",
       "      <td>0</td>\n",
       "      <td>0</td>\n",
       "      <td>2</td>\n",
       "      <td>0</td>\n",
       "      <td>0</td>\n",
       "      <td>0</td>\n",
       "      <td>0</td>\n",
       "      <td>0</td>\n",
       "      <td>0</td>\n",
       "      <td>0</td>\n",
       "    </tr>\n",
       "    <tr>\n",
       "      <th>3422</th>\n",
       "      <td>chr02</td>\n",
       "      <td>8448045</td>\n",
       "      <td>3456</td>\n",
       "      <td>G</td>\n",
       "      <td>T</td>\n",
       "      <td>.</td>\n",
       "      <td>PASS</td>\n",
       "      <td>.</td>\n",
       "      <td>GT</td>\n",
       "      <td>0</td>\n",
       "      <td>...</td>\n",
       "      <td>0</td>\n",
       "      <td>0</td>\n",
       "      <td>2</td>\n",
       "      <td>0</td>\n",
       "      <td>0</td>\n",
       "      <td>0</td>\n",
       "      <td>0</td>\n",
       "      <td>0</td>\n",
       "      <td>0</td>\n",
       "      <td>0</td>\n",
       "    </tr>\n",
       "  </tbody>\n",
       "</table>\n",
       "<p>14 rows × 185 columns</p>\n",
       "</div>"
      ],
      "text/plain": [
       "     #CHROM      POS   MID REF ALT QUAL FILTER INFO FORMAT  IRIS_313-10340  \\\n",
       "3310  chr02  8446938  3400   T   C    .   PASS    .     GT               0   \n",
       "3311  chr02  8446947  3298   G   A    .   PASS    .     GT               0   \n",
       "3313  chr02  8446951  3299   T   C    .   PASS    .     GT               0   \n",
       "3314  chr02  8446951  3402   T   C    .   PASS    .     GT               0   \n",
       "3316  chr02  8446961  3403   C   A    .   PASS    .     GT               0   \n",
       "3317  chr02  8446962  3301   C   T    .   PASS    .     GT               2   \n",
       "3319  chr02  8446986  3302   G   A    .   PASS    .     GT               0   \n",
       "3413  chr02  8448002  3349   C   A    .   PASS    .     GT               0   \n",
       "3414  chr02  8448002  3452   C   A    .   PASS    .     GT               0   \n",
       "3416  chr02  8448008  3453   T   A    .   PASS    .     GT               0   \n",
       "3417  chr02  8448011  3351   G   A    .   PASS    .     GT               0   \n",
       "3419  chr02  8448013  3352   T   C    .   PASS    .     GT               0   \n",
       "3420  chr02  8448013  3455   T   C    .   PASS    .     GT               0   \n",
       "3422  chr02  8448045  3456   G   T    .   PASS    .     GT               0   \n",
       "\n",
       "      ...  IRIS_313-9397  IRIS_313-9422  IRIS_313-9445  IRIS_313-9594  \\\n",
       "3310  ...              2              2              0              2   \n",
       "3311  ...              0              0              2              0   \n",
       "3313  ...              0              0              2              0   \n",
       "3314  ...              0              0              2              0   \n",
       "3316  ...              0              0              2              0   \n",
       "3317  ...              2              2              0              2   \n",
       "3319  ...              0              0              2              0   \n",
       "3413  ...              0              0              2              0   \n",
       "3414  ...              0              0              2              0   \n",
       "3416  ...              0              0              2              0   \n",
       "3417  ...              0              0              2              0   \n",
       "3419  ...              0              0              2              0   \n",
       "3420  ...              0              0              2              0   \n",
       "3422  ...              0              0              2              0   \n",
       "\n",
       "      IRIS_313-9606  IRIS_313-9617  IRIS_313-9626  IRIS_313-9661  \\\n",
       "3310              2              2              2              2   \n",
       "3311              0              0              0              0   \n",
       "3313              0              0              0              0   \n",
       "3314              0              0              0              0   \n",
       "3316              0              0              0              0   \n",
       "3317              2              2              2              2   \n",
       "3319              0              0              0              0   \n",
       "3413              0              0              0              0   \n",
       "3414              0              0              0              0   \n",
       "3416              0              0              0              0   \n",
       "3417              0              0              0              0   \n",
       "3419              0              0              0              0   \n",
       "3420              0              0              0              0   \n",
       "3422              0              0              0              0   \n",
       "\n",
       "      IRIS_313-9682  IRIS_313-9696  \n",
       "3310              0              0  \n",
       "3311              0              0  \n",
       "3313              0              0  \n",
       "3314              0              0  \n",
       "3316              0              0  \n",
       "3317              0              2  \n",
       "3319              0              0  \n",
       "3413              0              0  \n",
       "3414              0              0  \n",
       "3416              0              0  \n",
       "3417              0              0  \n",
       "3419              0              0  \n",
       "3420              0              0  \n",
       "3422              0              0  \n",
       "\n",
       "[14 rows x 185 columns]"
      ]
     },
     "execution_count": 20,
     "metadata": {},
     "output_type": "execute_result"
    }
   ],
   "source": [
    "tdf"
   ]
  },
  {
   "cell_type": "code",
   "execution_count": 15,
   "metadata": {
    "collapsed": true
   },
   "outputs": [
    {
     "ename": "KeyError",
     "evalue": "3315",
     "output_type": "error",
     "traceback": [
      "\u001b[1;31m---------------------------------------------------------------------------\u001b[0m",
      "\u001b[1;31mKeyError\u001b[0m                                  Traceback (most recent call last)",
      "\u001b[1;32mc:\\users\\michael\\appdata\\local\\programs\\python\\python38\\lib\\site-packages\\pandas\\core\\indexes\\base.py\u001b[0m in \u001b[0;36mget_loc\u001b[1;34m(self, key, method, tolerance)\u001b[0m\n\u001b[0;32m   2890\u001b[0m             \u001b[1;32mtry\u001b[0m\u001b[1;33m:\u001b[0m\u001b[1;33m\u001b[0m\u001b[1;33m\u001b[0m\u001b[0m\n\u001b[1;32m-> 2891\u001b[1;33m                 \u001b[1;32mreturn\u001b[0m \u001b[0mself\u001b[0m\u001b[1;33m.\u001b[0m\u001b[0m_engine\u001b[0m\u001b[1;33m.\u001b[0m\u001b[0mget_loc\u001b[0m\u001b[1;33m(\u001b[0m\u001b[0mcasted_key\u001b[0m\u001b[1;33m)\u001b[0m\u001b[1;33m\u001b[0m\u001b[1;33m\u001b[0m\u001b[0m\n\u001b[0m\u001b[0;32m   2892\u001b[0m             \u001b[1;32mexcept\u001b[0m \u001b[0mKeyError\u001b[0m \u001b[1;32mas\u001b[0m \u001b[0merr\u001b[0m\u001b[1;33m:\u001b[0m\u001b[1;33m\u001b[0m\u001b[1;33m\u001b[0m\u001b[0m\n",
      "\u001b[1;32mpandas\\_libs\\index.pyx\u001b[0m in \u001b[0;36mpandas._libs.index.IndexEngine.get_loc\u001b[1;34m()\u001b[0m\n",
      "\u001b[1;32mpandas\\_libs\\index.pyx\u001b[0m in \u001b[0;36mpandas._libs.index.IndexEngine.get_loc\u001b[1;34m()\u001b[0m\n",
      "\u001b[1;32mpandas\\_libs\\hashtable_class_helper.pxi\u001b[0m in \u001b[0;36mpandas._libs.hashtable.Int64HashTable.get_item\u001b[1;34m()\u001b[0m\n",
      "\u001b[1;32mpandas\\_libs\\hashtable_class_helper.pxi\u001b[0m in \u001b[0;36mpandas._libs.hashtable.Int64HashTable.get_item\u001b[1;34m()\u001b[0m\n",
      "\u001b[1;31mKeyError\u001b[0m: 3315",
      "\nThe above exception was the direct cause of the following exception:\n",
      "\u001b[1;31mKeyError\u001b[0m                                  Traceback (most recent call last)",
      "\u001b[1;32m<ipython-input-15-2f11421b340b>\u001b[0m in \u001b[0;36m<module>\u001b[1;34m\u001b[0m\n\u001b[0;32m     13\u001b[0m         \u001b[0mi\u001b[0m\u001b[1;33m+=\u001b[0m\u001b[1;36m1\u001b[0m\u001b[1;33m\u001b[0m\u001b[1;33m\u001b[0m\u001b[0m\n\u001b[0;32m     14\u001b[0m \u001b[1;33m\u001b[0m\u001b[0m\n\u001b[1;32m---> 15\u001b[1;33m     \u001b[0mx\u001b[0m \u001b[1;33m=\u001b[0m \u001b[1;33m(\u001b[0m\u001b[0mnp\u001b[0m\u001b[1;33m.\u001b[0m\u001b[0mmean\u001b[0m\u001b[1;33m(\u001b[0m\u001b[0mtdf\u001b[0m\u001b[1;33m.\u001b[0m\u001b[0miloc\u001b[0m\u001b[1;33m[\u001b[0m\u001b[1;33m:\u001b[0m\u001b[1;33m,\u001b[0m\u001b[1;36m9\u001b[0m\u001b[1;33m:\u001b[0m\u001b[1;33m]\u001b[0m\u001b[1;33m.\u001b[0m\u001b[0mtranspose\u001b[0m\u001b[1;33m(\u001b[0m\u001b[1;33m)\u001b[0m\u001b[1;33m.\u001b[0m\u001b[0mcorr\u001b[0m\u001b[1;33m(\u001b[0m\u001b[1;33m)\u001b[0m\u001b[1;33m.\u001b[0m\u001b[0mmean\u001b[0m\u001b[1;33m(\u001b[0m\u001b[0maxis\u001b[0m \u001b[1;33m=\u001b[0m \u001b[1;36m1\u001b[0m\u001b[1;33m)\u001b[0m\u001b[1;33m)\u001b[0m \u001b[1;33m-\u001b[0m \u001b[0mtdf\u001b[0m\u001b[1;33m.\u001b[0m\u001b[0miloc\u001b[0m\u001b[1;33m[\u001b[0m\u001b[1;33m:\u001b[0m\u001b[1;33m,\u001b[0m\u001b[1;36m9\u001b[0m\u001b[1;33m:\u001b[0m\u001b[1;33m]\u001b[0m\u001b[1;33m.\u001b[0m\u001b[0mtranspose\u001b[0m\u001b[1;33m(\u001b[0m\u001b[1;33m)\u001b[0m\u001b[1;33m.\u001b[0m\u001b[0mcorr\u001b[0m\u001b[1;33m(\u001b[0m\u001b[1;33m)\u001b[0m\u001b[1;33m.\u001b[0m\u001b[0mmean\u001b[0m\u001b[1;33m(\u001b[0m\u001b[0maxis\u001b[0m \u001b[1;33m=\u001b[0m \u001b[1;36m1\u001b[0m\u001b[1;33m)\u001b[0m\u001b[1;33m[\u001b[0m\u001b[0meyed\u001b[0m\u001b[1;33m]\u001b[0m\u001b[1;33m)\u001b[0m \u001b[1;33m/\u001b[0m \u001b[1;33m(\u001b[0m\u001b[0mnp\u001b[0m\u001b[1;33m.\u001b[0m\u001b[0mstd\u001b[0m\u001b[1;33m(\u001b[0m\u001b[0mtdf\u001b[0m\u001b[1;33m.\u001b[0m\u001b[0miloc\u001b[0m\u001b[1;33m[\u001b[0m\u001b[1;33m:\u001b[0m\u001b[1;33m,\u001b[0m\u001b[1;36m9\u001b[0m\u001b[1;33m:\u001b[0m\u001b[1;33m]\u001b[0m\u001b[1;33m.\u001b[0m\u001b[0mtranspose\u001b[0m\u001b[1;33m(\u001b[0m\u001b[1;33m)\u001b[0m\u001b[1;33m.\u001b[0m\u001b[0mcorr\u001b[0m\u001b[1;33m(\u001b[0m\u001b[1;33m)\u001b[0m\u001b[1;33m.\u001b[0m\u001b[0mmean\u001b[0m\u001b[1;33m(\u001b[0m\u001b[0maxis\u001b[0m \u001b[1;33m=\u001b[0m \u001b[1;36m1\u001b[0m\u001b[1;33m)\u001b[0m\u001b[1;33m)\u001b[0m\u001b[1;33m)\u001b[0m\u001b[1;33m\u001b[0m\u001b[1;33m\u001b[0m\u001b[0m\n\u001b[0m\u001b[0;32m     16\u001b[0m     \u001b[0mp\u001b[0m \u001b[1;33m=\u001b[0m \u001b[1;33m(\u001b[0m\u001b[0mstats\u001b[0m\u001b[1;33m.\u001b[0m\u001b[0mnorm\u001b[0m\u001b[1;33m.\u001b[0m\u001b[0msf\u001b[0m\u001b[1;33m(\u001b[0m\u001b[0mabs\u001b[0m\u001b[1;33m(\u001b[0m\u001b[0mx\u001b[0m\u001b[1;33m)\u001b[0m\u001b[1;33m)\u001b[0m\u001b[1;33m*\u001b[0m\u001b[1;36m2\u001b[0m\u001b[1;33m)\u001b[0m\u001b[1;33m\u001b[0m\u001b[1;33m\u001b[0m\u001b[0m\n\u001b[0;32m     17\u001b[0m     \u001b[0mm\u001b[0m \u001b[1;33m=\u001b[0m \u001b[0mnp\u001b[0m\u001b[1;33m.\u001b[0m\u001b[0mmean\u001b[0m\u001b[1;33m(\u001b[0m\u001b[0mtdf\u001b[0m\u001b[1;33m.\u001b[0m\u001b[0miloc\u001b[0m\u001b[1;33m[\u001b[0m\u001b[1;33m:\u001b[0m\u001b[1;33m,\u001b[0m\u001b[1;36m9\u001b[0m\u001b[1;33m:\u001b[0m\u001b[1;33m]\u001b[0m\u001b[1;33m.\u001b[0m\u001b[0mtranspose\u001b[0m\u001b[1;33m(\u001b[0m\u001b[1;33m)\u001b[0m\u001b[1;33m.\u001b[0m\u001b[0mcorr\u001b[0m\u001b[1;33m(\u001b[0m\u001b[1;33m)\u001b[0m\u001b[1;33m.\u001b[0m\u001b[0mmean\u001b[0m\u001b[1;33m(\u001b[0m\u001b[0maxis\u001b[0m \u001b[1;33m=\u001b[0m \u001b[1;36m1\u001b[0m\u001b[1;33m)\u001b[0m\u001b[1;33m)\u001b[0m\u001b[1;33m\u001b[0m\u001b[1;33m\u001b[0m\u001b[0m\n",
      "\u001b[1;32mc:\\users\\michael\\appdata\\local\\programs\\python\\python38\\lib\\site-packages\\pandas\\core\\series.py\u001b[0m in \u001b[0;36m__getitem__\u001b[1;34m(self, key)\u001b[0m\n\u001b[0;32m    880\u001b[0m \u001b[1;33m\u001b[0m\u001b[0m\n\u001b[0;32m    881\u001b[0m         \u001b[1;32melif\u001b[0m \u001b[0mkey_is_scalar\u001b[0m\u001b[1;33m:\u001b[0m\u001b[1;33m\u001b[0m\u001b[1;33m\u001b[0m\u001b[0m\n\u001b[1;32m--> 882\u001b[1;33m             \u001b[1;32mreturn\u001b[0m \u001b[0mself\u001b[0m\u001b[1;33m.\u001b[0m\u001b[0m_get_value\u001b[0m\u001b[1;33m(\u001b[0m\u001b[0mkey\u001b[0m\u001b[1;33m)\u001b[0m\u001b[1;33m\u001b[0m\u001b[1;33m\u001b[0m\u001b[0m\n\u001b[0m\u001b[0;32m    883\u001b[0m \u001b[1;33m\u001b[0m\u001b[0m\n\u001b[0;32m    884\u001b[0m         if (\n",
      "\u001b[1;32mc:\\users\\michael\\appdata\\local\\programs\\python\\python38\\lib\\site-packages\\pandas\\core\\series.py\u001b[0m in \u001b[0;36m_get_value\u001b[1;34m(self, label, takeable)\u001b[0m\n\u001b[0;32m    989\u001b[0m \u001b[1;33m\u001b[0m\u001b[0m\n\u001b[0;32m    990\u001b[0m         \u001b[1;31m# Similar to Index.get_value, but we do not fall back to positional\u001b[0m\u001b[1;33m\u001b[0m\u001b[1;33m\u001b[0m\u001b[1;33m\u001b[0m\u001b[0m\n\u001b[1;32m--> 991\u001b[1;33m         \u001b[0mloc\u001b[0m \u001b[1;33m=\u001b[0m \u001b[0mself\u001b[0m\u001b[1;33m.\u001b[0m\u001b[0mindex\u001b[0m\u001b[1;33m.\u001b[0m\u001b[0mget_loc\u001b[0m\u001b[1;33m(\u001b[0m\u001b[0mlabel\u001b[0m\u001b[1;33m)\u001b[0m\u001b[1;33m\u001b[0m\u001b[1;33m\u001b[0m\u001b[0m\n\u001b[0m\u001b[0;32m    992\u001b[0m         \u001b[1;32mreturn\u001b[0m \u001b[0mself\u001b[0m\u001b[1;33m.\u001b[0m\u001b[0mindex\u001b[0m\u001b[1;33m.\u001b[0m\u001b[0m_get_values_for_loc\u001b[0m\u001b[1;33m(\u001b[0m\u001b[0mself\u001b[0m\u001b[1;33m,\u001b[0m \u001b[0mloc\u001b[0m\u001b[1;33m,\u001b[0m \u001b[0mlabel\u001b[0m\u001b[1;33m)\u001b[0m\u001b[1;33m\u001b[0m\u001b[1;33m\u001b[0m\u001b[0m\n\u001b[0;32m    993\u001b[0m \u001b[1;33m\u001b[0m\u001b[0m\n",
      "\u001b[1;32mc:\\users\\michael\\appdata\\local\\programs\\python\\python38\\lib\\site-packages\\pandas\\core\\indexes\\base.py\u001b[0m in \u001b[0;36mget_loc\u001b[1;34m(self, key, method, tolerance)\u001b[0m\n\u001b[0;32m   2891\u001b[0m                 \u001b[1;32mreturn\u001b[0m \u001b[0mself\u001b[0m\u001b[1;33m.\u001b[0m\u001b[0m_engine\u001b[0m\u001b[1;33m.\u001b[0m\u001b[0mget_loc\u001b[0m\u001b[1;33m(\u001b[0m\u001b[0mcasted_key\u001b[0m\u001b[1;33m)\u001b[0m\u001b[1;33m\u001b[0m\u001b[1;33m\u001b[0m\u001b[0m\n\u001b[0;32m   2892\u001b[0m             \u001b[1;32mexcept\u001b[0m \u001b[0mKeyError\u001b[0m \u001b[1;32mas\u001b[0m \u001b[0merr\u001b[0m\u001b[1;33m:\u001b[0m\u001b[1;33m\u001b[0m\u001b[1;33m\u001b[0m\u001b[0m\n\u001b[1;32m-> 2893\u001b[1;33m                 \u001b[1;32mraise\u001b[0m \u001b[0mKeyError\u001b[0m\u001b[1;33m(\u001b[0m\u001b[0mkey\u001b[0m\u001b[1;33m)\u001b[0m \u001b[1;32mfrom\u001b[0m \u001b[0merr\u001b[0m\u001b[1;33m\u001b[0m\u001b[1;33m\u001b[0m\u001b[0m\n\u001b[0m\u001b[0;32m   2894\u001b[0m \u001b[1;33m\u001b[0m\u001b[0m\n\u001b[0;32m   2895\u001b[0m         \u001b[1;32mif\u001b[0m \u001b[0mtolerance\u001b[0m \u001b[1;32mis\u001b[0m \u001b[1;32mnot\u001b[0m \u001b[1;32mNone\u001b[0m\u001b[1;33m:\u001b[0m\u001b[1;33m\u001b[0m\u001b[1;33m\u001b[0m\u001b[0m\n",
      "\u001b[1;31mKeyError\u001b[0m: 3315"
     ]
    }
   ],
   "source": [
    "l = []\n",
    "for eyed in df6['MID'].to_list():\n",
    "    i = 5\n",
    "    s = 1\n",
    "    wid = df6[df6['MID'] == eyed]['ID'].to_list()[0]\n",
    "    while s > 0.05 :\n",
    "        tl = df7[(df7['ID'] < (wid + i)) & (df7['ID'] > (wid - i))]['MID'].to_list()\n",
    "        #tl.append(eyed)\n",
    "        tdf = df.loc[tl, :]\n",
    "        \n",
    "        tdf = tdf[(tdf.iloc[:,9:].sum(axis = 1) > 0) & (tdf.iloc[:,9:].sum(axis = 1) < 352)]\n",
    "        s = stats.shapiro(tdf.iloc[:,9:].transpose().corr().fillna(0).values.flatten()).pvalue\n",
    "        i+=1\n",
    "        \n",
    "    x = (np.mean(tdf.iloc[:,9:].transpose().corr().mean(axis = 1)) - tdf.iloc[:,9:].transpose().corr().mean(axis = 1)[eyed]) / (np.std(tdf.iloc[:,9:].transpose().corr().mean(axis = 1)))\n",
    "    p = (stats.norm.sf(abs(x))*2)\n",
    "    m = np.mean(tdf.iloc[:,9:].transpose().corr().mean(axis = 1))\n",
    "    sd = np.std(tdf.iloc[:,9:].transpose().corr().mean(axis = 1))\n",
    "    \n",
    "    wz, wp = stats.wilcoxon(tdf.iloc[:,9:].transpose().corr().values.flatten() - np.median(tdf.iloc[:,9:].transpose().corr().fillna(0)))\n",
    "\n",
    "    \n",
    "    tt = stats.ttest_1samp(tdf.iloc[:,9:].transpose().corr().loc[eyed, :], m)\n",
    "    \n",
    "    l.append((eyed, i, m, sd, x, p, tt.statistic, tt.pvalue))"
   ]
  },
  {
   "cell_type": "code",
   "execution_count": 343,
   "metadata": {},
   "outputs": [],
   "source": [
    "l = []\n",
    "for eyed in df6['MID'].to_list():\n",
    "    i = 5\n",
    "    s = 1\n",
    "    wid = df6[df6['MID'] == eyed]['ID'].to_list()[0]\n",
    "    while s > 0.05 :\n",
    "        tl = df7[(df7['ID'] < (wid + i)) & (df7['ID'] > (wid - i))]['MID'].to_list()\n",
    "        #tl.append(eyed)\n",
    "        tdf = df.loc[tl, :]\n",
    "        \n",
    "        tdf = tdf[(tdf.iloc[:,9:].sum(axis = 1) > 0) & (tdf.iloc[:,9:].sum(axis = 1) < 352)]\n",
    "        \n",
    "        s = stats.shapiro(tdf.iloc[:,9:].transpose().corr().values.flatten()[:int((i**2) / 2)]).pvalue\n",
    "        i+=1\n",
    "        \n",
    "    x = (np.mean(tdf.iloc[:,9:].transpose().corr().mean(axis = 1)) - tdf.iloc[:,9:].transpose().corr().mean(axis = 1)[eyed]) / (np.std(tdf.iloc[:,9:].transpose().corr().mean(axis = 1)))\n",
    "    p = (stats.norm.sf(abs(x))*2)\n",
    "    m = np.mean(tdf.iloc[:,9:].transpose().corr().mean(axis = 1))\n",
    "    sd = np.std(tdf.iloc[:,9:].transpose().corr().mean(axis = 1))\n",
    "    \n",
    "    tt = stats.ttest_1samp(tdf.iloc[:,9:].transpose().corr().loc[eyed, :], m)\n",
    "    \n",
    "    l.append((eyed, i, m, sd, x, p, tt.statistic, tt.pvalue))"
   ]
  },
  {
   "cell_type": "code",
   "execution_count": 25,
   "metadata": {},
   "outputs": [
    {
     "data": {
      "text/plain": [
       "4"
      ]
     },
     "execution_count": 25,
     "metadata": {},
     "output_type": "execute_result"
    }
   ],
   "source": [
    "np.square(2)"
   ]
  },
  {
   "cell_type": "code",
   "execution_count": 40,
   "metadata": {},
   "outputs": [
    {
     "data": {
      "text/plain": [
       "13963"
      ]
     },
     "execution_count": 40,
     "metadata": {},
     "output_type": "execute_result"
    }
   ],
   "source": [
    "tdf[tdf['MID'] == eyed].index[0]"
   ]
  },
  {
   "cell_type": "code",
   "execution_count": 42,
   "metadata": {},
   "outputs": [
    {
     "data": {
      "text/plain": [
       "0.07717645277358703"
      ]
     },
     "execution_count": 42,
     "metadata": {},
     "output_type": "execute_result"
    }
   ],
   "source": [
    "(tdf.iloc[:,9:].transpose().corr() **2)[tdf[tdf['MID'] == eyed].index[0]].mean()"
   ]
  },
  {
   "cell_type": "code",
   "execution_count": 60,
   "metadata": {},
   "outputs": [],
   "source": [
    "df.index = df['MID']"
   ]
  },
  {
   "cell_type": "code",
   "execution_count": 65,
   "metadata": {},
   "outputs": [],
   "source": [
    "#conservation factor whole qtl\n",
    "l = []\n",
    "dists = []\n",
    "for eyed in df6['MID'].to_list():\n",
    "    q = df6[df6['MID'] == eyed]['QTL'].to_list()[0]\n",
    "    tl = df7[(df7['QTL'] == q)]['MID'].to_list()\n",
    "    tl.append(eyed)\n",
    "    tdf = df.loc[tl, :]\n",
    "    #tdf = tdf[(tdf.iloc[:,9:].sum(axis = 1) > 0) & (tdf.iloc[:,9:].sum(axis = 1) < 352)]\n",
    "    x = (tdf.iloc[:,9:].transpose().corr() **2).mean(axis = 1).mean()\n",
    "    y = (tdf.iloc[:,9:].transpose().corr() **2)[tdf[tdf['MID'] == eyed].index[0]].mean()\n",
    "    #x = (np.mean(tdf.iloc[:,9:].transpose().corr().mean(axis = 1)) - tdf.iloc[:,9:].transpose().corr().mean(axis = 1)[eyed]) / (np.std(tdf.iloc[:,9:].transpose().corr().mean(axis = 1)))\n",
    "    #p = stats.norm.sf(abs(x))*2\n",
    "    \n",
    "    #wz, wp = stats.wilcoxon(tdf.iloc[:,9:].transpose().corr().values.flatten() - np.median(tdf.iloc[:,9:].transpose().corr().fillna(0)))\n",
    "    \n",
    "    l.append((eyed, y, x))"
   ]
  },
  {
   "cell_type": "code",
   "execution_count": 66,
   "metadata": {},
   "outputs": [],
   "source": [
    "pd.DataFrame(l).to_clipboard()"
   ]
  },
  {
   "cell_type": "code",
   "execution_count": 384,
   "metadata": {},
   "outputs": [
    {
     "data": {
      "text/plain": [
       "WilcoxonResult(statistic=4964.0, pvalue=0.6093093982732247)"
      ]
     },
     "execution_count": 384,
     "metadata": {},
     "output_type": "execute_result"
    }
   ],
   "source": [
    "stats.wilcoxon(tdf.iloc[:,9:].transpose().corr().values.flatten() - np.median(tdf.iloc[:,9:].transpose().corr().fillna(0)))"
   ]
  },
  {
   "cell_type": "code",
   "execution_count": null,
   "metadata": {},
   "outputs": [],
   "source": []
  },
  {
   "cell_type": "code",
   "execution_count": 394,
   "metadata": {},
   "outputs": [],
   "source": [
    "l = []\n",
    "for eyed in df6['MID'].to_list():\n",
    "    wid = df6[df6['MID'] == eyed]['ID'].to_list()[0]\n",
    "    tl = df7[(df7['ID'] < (wid + 30)) & (df7['ID'] > (wid - 30))]['MID'].to_list()\n",
    "    #tl.append(eyed)\n",
    "    tdf = df.loc[tl, :]\n",
    "\n",
    "    tdf = tdf[(tdf.iloc[:,9:].sum(axis = 1) > 0) & (tdf.iloc[:,9:].sum(axis = 1) < 352)]\n",
    "        \n",
    "    x = (np.mean(tdf.iloc[:,9:].transpose().corr().mean(axis = 1)) - tdf.iloc[:,9:].transpose().corr().mean(axis = 1)[eyed]) / (np.std(tdf.iloc[:,9:].transpose().corr().mean(axis = 1)))\n",
    "    p = (stats.norm.sf(abs(x))*2)\n",
    "    m = np.mean(tdf.iloc[:,9:].transpose().corr().mean(axis = 1))\n",
    "    sd = np.std(tdf.iloc[:,9:].transpose().corr().mean(axis = 1))\n",
    "    \n",
    "    wz, wp = stats.wilcoxon(tdf.iloc[:,9:].transpose().corr().values.flatten() - np.median(tdf.iloc[:,9:].transpose().corr().values.flatten()))\n",
    "\n",
    "    \n",
    "    tt, tp = stats.ttest_1samp(tdf.iloc[:,9:].transpose().corr().loc[eyed, :], m)\n",
    "    \n",
    "    l.append((eyed, x, p, tt, tp))"
   ]
  },
  {
   "cell_type": "code",
   "execution_count": 389,
   "metadata": {},
   "outputs": [
    {
     "data": {
      "text/plain": [
       "array([1.        , 0.3086161 , 0.3086161 , ..., 0.68604465, 1.        ,\n",
       "       1.        ])"
      ]
     },
     "execution_count": 389,
     "metadata": {},
     "output_type": "execute_result"
    }
   ],
   "source": [
    "tdf.iloc[:,9:].transpose().corr().values.flatten()"
   ]
  },
  {
   "cell_type": "code",
   "execution_count": 390,
   "metadata": {},
   "outputs": [
    {
     "data": {
      "text/plain": [
       "0.4325747405876861"
      ]
     },
     "execution_count": 390,
     "metadata": {},
     "output_type": "execute_result"
    }
   ],
   "source": [
    "np.median(tdf.iloc[:,9:].transpose().corr().fillna(0))"
   ]
  },
  {
   "cell_type": "code",
   "execution_count": 402,
   "metadata": {},
   "outputs": [
    {
     "data": {
      "text/plain": [
       "(94, 185)"
      ]
     },
     "execution_count": 402,
     "metadata": {},
     "output_type": "execute_result"
    }
   ],
   "source": [
    "tdf.shape"
   ]
  },
  {
   "cell_type": "code",
   "execution_count": 419,
   "metadata": {},
   "outputs": [
    {
     "data": {
      "text/plain": [
       "1"
      ]
     },
     "execution_count": 419,
     "metadata": {},
     "output_type": "execute_result"
    }
   ],
   "source": [
    "min(sum((tdf.iloc[:, 9:].transpose().corr() > 0.7).values))"
   ]
  },
  {
   "cell_type": "code",
   "execution_count": 441,
   "metadata": {
    "scrolled": true
   },
   "outputs": [],
   "source": [
    "#conservation factor whole qtl\n",
    "l = []\n",
    "for eyed in df6['MID'].to_list():\n",
    "    q = df6[df6['MID'] == eyed]['QTL'].to_list()[0]\n",
    "    tl = df7[(df7['QTL'] == q) & (df7['Effect'] == 'synonymous')]['MID'].to_list()\n",
    "    tl.append(eyed)\n",
    "    tdf = df.loc[tl, :]\n",
    "    tdf = tdf[(tdf.iloc[:,9:].sum(axis = 1) > 0) & (tdf.iloc[:,9:].sum(axis = 1) < 352)]\n",
    "\n",
    "    a = tdf.iloc[:,9:].transpose().corr().loc[eyed, :].mean()\n",
    "    b = np.mean(tdf.iloc[:,9:].transpose().corr().mean())\n",
    "    c = max(tdf.iloc[:,9:].transpose().corr().mean())\n",
    "    \n",
    "    l.append((eyed,a,b,c))"
   ]
  },
  {
   "cell_type": "code",
   "execution_count": 443,
   "metadata": {},
   "outputs": [],
   "source": [
    "pd.DataFrame(l).to_clipboard()"
   ]
  },
  {
   "cell_type": "code",
   "execution_count": null,
   "metadata": {},
   "outputs": [],
   "source": [
    "pd.read_csv('../Figures and tables/S8 Table All SNP substitution effects.csv')[[]]"
   ]
  },
  {
   "cell_type": "code",
   "execution_count": 440,
   "metadata": {},
   "outputs": [],
   "source": [
    "pd.merge(pd.read_excel('../Figures and tables/Nonsense mutants.xlsx').iloc[:,:-4], \n",
    "         pd.read_csv('../Figures and tables/S8 Table All SNP substitution effects.csv')[['MID', 'Frameshift', 'Effect',\n",
    "                                                                                        'Expression cluster', 'annotation',\n",
    "                                                                                        'Transcript']],\n",
    "        on = 'MID', how = 'left').to_clipboard(index = False)"
   ]
  },
  {
   "cell_type": "code",
   "execution_count": null,
   "metadata": {},
   "outputs": [],
   "source": []
  },
  {
   "cell_type": "code",
   "execution_count": 456,
   "metadata": {},
   "outputs": [],
   "source": [
    "l = []\n",
    "for i,r in df.iloc[:,9:].iterrows():\n",
    "    l.append((str(sum((r == 0).values)) + ',' + str(sum((r == 1).values)) + ',' + str(sum((r == 2).values))))"
   ]
  },
  {
   "cell_type": "code",
   "execution_count": 457,
   "metadata": {},
   "outputs": [],
   "source": [
    "ndf = pd.DataFrame(l)"
   ]
  },
  {
   "cell_type": "code",
   "execution_count": 458,
   "metadata": {},
   "outputs": [],
   "source": [
    "ndf['MID'] = ndf.index"
   ]
  },
  {
   "cell_type": "code",
   "execution_count": 459,
   "metadata": {},
   "outputs": [],
   "source": [
    "pd.merge(pd.read_excel('../Figures and tables/Frameshift and nonsense mutants.xlsx'), ndf).to_clipboard()"
   ]
  }
 ],
 "metadata": {
  "kernelspec": {
   "display_name": "Python 3",
   "language": "python",
   "name": "python3"
  },
  "language_info": {
   "codemirror_mode": {
    "name": "ipython",
    "version": 3
   },
   "file_extension": ".py",
   "mimetype": "text/x-python",
   "name": "python",
   "nbconvert_exporter": "python",
   "pygments_lexer": "ipython3",
   "version": "3.8.5"
  }
 },
 "nbformat": 4,
 "nbformat_minor": 4
}
