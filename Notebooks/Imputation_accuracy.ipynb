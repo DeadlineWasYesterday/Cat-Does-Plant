{
 "cells": [
  {
   "cell_type": "markdown",
   "metadata": {},
   "source": [
    "### `Checking accuracy of Beagle imputaion for unphased genotypes`"
   ]
  },
  {
   "cell_type": "code",
   "execution_count": 1,
   "metadata": {},
   "outputs": [],
   "source": [
    "import numpy as np\n",
    "import pandas as pd\n",
    "import io, random"
   ]
  },
  {
   "cell_type": "code",
   "execution_count": 2,
   "metadata": {},
   "outputs": [],
   "source": [
    "#beagle input file\n",
    "df2 = pd.read_csv('WF1BIn.vcf', dtype = str, sep = '\\t')"
   ]
  },
  {
   "cell_type": "code",
   "execution_count": 5,
   "metadata": {},
   "outputs": [],
   "source": [
    "#file with all low quality reads pruned out\n",
    "df = pd.read_csv('Data/WF5.vcf', sep = '\\t', dtype = str)"
   ]
  },
  {
   "cell_type": "code",
   "execution_count": 8,
   "metadata": {},
   "outputs": [
    {
     "name": "stdout",
     "output_type": "stream",
     "text": [
      "[      0       0       0       0       0       0       0       0       0\n",
      " 2874472 3857649 2799325 4726281 3301749 3537549 4037033 3930992 3218906\n",
      " 3972924 2837431 2254358 3449495 2436403 4063303 2803807 4082018 2708513\n",
      " 3546140 3406629 3220540 3118111 2238743 2810325 2803438 3004386 3126578\n",
      " 2635546 3106786 3273131 3270863 3330878 2329633 2871395 3030735 3177805\n",
      " 2759374 2628167 2919120 2919718 3172697 2321844 2424726 2743555 2430074\n",
      " 2162675 2298171 2631293 2499634 2419930 2271308 2629937 3120544 3189847\n",
      " 2147030 2806534 2328451 3468155 1831740 3012437 2548067 2502852 2856732\n",
      " 4039558 2353706 2238359 3356101 3441624 3728029 3672632 3563156 4035371\n",
      " 3409015 3653875 2771728 2424731 2739207 3374964 3247855 3251015 3176276\n",
      " 3425975 3523917 3053148 3245887 2752068 2271806 3389008 2911998 2769384\n",
      " 2948151 2701989 2564260 2718250 2771075 3275112 2583308 2437813 2861584\n",
      " 2871626 2306240 2641850 3120324 2769401 2695188 3305684 2873969 2929568\n",
      " 2529207 2956630 3262099 2955463 3312002 2515151 2447338 3445855 2792330\n",
      " 2822012 2811440 1965597 2355258 2818926 2882930 2703329 1897276 2568264\n",
      " 3131660 3476780 3705133 2806933 2667359 2645681 2929479 2920489 3422039\n",
      " 2419495 3151218 2186758 2774975 2941621 2733699 3214749 3307260 3193326\n",
      " 3188131 3651614 2331813 2341646 2942609 3031785 3016534 1859405 2329518\n",
      " 2871770 4204920 3058398 2238510 2480761 2363452 2871139 3355283 2326753\n",
      " 2844300 3163909 3178143 3075164 2782557 2746160 3007224 2555779 2967863\n",
      " 2777039 2784665 2980957 2321093 3057217]\n"
     ]
    }
   ],
   "source": [
    "#total missing values per genotype\n",
    "print(sum((df2 == './.').values)[9:])"
   ]
  },
  {
   "cell_type": "code",
   "execution_count": 9,
   "metadata": {},
   "outputs": [
    {
     "name": "stdout",
     "output_type": "stream",
     "text": [
      "515810139\n"
     ]
    }
   ],
   "source": [
    "#total missing values across 176 genotypes\n",
    "print(sum(sum((df2 == './.').values)))"
   ]
  },
  {
   "cell_type": "code",
   "execution_count": 10,
   "metadata": {},
   "outputs": [
    {
     "data": {
      "text/plain": [
       "2930739.4261363638"
      ]
     },
     "execution_count": 10,
     "metadata": {},
     "output_type": "execute_result"
    }
   ],
   "source": [
    "#mean missing values per genotype\n",
    "print(np.mean(sum((df2 == './.').values)[9:]))"
   ]
  },
  {
   "cell_type": "code",
   "execution_count": 11,
   "metadata": {},
   "outputs": [
    {
     "data": {
      "text/plain": [
       "492558.1607233916"
      ]
     },
     "execution_count": 11,
     "metadata": {},
     "output_type": "execute_result"
    }
   ],
   "source": [
    "#standard deviation of missing values per genotype\n",
    "print(np.std(sum((df2 == './.').values)[9:]))"
   ]
  },
  {
   "cell_type": "code",
   "execution_count": 12,
   "metadata": {},
   "outputs": [
    {
     "data": {
      "text/plain": [
       "(15241544, 185)"
      ]
     },
     "execution_count": 12,
     "metadata": {},
     "output_type": "execute_result"
    }
   ],
   "source": [
    "#total number of markers\n",
    "print(df2.shape)"
   ]
  },
  {
   "cell_type": "code",
   "execution_count": 13,
   "metadata": {},
   "outputs": [
    {
     "data": {
      "text/plain": [
       "(1846835, 185)"
      ]
     },
     "execution_count": 13,
     "metadata": {},
     "output_type": "execute_result"
    }
   ],
   "source": [
    "#number of high-quality markers\n",
    "print(df.shape)"
   ]
  },
  {
   "cell_type": "code",
   "execution_count": 15,
   "metadata": {},
   "outputs": [
    {
     "data": {
      "text/plain": [
       "355120.98695962504"
      ]
     },
     "execution_count": 15,
     "metadata": {},
     "output_type": "execute_result"
    }
   ],
   "source": [
    "#mean number of values to remove from high-quality markers\n",
    "(2930739.4261363638 / 15241544 ) * 1846835"
   ]
  },
  {
   "cell_type": "code",
   "execution_count": 16,
   "metadata": {},
   "outputs": [
    {
     "data": {
      "text/plain": [
       "59683.82538931652"
      ]
     },
     "execution_count": 16,
     "metadata": {},
     "output_type": "execute_result"
    }
   ],
   "source": [
    "#standard deviation of number of values to remove from high-quality markers\n",
    "(492558.1607233916 / 15241544 ) * 1846835"
   ]
  },
  {
   "cell_type": "code",
   "execution_count": 24,
   "metadata": {},
   "outputs": [],
   "source": [
    "#random number of values to remove per genotype\n",
    "N = np.random.normal(355120, 59683, 176).astype(int)"
   ]
  },
  {
   "cell_type": "code",
   "execution_count": 27,
   "metadata": {},
   "outputs": [
    {
     "data": {
      "text/plain": [
       "array([296069, 409581, 282002, 411685, 368703, 388273, 333928, 300186,\n",
       "       300500, 294331, 349339, 226057, 355426, 231293, 228217, 264248,\n",
       "       380727, 419913, 281164, 464457, 411533, 359043, 442613, 364218,\n",
       "       403368, 312722, 465576, 354282, 293560, 261720, 311655, 288554,\n",
       "       222935, 406910, 344652, 368854, 488672, 395219, 450101, 371776,\n",
       "       424370, 357627, 352196, 375322, 274208, 210674, 294040, 404608,\n",
       "       162581, 306280, 381572, 473054, 368065, 337088, 395120, 322983,\n",
       "       417392, 370206, 368457, 397815, 410769, 321900, 329495, 371617,\n",
       "       351502, 413438, 330410, 354216, 388019, 372834, 262623, 374372,\n",
       "       417991, 374482, 437222, 343002, 398370, 359276, 323942, 301679,\n",
       "       250591, 445105, 323776, 288710, 231968, 366685, 376805, 349361,\n",
       "       351563, 265854, 337252, 462942, 375476, 356112, 421106, 323331,\n",
       "       329535, 342214, 320204, 313897, 356871, 356416, 372938, 417526,\n",
       "       355141, 371279, 307119, 391982, 360885, 374552, 364367, 354136,\n",
       "       377008, 320579, 299392, 331571, 333159, 374878, 447423, 329503,\n",
       "       280958, 378490, 345061, 378329, 388632, 293817, 348848, 400258,\n",
       "       344930, 410087, 281245, 217272, 279679, 303475, 344771, 292074,\n",
       "       350249, 332665, 382177, 267785, 303767, 379526, 367718, 247800,\n",
       "       350328, 335992, 322231, 411768, 339607, 315874, 371602, 306090,\n",
       "       295450, 417238, 425415, 373752, 323476, 403167, 416654, 337328,\n",
       "       392043, 374840, 370364, 221639, 407881, 328277, 273293, 400048,\n",
       "       412356, 320376, 358699, 311816, 250512, 339219, 407889, 283592])"
      ]
     },
     "execution_count": 27,
     "metadata": {},
     "output_type": "execute_result"
    }
   ],
   "source": [
    "N"
   ]
  },
  {
   "cell_type": "code",
   "execution_count": 23,
   "metadata": {},
   "outputs": [],
   "source": [
    "#load two copies of hq markers\n",
    "df = pd.read_csv('Data/WF5.vcf', sep = '\\t', dtype = str)\n",
    "df3 = pd.read_csv('Data/WF5.vcf', sep = '\\t', dtype = str)"
   ]
  },
  {
   "cell_type": "code",
   "execution_count": 31,
   "metadata": {},
   "outputs": [],
   "source": [
    "#remove values according to N\n",
    "for i in range(176):\n",
    "    p = random.sample(range(1846835), N[i])\n",
    "    df3.iloc[p, 9+i] = './.'"
   ]
  },
  {
   "cell_type": "code",
   "execution_count": 34,
   "metadata": {},
   "outputs": [
    {
     "data": {
      "text/plain": [
       "array([ True,  True,  True,  True,  True,  True,  True,  True,  True,\n",
       "        True,  True,  True,  True,  True,  True,  True,  True,  True,\n",
       "        True,  True,  True,  True,  True,  True,  True,  True,  True,\n",
       "        True,  True,  True,  True,  True,  True,  True,  True,  True,\n",
       "        True,  True,  True,  True,  True,  True,  True,  True,  True,\n",
       "        True,  True,  True,  True,  True,  True,  True,  True,  True,\n",
       "        True,  True,  True,  True,  True,  True,  True,  True,  True,\n",
       "        True,  True,  True,  True,  True,  True,  True,  True,  True,\n",
       "        True,  True,  True,  True,  True,  True,  True,  True,  True,\n",
       "        True,  True,  True,  True,  True,  True,  True,  True,  True,\n",
       "        True,  True,  True,  True,  True,  True,  True,  True,  True,\n",
       "        True,  True,  True,  True,  True,  True,  True,  True,  True,\n",
       "        True,  True,  True,  True,  True,  True,  True,  True,  True,\n",
       "        True,  True,  True,  True,  True,  True,  True,  True,  True,\n",
       "        True,  True,  True,  True,  True,  True,  True,  True,  True,\n",
       "        True,  True,  True,  True,  True,  True,  True,  True,  True,\n",
       "        True,  True,  True,  True,  True,  True,  True,  True,  True,\n",
       "        True,  True,  True,  True,  True,  True,  True,  True,  True,\n",
       "        True,  True,  True,  True,  True,  True,  True,  True,  True,\n",
       "        True,  True,  True,  True,  True])"
      ]
     },
     "execution_count": 34,
     "metadata": {},
     "output_type": "execute_result"
    }
   ],
   "source": [
    "#make sure correct number of values are gone\n",
    "(sum((df3 == './.').values)[9:]) == N"
   ]
  },
  {
   "cell_type": "code",
   "execution_count": 35,
   "metadata": {},
   "outputs": [],
   "source": [
    "#save as vcf and send to beagle\n",
    "df3.to_csv('AcTestIn.vcf', index = False, sep = '\\t')"
   ]
  },
  {
   "cell_type": "code",
   "execution_count": 36,
   "metadata": {},
   "outputs": [],
   "source": [
    "#take beagle out and convert to comparable tabular format\n",
    "with open('Beagle Cave/AcTestOut.vcf', 'r') as f:\n",
    "    lines = []\n",
    "    for line in f:\n",
    "        if line[:2] != '##':\n",
    "            lines.append(line.replace('|', '/'))\n",
    "\n",
    "\n",
    "lines = ''.join(lines)\n",
    "df3 = pd.read_csv(io.StringIO(lines), sep='\\t')"
   ]
  },
  {
   "cell_type": "code",
   "execution_count": 46,
   "metadata": {},
   "outputs": [
    {
     "data": {
      "text/html": [
       "<div>\n",
       "<style scoped>\n",
       "    .dataframe tbody tr th:only-of-type {\n",
       "        vertical-align: middle;\n",
       "    }\n",
       "\n",
       "    .dataframe tbody tr th {\n",
       "        vertical-align: top;\n",
       "    }\n",
       "\n",
       "    .dataframe thead th {\n",
       "        text-align: right;\n",
       "    }\n",
       "</style>\n",
       "<table border=\"1\" class=\"dataframe\">\n",
       "  <thead>\n",
       "    <tr style=\"text-align: right;\">\n",
       "      <th></th>\n",
       "      <th>#CHROM</th>\n",
       "      <th>POS</th>\n",
       "      <th>ID</th>\n",
       "      <th>REF</th>\n",
       "      <th>ALT</th>\n",
       "      <th>QUAL</th>\n",
       "      <th>FILTER</th>\n",
       "      <th>INFO</th>\n",
       "      <th>FORMAT</th>\n",
       "      <th>IRIS_313-10340</th>\n",
       "      <th>...</th>\n",
       "      <th>IRIS_313-9397</th>\n",
       "      <th>IRIS_313-9422</th>\n",
       "      <th>IRIS_313-9445</th>\n",
       "      <th>IRIS_313-9594</th>\n",
       "      <th>IRIS_313-9606</th>\n",
       "      <th>IRIS_313-9617</th>\n",
       "      <th>IRIS_313-9626</th>\n",
       "      <th>IRIS_313-9661</th>\n",
       "      <th>IRIS_313-9682</th>\n",
       "      <th>IRIS_313-9696</th>\n",
       "    </tr>\n",
       "  </thead>\n",
       "  <tbody>\n",
       "    <tr>\n",
       "      <th>0</th>\n",
       "      <td>chr01</td>\n",
       "      <td>1445</td>\n",
       "      <td>34</td>\n",
       "      <td>T</td>\n",
       "      <td>A</td>\n",
       "      <td>.</td>\n",
       "      <td>PASS</td>\n",
       "      <td>.</td>\n",
       "      <td>GT</td>\n",
       "      <td>0/0</td>\n",
       "      <td>...</td>\n",
       "      <td>0/0</td>\n",
       "      <td>0/0</td>\n",
       "      <td>0/0</td>\n",
       "      <td>0/0</td>\n",
       "      <td>0/0</td>\n",
       "      <td>0/0</td>\n",
       "      <td>0/0</td>\n",
       "      <td>0/0</td>\n",
       "      <td>0/0</td>\n",
       "      <td>0/0</td>\n",
       "    </tr>\n",
       "    <tr>\n",
       "      <th>1</th>\n",
       "      <td>chr01</td>\n",
       "      <td>1452</td>\n",
       "      <td>35</td>\n",
       "      <td>A</td>\n",
       "      <td>G</td>\n",
       "      <td>.</td>\n",
       "      <td>PASS</td>\n",
       "      <td>.</td>\n",
       "      <td>GT</td>\n",
       "      <td>0/0</td>\n",
       "      <td>...</td>\n",
       "      <td>0/0</td>\n",
       "      <td>0/0</td>\n",
       "      <td>0/0</td>\n",
       "      <td>0/0</td>\n",
       "      <td>0/0</td>\n",
       "      <td>0/0</td>\n",
       "      <td>0/0</td>\n",
       "      <td>0/0</td>\n",
       "      <td>0/0</td>\n",
       "      <td>0/0</td>\n",
       "    </tr>\n",
       "    <tr>\n",
       "      <th>2</th>\n",
       "      <td>chr01</td>\n",
       "      <td>1527</td>\n",
       "      <td>38</td>\n",
       "      <td>T</td>\n",
       "      <td>TA</td>\n",
       "      <td>.</td>\n",
       "      <td>PASS</td>\n",
       "      <td>.</td>\n",
       "      <td>GT</td>\n",
       "      <td>0/0</td>\n",
       "      <td>...</td>\n",
       "      <td>0/0</td>\n",
       "      <td>0/1</td>\n",
       "      <td>0/0</td>\n",
       "      <td>0/0</td>\n",
       "      <td>0/0</td>\n",
       "      <td>0/0</td>\n",
       "      <td>1/1</td>\n",
       "      <td>1/1</td>\n",
       "      <td>0/0</td>\n",
       "      <td>0/0</td>\n",
       "    </tr>\n",
       "    <tr>\n",
       "      <th>3</th>\n",
       "      <td>chr01</td>\n",
       "      <td>1561</td>\n",
       "      <td>41</td>\n",
       "      <td>CAT</td>\n",
       "      <td>C</td>\n",
       "      <td>.</td>\n",
       "      <td>PASS</td>\n",
       "      <td>.</td>\n",
       "      <td>GT</td>\n",
       "      <td>0/0</td>\n",
       "      <td>...</td>\n",
       "      <td>0/0</td>\n",
       "      <td>0/0</td>\n",
       "      <td>0/0</td>\n",
       "      <td>0/0</td>\n",
       "      <td>0/0</td>\n",
       "      <td>0/0</td>\n",
       "      <td>0/0</td>\n",
       "      <td>0/0</td>\n",
       "      <td>0/0</td>\n",
       "      <td>0/0</td>\n",
       "    </tr>\n",
       "    <tr>\n",
       "      <th>4</th>\n",
       "      <td>chr01</td>\n",
       "      <td>1579</td>\n",
       "      <td>43</td>\n",
       "      <td>G</td>\n",
       "      <td>A</td>\n",
       "      <td>.</td>\n",
       "      <td>PASS</td>\n",
       "      <td>.</td>\n",
       "      <td>GT</td>\n",
       "      <td>0/0</td>\n",
       "      <td>...</td>\n",
       "      <td>0/0</td>\n",
       "      <td>0/0</td>\n",
       "      <td>0/0</td>\n",
       "      <td>0/0</td>\n",
       "      <td>0/0</td>\n",
       "      <td>0/0</td>\n",
       "      <td>0/0</td>\n",
       "      <td>0/0</td>\n",
       "      <td>0/0</td>\n",
       "      <td>0/0</td>\n",
       "    </tr>\n",
       "    <tr>\n",
       "      <th>...</th>\n",
       "      <td>...</td>\n",
       "      <td>...</td>\n",
       "      <td>...</td>\n",
       "      <td>...</td>\n",
       "      <td>...</td>\n",
       "      <td>...</td>\n",
       "      <td>...</td>\n",
       "      <td>...</td>\n",
       "      <td>...</td>\n",
       "      <td>...</td>\n",
       "      <td>...</td>\n",
       "      <td>...</td>\n",
       "      <td>...</td>\n",
       "      <td>...</td>\n",
       "      <td>...</td>\n",
       "      <td>...</td>\n",
       "      <td>...</td>\n",
       "      <td>...</td>\n",
       "      <td>...</td>\n",
       "      <td>...</td>\n",
       "      <td>...</td>\n",
       "    </tr>\n",
       "    <tr>\n",
       "      <th>1846830</th>\n",
       "      <td>chr12</td>\n",
       "      <td>27529373</td>\n",
       "      <td>15241451</td>\n",
       "      <td>G</td>\n",
       "      <td>A</td>\n",
       "      <td>.</td>\n",
       "      <td>PASS</td>\n",
       "      <td>.</td>\n",
       "      <td>GT</td>\n",
       "      <td>0/0</td>\n",
       "      <td>...</td>\n",
       "      <td>0/0</td>\n",
       "      <td>0/0</td>\n",
       "      <td>0/0</td>\n",
       "      <td>0/0</td>\n",
       "      <td>0/0</td>\n",
       "      <td>0/0</td>\n",
       "      <td>0/0</td>\n",
       "      <td>0/0</td>\n",
       "      <td>0/0</td>\n",
       "      <td>0/0</td>\n",
       "    </tr>\n",
       "    <tr>\n",
       "      <th>1846831</th>\n",
       "      <td>chr12</td>\n",
       "      <td>27529385</td>\n",
       "      <td>15241452</td>\n",
       "      <td>G</td>\n",
       "      <td>C</td>\n",
       "      <td>.</td>\n",
       "      <td>PASS</td>\n",
       "      <td>.</td>\n",
       "      <td>GT</td>\n",
       "      <td>0/0</td>\n",
       "      <td>...</td>\n",
       "      <td>0/0</td>\n",
       "      <td>0/0</td>\n",
       "      <td>0/0</td>\n",
       "      <td>0/0</td>\n",
       "      <td>0/0</td>\n",
       "      <td>0/0</td>\n",
       "      <td>0/0</td>\n",
       "      <td>0/0</td>\n",
       "      <td>0/0</td>\n",
       "      <td>0/0</td>\n",
       "    </tr>\n",
       "    <tr>\n",
       "      <th>1846832</th>\n",
       "      <td>chr12</td>\n",
       "      <td>27529391</td>\n",
       "      <td>15241453</td>\n",
       "      <td>T</td>\n",
       "      <td>G</td>\n",
       "      <td>.</td>\n",
       "      <td>PASS</td>\n",
       "      <td>.</td>\n",
       "      <td>GT</td>\n",
       "      <td>0/0</td>\n",
       "      <td>...</td>\n",
       "      <td>0/0</td>\n",
       "      <td>0/0</td>\n",
       "      <td>0/0</td>\n",
       "      <td>0/0</td>\n",
       "      <td>0/0</td>\n",
       "      <td>0/0</td>\n",
       "      <td>0/0</td>\n",
       "      <td>0/0</td>\n",
       "      <td>0/0</td>\n",
       "      <td>0/0</td>\n",
       "    </tr>\n",
       "    <tr>\n",
       "      <th>1846833</th>\n",
       "      <td>chr12</td>\n",
       "      <td>27529460</td>\n",
       "      <td>15241454</td>\n",
       "      <td>A</td>\n",
       "      <td>G</td>\n",
       "      <td>.</td>\n",
       "      <td>PASS</td>\n",
       "      <td>.</td>\n",
       "      <td>GT</td>\n",
       "      <td>0/0</td>\n",
       "      <td>...</td>\n",
       "      <td>0/0</td>\n",
       "      <td>0/0</td>\n",
       "      <td>0/0</td>\n",
       "      <td>0/0</td>\n",
       "      <td>0/0</td>\n",
       "      <td>0/0</td>\n",
       "      <td>0/0</td>\n",
       "      <td>0/0</td>\n",
       "      <td>0/0</td>\n",
       "      <td>0/0</td>\n",
       "    </tr>\n",
       "    <tr>\n",
       "      <th>1846834</th>\n",
       "      <td>chr12</td>\n",
       "      <td>27529469</td>\n",
       "      <td>15241455</td>\n",
       "      <td>G</td>\n",
       "      <td>A</td>\n",
       "      <td>.</td>\n",
       "      <td>PASS</td>\n",
       "      <td>.</td>\n",
       "      <td>GT</td>\n",
       "      <td>0/0</td>\n",
       "      <td>...</td>\n",
       "      <td>0/0</td>\n",
       "      <td>0/0</td>\n",
       "      <td>0/0</td>\n",
       "      <td>0/0</td>\n",
       "      <td>0/0</td>\n",
       "      <td>0/0</td>\n",
       "      <td>1/1</td>\n",
       "      <td>0/0</td>\n",
       "      <td>0/0</td>\n",
       "      <td>0/0</td>\n",
       "    </tr>\n",
       "  </tbody>\n",
       "</table>\n",
       "<p>1846835 rows × 185 columns</p>\n",
       "</div>"
      ],
      "text/plain": [
       "        #CHROM       POS        ID  REF ALT QUAL FILTER INFO FORMAT  \\\n",
       "0        chr01      1445        34    T   A    .   PASS    .     GT   \n",
       "1        chr01      1452        35    A   G    .   PASS    .     GT   \n",
       "2        chr01      1527        38    T  TA    .   PASS    .     GT   \n",
       "3        chr01      1561        41  CAT   C    .   PASS    .     GT   \n",
       "4        chr01      1579        43    G   A    .   PASS    .     GT   \n",
       "...        ...       ...       ...  ...  ..  ...    ...  ...    ...   \n",
       "1846830  chr12  27529373  15241451    G   A    .   PASS    .     GT   \n",
       "1846831  chr12  27529385  15241452    G   C    .   PASS    .     GT   \n",
       "1846832  chr12  27529391  15241453    T   G    .   PASS    .     GT   \n",
       "1846833  chr12  27529460  15241454    A   G    .   PASS    .     GT   \n",
       "1846834  chr12  27529469  15241455    G   A    .   PASS    .     GT   \n",
       "\n",
       "        IRIS_313-10340  ... IRIS_313-9397 IRIS_313-9422 IRIS_313-9445  \\\n",
       "0                  0/0  ...           0/0           0/0           0/0   \n",
       "1                  0/0  ...           0/0           0/0           0/0   \n",
       "2                  0/0  ...           0/0           0/1           0/0   \n",
       "3                  0/0  ...           0/0           0/0           0/0   \n",
       "4                  0/0  ...           0/0           0/0           0/0   \n",
       "...                ...  ...           ...           ...           ...   \n",
       "1846830            0/0  ...           0/0           0/0           0/0   \n",
       "1846831            0/0  ...           0/0           0/0           0/0   \n",
       "1846832            0/0  ...           0/0           0/0           0/0   \n",
       "1846833            0/0  ...           0/0           0/0           0/0   \n",
       "1846834            0/0  ...           0/0           0/0           0/0   \n",
       "\n",
       "        IRIS_313-9594 IRIS_313-9606 IRIS_313-9617 IRIS_313-9626 IRIS_313-9661  \\\n",
       "0                 0/0           0/0           0/0           0/0           0/0   \n",
       "1                 0/0           0/0           0/0           0/0           0/0   \n",
       "2                 0/0           0/0           0/0           1/1           1/1   \n",
       "3                 0/0           0/0           0/0           0/0           0/0   \n",
       "4                 0/0           0/0           0/0           0/0           0/0   \n",
       "...               ...           ...           ...           ...           ...   \n",
       "1846830           0/0           0/0           0/0           0/0           0/0   \n",
       "1846831           0/0           0/0           0/0           0/0           0/0   \n",
       "1846832           0/0           0/0           0/0           0/0           0/0   \n",
       "1846833           0/0           0/0           0/0           0/0           0/0   \n",
       "1846834           0/0           0/0           0/0           1/1           0/0   \n",
       "\n",
       "        IRIS_313-9682 IRIS_313-9696  \n",
       "0                 0/0           0/0  \n",
       "1                 0/0           0/0  \n",
       "2                 0/0           0/0  \n",
       "3                 0/0           0/0  \n",
       "4                 0/0           0/0  \n",
       "...               ...           ...  \n",
       "1846830           0/0           0/0  \n",
       "1846831           0/0           0/0  \n",
       "1846832           0/0           0/0  \n",
       "1846833           0/0           0/0  \n",
       "1846834           0/0           0/0  \n",
       "\n",
       "[1846835 rows x 185 columns]"
      ]
     },
     "execution_count": 46,
     "metadata": {},
     "output_type": "execute_result"
    }
   ],
   "source": [
    "df"
   ]
  },
  {
   "cell_type": "code",
   "execution_count": 47,
   "metadata": {},
   "outputs": [
    {
     "name": "stdout",
     "output_type": "stream",
     "text": [
      "[ 6610 16108 15343 14584  8500  9094  9688  7974  7211  8195  6645  3477\n",
      "  8487  2827  6483  5058 17566  6351 11122 24506 12371  8598  5887  6272\n",
      "  9176  8407 12766 10410  8045  6838  8311  7794  3302  9179  7539  9456\n",
      "  8395  5874  8445  7096 10763  9137  4553  5935  4048  3790  3769  4294\n",
      "  2497  3358  4729  8439  8193  8826  6369  5990  6087 12396  5850  8048\n",
      "  7696  6422  8101 13452  7109  6386  7961 16892 13296 13909 22132 14088\n",
      " 11067 11140 10899  5034  8298 10623  8236  9500  6511 13567 10299  7971\n",
      "  7659 14837  8650 11272  6516  4516  7735 32531  5334  6734  6826  8470\n",
      "  7786  4367  5843  6155  8718  6185  9473 11280  5263 10117  7182  9157\n",
      " 10528  8286 10461  8996 12928  4952  6911 24721  7049  8885  7712  5030\n",
      "  4629  7763  8046  8887  8996  5247  9470 12410 14037  9302  4995  4438\n",
      "  5805 17964 10253  4992  8152  4975  8161  5216  6298  9953 10412  8254\n",
      " 10135 10643  4688  7230  9253  8172  9812  6682  4995  8428 34057  9185\n",
      "  5529  6142 11500  6445 10604  4831  6587  5626 10084  7416  5450 10812\n",
      " 23300  4919  7862  6737  5316  8298 10904  6508]\n"
     ]
    }
   ],
   "source": [
    "#convert to unphased alleles\n",
    "#print number of mismatches per genotype\n",
    "print(sum(df.apply(lambda x: x.replace('1/0', '0/1')).iloc[:, 9:].values != df3.apply(lambda x: x.replace('1/0', '0/1')).iloc[:, 9:].values))"
   ]
  },
  {
   "cell_type": "code",
   "execution_count": 48,
   "metadata": {},
   "outputs": [
    {
     "name": "stdout",
     "output_type": "stream",
     "text": [
      "1553520\n"
     ]
    }
   ],
   "source": [
    "#total number of mismatches\n",
    "print(sum(sum(df.apply(lambda x: x.replace('1/0', '0/1')).iloc[:, 9:].values != df3.apply(lambda x: x.replace('1/0', '0/1')).iloc[:, 9:].values)))"
   ]
  },
  {
   "cell_type": "code",
   "execution_count": 49,
   "metadata": {},
   "outputs": [
    {
     "name": "stdout",
     "output_type": "stream",
     "text": [
      "8826.818181818182\n"
     ]
    }
   ],
   "source": [
    "#mean number of mismatches per genotype\n",
    "print(np.mean(sum(df.apply(lambda x: x.replace('1/0', '0/1')).iloc[:, 9:].values != df3.apply(lambda x: x.replace('1/0', '0/1')).iloc[:, 9:].values)))"
   ]
  },
  {
   "cell_type": "code",
   "execution_count": 50,
   "metadata": {},
   "outputs": [
    {
     "name": "stdout",
     "output_type": "stream",
     "text": [
      "4546.471975222942\n"
     ]
    }
   ],
   "source": [
    "#standard deviation of number of mismatches per genotype\n",
    "print(np.std(sum(df.apply(lambda x: x.replace('1/0', '0/1')).iloc[:, 9:].values != df3.apply(lambda x: x.replace('1/0', '0/1')).iloc[:, 9:].values)))"
   ]
  },
  {
   "cell_type": "code",
   "execution_count": 52,
   "metadata": {},
   "outputs": [
    {
     "data": {
      "text/plain": [
       "325042960"
      ]
     },
     "execution_count": 52,
     "metadata": {},
     "output_type": "execute_result"
    }
   ],
   "source": [
    "#total number of high-quality markers\n",
    "1846835 * 176"
   ]
  },
  {
   "cell_type": "code",
   "execution_count": 51,
   "metadata": {},
   "outputs": [
    {
     "data": {
      "text/plain": [
       "0.004779429771375451"
      ]
     },
     "execution_count": 51,
     "metadata": {},
     "output_type": "execute_result"
    }
   ],
   "source": [
    "#proportion of incorrect imputations\n",
    "1553520 / (1846835 * 176)"
   ]
  },
  {
   "cell_type": "code",
   "execution_count": 3,
   "metadata": {},
   "outputs": [
    {
     "data": {
      "text/plain": [
       "0.9952205702286245"
      ]
     },
     "execution_count": 3,
     "metadata": {},
     "output_type": "execute_result"
    }
   ],
   "source": [
    "1 - 0.004779429771375451"
   ]
  },
  {
   "cell_type": "markdown",
   "metadata": {},
   "source": [
    "## Accuracy is >99.5%"
   ]
  }
 ],
 "metadata": {
  "kernelspec": {
   "display_name": "Python 3",
   "language": "python",
   "name": "python3"
  },
  "language_info": {
   "codemirror_mode": {
    "name": "ipython",
    "version": 3
   },
   "file_extension": ".py",
   "mimetype": "text/x-python",
   "name": "python",
   "nbconvert_exporter": "python",
   "pygments_lexer": "ipython3",
   "version": "3.8.5"
  }
 },
 "nbformat": 4,
 "nbformat_minor": 4
}
